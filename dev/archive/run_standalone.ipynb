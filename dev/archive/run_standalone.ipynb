{
 "cells": [
  {
   "cell_type": "markdown",
   "id": "4c3b28f8",
   "metadata": {},
   "source": [
    "# Battery Optimization"
   ]
  },
  {
   "cell_type": "markdown",
   "id": "408e3da0",
   "metadata": {},
   "source": [
    "## Setup"
   ]
  },
  {
   "cell_type": "code",
   "execution_count": 51,
   "id": "62bce6f3",
   "metadata": {},
   "outputs": [],
   "source": [
    "# Core\n",
    "from datetime import datetime\n",
    "\n",
    "# Installed\n",
    "import pandas as pd\n",
    "import numpy as np\n",
    "import pulp as pl\n",
    "import plotly.graph_objects as go\n",
    "from plotly.subplots import make_subplots\n",
    "\n",
    "# Local\n",
    "from models import Battery\n",
    "\n",
    "np.random.seed(42)  # The Answer to the Ultimate Question of Life, The Universe, and Everything"
   ]
  },
  {
   "cell_type": "markdown",
   "id": "77d25c61",
   "metadata": {},
   "source": [
    "## Mocking data"
   ]
  },
  {
   "cell_type": "code",
   "execution_count": 52,
   "id": "ba997218",
   "metadata": {},
   "outputs": [
    {
     "name": "stdout",
     "output_type": "stream",
     "text": [
      "Generated 35136 data points for 2024\n",
      "Date range: 2024-01-01 00:00:00 to 2024-12-31 23:45:00\n",
      "\n",
      "DataFrame columns: ['DayOfYear', 'HourOfDay', 'DayOfWeek', 'HomeGeneration', 'HomeConsumption', 'PriceSignal']\n",
      "\n",
      "Sample data preview:\n",
      "                     DayOfYear  HourOfDay  DayOfWeek  HomeGeneration  \\\n",
      "2024-01-01 00:00:00          1       0.00          0             0.0   \n",
      "2024-01-01 00:15:00          1       0.25          0             0.0   \n",
      "2024-01-01 00:30:00          1       0.50          0             0.0   \n",
      "2024-01-01 00:45:00          1       0.75          0             0.0   \n",
      "2024-01-01 01:00:00          1       1.00          0             0.0   \n",
      "\n",
      "                     HomeConsumption  PriceSignal  \n",
      "2024-01-01 00:00:00         3.035247   100.649966  \n",
      "2024-01-01 00:15:00         4.198418   108.187603  \n",
      "2024-01-01 00:30:00         3.015899   120.303569  \n",
      "2024-01-01 00:45:00         2.898689   105.608502  \n",
      "2024-01-01 01:00:00         4.112579   119.663848  \n",
      "\n",
      "Price signal stats (€/MWh):\n",
      "Min: -83.4\n",
      "Max: 158.0\n",
      "Mean: 89.0\n",
      "Negative prices: 59 events\n"
     ]
    }
   ],
   "source": [
    "# Generate 2024 datetime index with 15-minute intervals\n",
    "start_date     = datetime(2024, 1, 1)\n",
    "end_date       = datetime(2025, 1, 1)\n",
    "datetime_index = pd.date_range(start=start_date, end=end_date, freq='15min')[:-1]  # Exclude 2025-01-01\n",
    "\n",
    "# Create base dataframe\n",
    "df_energy = pd.DataFrame(index=datetime_index)\n",
    "\n",
    "# Add time-based features for calculations\n",
    "df_energy = df_energy.assign(DayOfYear = df_energy.index.dayofyear)\n",
    "df_energy = df_energy.assign(HourOfDay = df_energy.index.hour + df_energy.index.minute/60)\n",
    "df_energy = df_energy.assign(DayOfWeek = df_energy.index.dayofweek)                         # 0=Monday, 6=Sunday\n",
    "\n",
    "# Generate solar generation (HomeGeneration)\n",
    "# Seasonal component: higher in summer (cos wave with peak around day 172 = June 21)\n",
    "seasonal_solar = 0.5 + 0.5 * np.cos(2 * np.pi * (df_energy.DayOfYear - 172) / 365)\n",
    "\n",
    "# Daily component: sunrise/sunset pattern (cos wave peaking at noon)\n",
    "daily_solar = np.maximum(0, np.cos(2 * np.pi * (df_energy.HourOfDay - 12) / 24)) ** 2\n",
    "\n",
    "# Scale to realistic kW values (0-8 kW peak for typical home solar)\n",
    "base_solar = 8 * seasonal_solar * daily_solar\n",
    "\n",
    "# Add weather noise (some days are cloudier)\n",
    "weather_noise = np.random.normal(1, 0.3, len(df_energy))\n",
    "weather_noise = np.maximum(0.2, weather_noise)            # Minimum 20% of clear sky (ensures some daily generation)\n",
    "\n",
    "df_energy = df_energy.assign(HomeGeneration = base_solar * weather_noise)\n",
    "\n",
    "# Generate home consumption (HomeConsumption)\n",
    "# Base load (always-on devices)\n",
    "base_load = 0.5  # kW\n",
    "\n",
    "# Daily pattern: higher in morning (7-9) and evening (17-22)\n",
    "morning_peak  = 2 * np.exp(-((df_energy.HourOfDay - 8) ** 2) / 2)\n",
    "evening_peak  = 3 * np.exp(-((df_energy.HourOfDay - 19.5) ** 2) / 8)\n",
    "daily_pattern = morning_peak + evening_peak\n",
    "\n",
    "# Weekend effect: slightly higher consumption, shifted patterns\n",
    "weekend_multiplier    = np.where(df_energy.DayOfWeek >= 5, 1.2, 1.0)\n",
    "weekend_shift         = np.where(df_energy.DayOfWeek >= 5, 1.0, 0.0)  # Later wake-up on weekends\n",
    "daily_pattern_weekend = daily_pattern * weekend_multiplier\n",
    "\n",
    "# Seasonal heating (higher consumption in winter)\n",
    "seasonal_heating = 2 * (0.5 + 0.5 * np.cos(2 * np.pi * (df_energy.DayOfYear - 21) / 365))  # Peak around Jan 21\n",
    "\n",
    "# Temperature-dependent heating (kicks in more during cold hours)\n",
    "heating_daily = np.where(\n",
    "    (df_energy.HourOfDay < 8) | (df_energy.HourOfDay > 16),\n",
    "    seasonal_heating * 1.5,\n",
    "    seasonal_heating * 0.3\n",
    ")\n",
    "\n",
    "# Combine all consumption components\n",
    "base_consumption = base_load + daily_pattern_weekend + heating_daily\n",
    "\n",
    "# Add consumption noise\n",
    "consumption_noise = np.random.normal(1, 0.2, len(df_energy))\n",
    "consumption_noise = np.maximum(0.3, consumption_noise)\n",
    "\n",
    "df_energy = df_energy.assign(HomeConsumption = base_consumption * consumption_noise)\n",
    "\n",
    "# Generate price signal (PriceSignal) in €/MWh\n",
    "# Base price level\n",
    "base_price = 80  # €/MWh\n",
    "\n",
    "# Seasonal component: higher in winter due to heating demand\n",
    "seasonal_price = 30 * (0.3 + 0.7 * np.cos(2 * np.pi * (df_energy.DayOfYear - 21) / 365))\n",
    "\n",
    "# Daily pattern: higher during peak hours (morning/evening)\n",
    "daily_price_pattern = 25 * (morning_peak + evening_peak) / 3\n",
    "\n",
    "# Weekend effect: generally lower prices\n",
    "weekend_price_discount = np.where(df_energy.DayOfWeek >= 5, -15, 0)\n",
    "\n",
    "# Solar correlation: negative correlation with solar generation (more solar = lower prices)\n",
    "solar_effect = -20 * (df_energy.HomeGeneration / 8)  # Normalize to max generation\n",
    "\n",
    "# Add price volatility and occasional negative prices\n",
    "price_volatility = np.random.normal(0, 25, len(df_energy)) / 3\n",
    "\n",
    "# Occasional negative price events (especially during high solar periods)\n",
    "negative_price_prob = 0.02 * (df_energy.HomeGeneration / 8)  # Higher prob during high solar\n",
    "negative_price_events     = np.random.random(len(df_energy)) < negative_price_prob\n",
    "negative_price_adjustment = np.where(negative_price_events, np.random.uniform(-50, -120, len(df_energy)), 0)\n",
    "\n",
    "# Combine all price components\n",
    "total_price = (\n",
    "    base_price + \n",
    "    seasonal_price + \n",
    "    daily_price_pattern + \n",
    "    weekend_price_discount + \n",
    "    solar_effect + \n",
    "    price_volatility + \n",
    "    negative_price_adjustment\n",
    ")\n",
    "\n",
    "df_energy = df_energy.assign(PriceSignal = total_price)\n",
    "\n",
    "\n",
    "print(f\"Generated {len(df_energy)} data points for 2024\")\n",
    "print(f\"Date range: {df_energy.index[0]} to {df_energy.index[-1]}\")\n",
    "print(f\"\\nDataFrame columns: {list(df_energy.columns)}\")\n",
    "print(f\"\\nSample data preview:\")\n",
    "print(df_energy.head())\n",
    "print(f\"\\nPrice signal stats (€/MWh):\")\n",
    "print(f\"Min: {df_energy.PriceSignal.min():.1f}\")\n",
    "print(f\"Max: {df_energy.PriceSignal.max():.1f}\")  \n",
    "print(f\"Mean: {df_energy.PriceSignal.mean():.1f}\")\n",
    "print(f\"Negative prices: {(df_energy.PriceSignal < 0).sum()} events\")\n"
   ]
  },
  {
   "cell_type": "code",
   "execution_count": 53,
   "id": "8e829ea9",
   "metadata": {},
   "outputs": [
    {
     "data": {
      "text/html": [
       "<div>\n",
       "<style scoped>\n",
       "    .dataframe tbody tr th:only-of-type {\n",
       "        vertical-align: middle;\n",
       "    }\n",
       "\n",
       "    .dataframe tbody tr th {\n",
       "        vertical-align: top;\n",
       "    }\n",
       "\n",
       "    .dataframe thead th {\n",
       "        text-align: right;\n",
       "    }\n",
       "</style>\n",
       "<table border=\"1\" class=\"dataframe\">\n",
       "  <thead>\n",
       "    <tr style=\"text-align: right;\">\n",
       "      <th></th>\n",
       "      <th>DayOfYear</th>\n",
       "      <th>HourOfDay</th>\n",
       "      <th>DayOfWeek</th>\n",
       "      <th>HomeGeneration</th>\n",
       "      <th>HomeConsumption</th>\n",
       "      <th>PriceSignal</th>\n",
       "    </tr>\n",
       "  </thead>\n",
       "  <tbody>\n",
       "    <tr>\n",
       "      <th>2024-01-01 00:00:00</th>\n",
       "      <td>1</td>\n",
       "      <td>0.00</td>\n",
       "      <td>0</td>\n",
       "      <td>0.0</td>\n",
       "      <td>3.035247</td>\n",
       "      <td>100.649966</td>\n",
       "    </tr>\n",
       "    <tr>\n",
       "      <th>2024-01-01 00:15:00</th>\n",
       "      <td>1</td>\n",
       "      <td>0.25</td>\n",
       "      <td>0</td>\n",
       "      <td>0.0</td>\n",
       "      <td>4.198418</td>\n",
       "      <td>108.187603</td>\n",
       "    </tr>\n",
       "    <tr>\n",
       "      <th>2024-01-01 00:30:00</th>\n",
       "      <td>1</td>\n",
       "      <td>0.50</td>\n",
       "      <td>0</td>\n",
       "      <td>0.0</td>\n",
       "      <td>3.015899</td>\n",
       "      <td>120.303569</td>\n",
       "    </tr>\n",
       "    <tr>\n",
       "      <th>2024-01-01 00:45:00</th>\n",
       "      <td>1</td>\n",
       "      <td>0.75</td>\n",
       "      <td>0</td>\n",
       "      <td>0.0</td>\n",
       "      <td>2.898689</td>\n",
       "      <td>105.608502</td>\n",
       "    </tr>\n",
       "    <tr>\n",
       "      <th>2024-01-01 01:00:00</th>\n",
       "      <td>1</td>\n",
       "      <td>1.00</td>\n",
       "      <td>0</td>\n",
       "      <td>0.0</td>\n",
       "      <td>4.112579</td>\n",
       "      <td>119.663848</td>\n",
       "    </tr>\n",
       "    <tr>\n",
       "      <th>...</th>\n",
       "      <td>...</td>\n",
       "      <td>...</td>\n",
       "      <td>...</td>\n",
       "      <td>...</td>\n",
       "      <td>...</td>\n",
       "      <td>...</td>\n",
       "    </tr>\n",
       "    <tr>\n",
       "      <th>2024-12-31 22:45:00</th>\n",
       "      <td>366</td>\n",
       "      <td>22.75</td>\n",
       "      <td>1</td>\n",
       "      <td>0.0</td>\n",
       "      <td>4.329018</td>\n",
       "      <td>107.756358</td>\n",
       "    </tr>\n",
       "    <tr>\n",
       "      <th>2024-12-31 23:00:00</th>\n",
       "      <td>366</td>\n",
       "      <td>23.00</td>\n",
       "      <td>1</td>\n",
       "      <td>0.0</td>\n",
       "      <td>3.346362</td>\n",
       "      <td>124.013647</td>\n",
       "    </tr>\n",
       "    <tr>\n",
       "      <th>2024-12-31 23:15:00</th>\n",
       "      <td>366</td>\n",
       "      <td>23.25</td>\n",
       "      <td>1</td>\n",
       "      <td>0.0</td>\n",
       "      <td>4.734271</td>\n",
       "      <td>116.703751</td>\n",
       "    </tr>\n",
       "    <tr>\n",
       "      <th>2024-12-31 23:30:00</th>\n",
       "      <td>366</td>\n",
       "      <td>23.50</td>\n",
       "      <td>1</td>\n",
       "      <td>0.0</td>\n",
       "      <td>4.309025</td>\n",
       "      <td>115.619819</td>\n",
       "    </tr>\n",
       "    <tr>\n",
       "      <th>2024-12-31 23:45:00</th>\n",
       "      <td>366</td>\n",
       "      <td>23.75</td>\n",
       "      <td>1</td>\n",
       "      <td>0.0</td>\n",
       "      <td>2.746416</td>\n",
       "      <td>101.406513</td>\n",
       "    </tr>\n",
       "  </tbody>\n",
       "</table>\n",
       "<p>35136 rows × 6 columns</p>\n",
       "</div>"
      ],
      "text/plain": [
       "                     DayOfYear  HourOfDay  DayOfWeek  HomeGeneration  \\\n",
       "2024-01-01 00:00:00          1       0.00          0             0.0   \n",
       "2024-01-01 00:15:00          1       0.25          0             0.0   \n",
       "2024-01-01 00:30:00          1       0.50          0             0.0   \n",
       "2024-01-01 00:45:00          1       0.75          0             0.0   \n",
       "2024-01-01 01:00:00          1       1.00          0             0.0   \n",
       "...                        ...        ...        ...             ...   \n",
       "2024-12-31 22:45:00        366      22.75          1             0.0   \n",
       "2024-12-31 23:00:00        366      23.00          1             0.0   \n",
       "2024-12-31 23:15:00        366      23.25          1             0.0   \n",
       "2024-12-31 23:30:00        366      23.50          1             0.0   \n",
       "2024-12-31 23:45:00        366      23.75          1             0.0   \n",
       "\n",
       "                     HomeConsumption  PriceSignal  \n",
       "2024-01-01 00:00:00         3.035247   100.649966  \n",
       "2024-01-01 00:15:00         4.198418   108.187603  \n",
       "2024-01-01 00:30:00         3.015899   120.303569  \n",
       "2024-01-01 00:45:00         2.898689   105.608502  \n",
       "2024-01-01 01:00:00         4.112579   119.663848  \n",
       "...                              ...          ...  \n",
       "2024-12-31 22:45:00         4.329018   107.756358  \n",
       "2024-12-31 23:00:00         3.346362   124.013647  \n",
       "2024-12-31 23:15:00         4.734271   116.703751  \n",
       "2024-12-31 23:30:00         4.309025   115.619819  \n",
       "2024-12-31 23:45:00         2.746416   101.406513  \n",
       "\n",
       "[35136 rows x 6 columns]"
      ]
     },
     "execution_count": 53,
     "metadata": {},
     "output_type": "execute_result"
    }
   ],
   "source": [
    "df_energy"
   ]
  },
  {
   "cell_type": "markdown",
   "id": "0dfb96d4",
   "metadata": {},
   "source": [
    "## Battery & Infra setup"
   ]
  },
  {
   "cell_type": "code",
   "execution_count": 54,
   "id": "7b5abfdb",
   "metadata": {},
   "outputs": [],
   "source": [
    "battery = Battery(\n",
    "    capacity               = 13.5,    # kWh (typical Tesla Powerwall size)\n",
    "    max_charge_rate        = 5.0,     # kW\n",
    "    max_discharge_rate     = 5.0,     # kW\n",
    "    current_soc            = 6.75,    # kWh (50% of capacity)\n",
    "    final_soc              = 6.75,    # kWh (same as current - maintain level)\n",
    "    charging_efficiency    = 0.95,    # 95% efficiency when charging\n",
    "    discharging_efficiency = 0.95,    # 95% efficiency when discharging\n",
    "    soc_min                = 1.35,    # kWh (10% of capacity reserved)\n",
    "    soc_max                = 13.5,    # kWh (same as capacity)\n",
    "    grid_import_limit      = 17.25,   # kW (3x25A typical home connection)\n",
    "    grid_export_limit      = 17.25,   # kW (same as import for simplicity)\n",
    ")"
   ]
  },
  {
   "cell_type": "markdown",
   "id": "3c3e79dd",
   "metadata": {},
   "source": [
    "## Optimization"
   ]
  },
  {
   "cell_type": "markdown",
   "id": "fddb9bd0",
   "metadata": {},
   "source": [
    "### Selecting limits for optimization"
   ]
  },
  {
   "cell_type": "code",
   "execution_count": 55,
   "id": "0514ac98",
   "metadata": {},
   "outputs": [],
   "source": [
    "t0 = pd.Timestamp('2024-06-01')\n",
    "t1 = pd.Timestamp('2024-06-03')\n",
    "interval_minutes = 15\n",
    "\n",
    "df_energy = df_energy.loc[t0 : t1]"
   ]
  },
  {
   "cell_type": "markdown",
   "id": "7def45de",
   "metadata": {},
   "source": [
    "### Plotting simulation data"
   ]
  },
  {
   "cell_type": "code",
   "execution_count": 56,
   "id": "eb7eebc4",
   "metadata": {},
   "outputs": [
    {
     "data": {
      "application/vnd.plotly.v1+json": {
       "config": {
        "plotlyServerURL": "https://plot.ly"
       },
       "data": [
        {
         "name": "HomeGeneration",
         "type": "scatter",
         "x": [
          "2024-06-01T00:00:00.000000000",
          "2024-06-01T00:15:00.000000000",
          "2024-06-01T00:30:00.000000000",
          "2024-06-01T00:45:00.000000000",
          "2024-06-01T01:00:00.000000000",
          "2024-06-01T01:15:00.000000000",
          "2024-06-01T01:30:00.000000000",
          "2024-06-01T01:45:00.000000000",
          "2024-06-01T02:00:00.000000000",
          "2024-06-01T02:15:00.000000000",
          "2024-06-01T02:30:00.000000000",
          "2024-06-01T02:45:00.000000000",
          "2024-06-01T03:00:00.000000000",
          "2024-06-01T03:15:00.000000000",
          "2024-06-01T03:30:00.000000000",
          "2024-06-01T03:45:00.000000000",
          "2024-06-01T04:00:00.000000000",
          "2024-06-01T04:15:00.000000000",
          "2024-06-01T04:30:00.000000000",
          "2024-06-01T04:45:00.000000000",
          "2024-06-01T05:00:00.000000000",
          "2024-06-01T05:15:00.000000000",
          "2024-06-01T05:30:00.000000000",
          "2024-06-01T05:45:00.000000000",
          "2024-06-01T06:00:00.000000000",
          "2024-06-01T06:15:00.000000000",
          "2024-06-01T06:30:00.000000000",
          "2024-06-01T06:45:00.000000000",
          "2024-06-01T07:00:00.000000000",
          "2024-06-01T07:15:00.000000000",
          "2024-06-01T07:30:00.000000000",
          "2024-06-01T07:45:00.000000000",
          "2024-06-01T08:00:00.000000000",
          "2024-06-01T08:15:00.000000000",
          "2024-06-01T08:30:00.000000000",
          "2024-06-01T08:45:00.000000000",
          "2024-06-01T09:00:00.000000000",
          "2024-06-01T09:15:00.000000000",
          "2024-06-01T09:30:00.000000000",
          "2024-06-01T09:45:00.000000000",
          "2024-06-01T10:00:00.000000000",
          "2024-06-01T10:15:00.000000000",
          "2024-06-01T10:30:00.000000000",
          "2024-06-01T10:45:00.000000000",
          "2024-06-01T11:00:00.000000000",
          "2024-06-01T11:15:00.000000000",
          "2024-06-01T11:30:00.000000000",
          "2024-06-01T11:45:00.000000000",
          "2024-06-01T12:00:00.000000000",
          "2024-06-01T12:15:00.000000000",
          "2024-06-01T12:30:00.000000000",
          "2024-06-01T12:45:00.000000000",
          "2024-06-01T13:00:00.000000000",
          "2024-06-01T13:15:00.000000000",
          "2024-06-01T13:30:00.000000000",
          "2024-06-01T13:45:00.000000000",
          "2024-06-01T14:00:00.000000000",
          "2024-06-01T14:15:00.000000000",
          "2024-06-01T14:30:00.000000000",
          "2024-06-01T14:45:00.000000000",
          "2024-06-01T15:00:00.000000000",
          "2024-06-01T15:15:00.000000000",
          "2024-06-01T15:30:00.000000000",
          "2024-06-01T15:45:00.000000000",
          "2024-06-01T16:00:00.000000000",
          "2024-06-01T16:15:00.000000000",
          "2024-06-01T16:30:00.000000000",
          "2024-06-01T16:45:00.000000000",
          "2024-06-01T17:00:00.000000000",
          "2024-06-01T17:15:00.000000000",
          "2024-06-01T17:30:00.000000000",
          "2024-06-01T17:45:00.000000000",
          "2024-06-01T18:00:00.000000000",
          "2024-06-01T18:15:00.000000000",
          "2024-06-01T18:30:00.000000000",
          "2024-06-01T18:45:00.000000000",
          "2024-06-01T19:00:00.000000000",
          "2024-06-01T19:15:00.000000000",
          "2024-06-01T19:30:00.000000000",
          "2024-06-01T19:45:00.000000000",
          "2024-06-01T20:00:00.000000000",
          "2024-06-01T20:15:00.000000000",
          "2024-06-01T20:30:00.000000000",
          "2024-06-01T20:45:00.000000000",
          "2024-06-01T21:00:00.000000000",
          "2024-06-01T21:15:00.000000000",
          "2024-06-01T21:30:00.000000000",
          "2024-06-01T21:45:00.000000000",
          "2024-06-01T22:00:00.000000000",
          "2024-06-01T22:15:00.000000000",
          "2024-06-01T22:30:00.000000000",
          "2024-06-01T22:45:00.000000000",
          "2024-06-01T23:00:00.000000000",
          "2024-06-01T23:15:00.000000000",
          "2024-06-01T23:30:00.000000000",
          "2024-06-01T23:45:00.000000000",
          "2024-06-02T00:00:00.000000000",
          "2024-06-02T00:15:00.000000000",
          "2024-06-02T00:30:00.000000000",
          "2024-06-02T00:45:00.000000000",
          "2024-06-02T01:00:00.000000000",
          "2024-06-02T01:15:00.000000000",
          "2024-06-02T01:30:00.000000000",
          "2024-06-02T01:45:00.000000000",
          "2024-06-02T02:00:00.000000000",
          "2024-06-02T02:15:00.000000000",
          "2024-06-02T02:30:00.000000000",
          "2024-06-02T02:45:00.000000000",
          "2024-06-02T03:00:00.000000000",
          "2024-06-02T03:15:00.000000000",
          "2024-06-02T03:30:00.000000000",
          "2024-06-02T03:45:00.000000000",
          "2024-06-02T04:00:00.000000000",
          "2024-06-02T04:15:00.000000000",
          "2024-06-02T04:30:00.000000000",
          "2024-06-02T04:45:00.000000000",
          "2024-06-02T05:00:00.000000000",
          "2024-06-02T05:15:00.000000000",
          "2024-06-02T05:30:00.000000000",
          "2024-06-02T05:45:00.000000000",
          "2024-06-02T06:00:00.000000000",
          "2024-06-02T06:15:00.000000000",
          "2024-06-02T06:30:00.000000000",
          "2024-06-02T06:45:00.000000000",
          "2024-06-02T07:00:00.000000000",
          "2024-06-02T07:15:00.000000000",
          "2024-06-02T07:30:00.000000000",
          "2024-06-02T07:45:00.000000000",
          "2024-06-02T08:00:00.000000000",
          "2024-06-02T08:15:00.000000000",
          "2024-06-02T08:30:00.000000000",
          "2024-06-02T08:45:00.000000000",
          "2024-06-02T09:00:00.000000000",
          "2024-06-02T09:15:00.000000000",
          "2024-06-02T09:30:00.000000000",
          "2024-06-02T09:45:00.000000000",
          "2024-06-02T10:00:00.000000000",
          "2024-06-02T10:15:00.000000000",
          "2024-06-02T10:30:00.000000000",
          "2024-06-02T10:45:00.000000000",
          "2024-06-02T11:00:00.000000000",
          "2024-06-02T11:15:00.000000000",
          "2024-06-02T11:30:00.000000000",
          "2024-06-02T11:45:00.000000000",
          "2024-06-02T12:00:00.000000000",
          "2024-06-02T12:15:00.000000000",
          "2024-06-02T12:30:00.000000000",
          "2024-06-02T12:45:00.000000000",
          "2024-06-02T13:00:00.000000000",
          "2024-06-02T13:15:00.000000000",
          "2024-06-02T13:30:00.000000000",
          "2024-06-02T13:45:00.000000000",
          "2024-06-02T14:00:00.000000000",
          "2024-06-02T14:15:00.000000000",
          "2024-06-02T14:30:00.000000000",
          "2024-06-02T14:45:00.000000000",
          "2024-06-02T15:00:00.000000000",
          "2024-06-02T15:15:00.000000000",
          "2024-06-02T15:30:00.000000000",
          "2024-06-02T15:45:00.000000000",
          "2024-06-02T16:00:00.000000000",
          "2024-06-02T16:15:00.000000000",
          "2024-06-02T16:30:00.000000000",
          "2024-06-02T16:45:00.000000000",
          "2024-06-02T17:00:00.000000000",
          "2024-06-02T17:15:00.000000000",
          "2024-06-02T17:30:00.000000000",
          "2024-06-02T17:45:00.000000000",
          "2024-06-02T18:00:00.000000000",
          "2024-06-02T18:15:00.000000000",
          "2024-06-02T18:30:00.000000000",
          "2024-06-02T18:45:00.000000000",
          "2024-06-02T19:00:00.000000000",
          "2024-06-02T19:15:00.000000000",
          "2024-06-02T19:30:00.000000000",
          "2024-06-02T19:45:00.000000000",
          "2024-06-02T20:00:00.000000000",
          "2024-06-02T20:15:00.000000000",
          "2024-06-02T20:30:00.000000000",
          "2024-06-02T20:45:00.000000000",
          "2024-06-02T21:00:00.000000000",
          "2024-06-02T21:15:00.000000000",
          "2024-06-02T21:30:00.000000000",
          "2024-06-02T21:45:00.000000000",
          "2024-06-02T22:00:00.000000000",
          "2024-06-02T22:15:00.000000000",
          "2024-06-02T22:30:00.000000000",
          "2024-06-02T22:45:00.000000000",
          "2024-06-02T23:00:00.000000000",
          "2024-06-02T23:15:00.000000000",
          "2024-06-02T23:30:00.000000000",
          "2024-06-02T23:45:00.000000000",
          "2024-06-03T00:00:00.000000000"
         ],
         "xaxis": "x",
         "y": {
          "bdata": "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",
          "dtype": "f8"
         },
         "yaxis": "y"
        },
        {
         "name": "HomeConsumption",
         "type": "scatter",
         "x": [
          "2024-06-01T00:00:00.000000000",
          "2024-06-01T00:15:00.000000000",
          "2024-06-01T00:30:00.000000000",
          "2024-06-01T00:45:00.000000000",
          "2024-06-01T01:00:00.000000000",
          "2024-06-01T01:15:00.000000000",
          "2024-06-01T01:30:00.000000000",
          "2024-06-01T01:45:00.000000000",
          "2024-06-01T02:00:00.000000000",
          "2024-06-01T02:15:00.000000000",
          "2024-06-01T02:30:00.000000000",
          "2024-06-01T02:45:00.000000000",
          "2024-06-01T03:00:00.000000000",
          "2024-06-01T03:15:00.000000000",
          "2024-06-01T03:30:00.000000000",
          "2024-06-01T03:45:00.000000000",
          "2024-06-01T04:00:00.000000000",
          "2024-06-01T04:15:00.000000000",
          "2024-06-01T04:30:00.000000000",
          "2024-06-01T04:45:00.000000000",
          "2024-06-01T05:00:00.000000000",
          "2024-06-01T05:15:00.000000000",
          "2024-06-01T05:30:00.000000000",
          "2024-06-01T05:45:00.000000000",
          "2024-06-01T06:00:00.000000000",
          "2024-06-01T06:15:00.000000000",
          "2024-06-01T06:30:00.000000000",
          "2024-06-01T06:45:00.000000000",
          "2024-06-01T07:00:00.000000000",
          "2024-06-01T07:15:00.000000000",
          "2024-06-01T07:30:00.000000000",
          "2024-06-01T07:45:00.000000000",
          "2024-06-01T08:00:00.000000000",
          "2024-06-01T08:15:00.000000000",
          "2024-06-01T08:30:00.000000000",
          "2024-06-01T08:45:00.000000000",
          "2024-06-01T09:00:00.000000000",
          "2024-06-01T09:15:00.000000000",
          "2024-06-01T09:30:00.000000000",
          "2024-06-01T09:45:00.000000000",
          "2024-06-01T10:00:00.000000000",
          "2024-06-01T10:15:00.000000000",
          "2024-06-01T10:30:00.000000000",
          "2024-06-01T10:45:00.000000000",
          "2024-06-01T11:00:00.000000000",
          "2024-06-01T11:15:00.000000000",
          "2024-06-01T11:30:00.000000000",
          "2024-06-01T11:45:00.000000000",
          "2024-06-01T12:00:00.000000000",
          "2024-06-01T12:15:00.000000000",
          "2024-06-01T12:30:00.000000000",
          "2024-06-01T12:45:00.000000000",
          "2024-06-01T13:00:00.000000000",
          "2024-06-01T13:15:00.000000000",
          "2024-06-01T13:30:00.000000000",
          "2024-06-01T13:45:00.000000000",
          "2024-06-01T14:00:00.000000000",
          "2024-06-01T14:15:00.000000000",
          "2024-06-01T14:30:00.000000000",
          "2024-06-01T14:45:00.000000000",
          "2024-06-01T15:00:00.000000000",
          "2024-06-01T15:15:00.000000000",
          "2024-06-01T15:30:00.000000000",
          "2024-06-01T15:45:00.000000000",
          "2024-06-01T16:00:00.000000000",
          "2024-06-01T16:15:00.000000000",
          "2024-06-01T16:30:00.000000000",
          "2024-06-01T16:45:00.000000000",
          "2024-06-01T17:00:00.000000000",
          "2024-06-01T17:15:00.000000000",
          "2024-06-01T17:30:00.000000000",
          "2024-06-01T17:45:00.000000000",
          "2024-06-01T18:00:00.000000000",
          "2024-06-01T18:15:00.000000000",
          "2024-06-01T18:30:00.000000000",
          "2024-06-01T18:45:00.000000000",
          "2024-06-01T19:00:00.000000000",
          "2024-06-01T19:15:00.000000000",
          "2024-06-01T19:30:00.000000000",
          "2024-06-01T19:45:00.000000000",
          "2024-06-01T20:00:00.000000000",
          "2024-06-01T20:15:00.000000000",
          "2024-06-01T20:30:00.000000000",
          "2024-06-01T20:45:00.000000000",
          "2024-06-01T21:00:00.000000000",
          "2024-06-01T21:15:00.000000000",
          "2024-06-01T21:30:00.000000000",
          "2024-06-01T21:45:00.000000000",
          "2024-06-01T22:00:00.000000000",
          "2024-06-01T22:15:00.000000000",
          "2024-06-01T22:30:00.000000000",
          "2024-06-01T22:45:00.000000000",
          "2024-06-01T23:00:00.000000000",
          "2024-06-01T23:15:00.000000000",
          "2024-06-01T23:30:00.000000000",
          "2024-06-01T23:45:00.000000000",
          "2024-06-02T00:00:00.000000000",
          "2024-06-02T00:15:00.000000000",
          "2024-06-02T00:30:00.000000000",
          "2024-06-02T00:45:00.000000000",
          "2024-06-02T01:00:00.000000000",
          "2024-06-02T01:15:00.000000000",
          "2024-06-02T01:30:00.000000000",
          "2024-06-02T01:45:00.000000000",
          "2024-06-02T02:00:00.000000000",
          "2024-06-02T02:15:00.000000000",
          "2024-06-02T02:30:00.000000000",
          "2024-06-02T02:45:00.000000000",
          "2024-06-02T03:00:00.000000000",
          "2024-06-02T03:15:00.000000000",
          "2024-06-02T03:30:00.000000000",
          "2024-06-02T03:45:00.000000000",
          "2024-06-02T04:00:00.000000000",
          "2024-06-02T04:15:00.000000000",
          "2024-06-02T04:30:00.000000000",
          "2024-06-02T04:45:00.000000000",
          "2024-06-02T05:00:00.000000000",
          "2024-06-02T05:15:00.000000000",
          "2024-06-02T05:30:00.000000000",
          "2024-06-02T05:45:00.000000000",
          "2024-06-02T06:00:00.000000000",
          "2024-06-02T06:15:00.000000000",
          "2024-06-02T06:30:00.000000000",
          "2024-06-02T06:45:00.000000000",
          "2024-06-02T07:00:00.000000000",
          "2024-06-02T07:15:00.000000000",
          "2024-06-02T07:30:00.000000000",
          "2024-06-02T07:45:00.000000000",
          "2024-06-02T08:00:00.000000000",
          "2024-06-02T08:15:00.000000000",
          "2024-06-02T08:30:00.000000000",
          "2024-06-02T08:45:00.000000000",
          "2024-06-02T09:00:00.000000000",
          "2024-06-02T09:15:00.000000000",
          "2024-06-02T09:30:00.000000000",
          "2024-06-02T09:45:00.000000000",
          "2024-06-02T10:00:00.000000000",
          "2024-06-02T10:15:00.000000000",
          "2024-06-02T10:30:00.000000000",
          "2024-06-02T10:45:00.000000000",
          "2024-06-02T11:00:00.000000000",
          "2024-06-02T11:15:00.000000000",
          "2024-06-02T11:30:00.000000000",
          "2024-06-02T11:45:00.000000000",
          "2024-06-02T12:00:00.000000000",
          "2024-06-02T12:15:00.000000000",
          "2024-06-02T12:30:00.000000000",
          "2024-06-02T12:45:00.000000000",
          "2024-06-02T13:00:00.000000000",
          "2024-06-02T13:15:00.000000000",
          "2024-06-02T13:30:00.000000000",
          "2024-06-02T13:45:00.000000000",
          "2024-06-02T14:00:00.000000000",
          "2024-06-02T14:15:00.000000000",
          "2024-06-02T14:30:00.000000000",
          "2024-06-02T14:45:00.000000000",
          "2024-06-02T15:00:00.000000000",
          "2024-06-02T15:15:00.000000000",
          "2024-06-02T15:30:00.000000000",
          "2024-06-02T15:45:00.000000000",
          "2024-06-02T16:00:00.000000000",
          "2024-06-02T16:15:00.000000000",
          "2024-06-02T16:30:00.000000000",
          "2024-06-02T16:45:00.000000000",
          "2024-06-02T17:00:00.000000000",
          "2024-06-02T17:15:00.000000000",
          "2024-06-02T17:30:00.000000000",
          "2024-06-02T17:45:00.000000000",
          "2024-06-02T18:00:00.000000000",
          "2024-06-02T18:15:00.000000000",
          "2024-06-02T18:30:00.000000000",
          "2024-06-02T18:45:00.000000000",
          "2024-06-02T19:00:00.000000000",
          "2024-06-02T19:15:00.000000000",
          "2024-06-02T19:30:00.000000000",
          "2024-06-02T19:45:00.000000000",
          "2024-06-02T20:00:00.000000000",
          "2024-06-02T20:15:00.000000000",
          "2024-06-02T20:30:00.000000000",
          "2024-06-02T20:45:00.000000000",
          "2024-06-02T21:00:00.000000000",
          "2024-06-02T21:15:00.000000000",
          "2024-06-02T21:30:00.000000000",
          "2024-06-02T21:45:00.000000000",
          "2024-06-02T22:00:00.000000000",
          "2024-06-02T22:15:00.000000000",
          "2024-06-02T22:30:00.000000000",
          "2024-06-02T22:45:00.000000000",
          "2024-06-02T23:00:00.000000000",
          "2024-06-02T23:15:00.000000000",
          "2024-06-02T23:30:00.000000000",
          "2024-06-02T23:45:00.000000000",
          "2024-06-03T00:00:00.000000000"
         ],
         "xaxis": "x2",
         "y": {
          "bdata": "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",
          "dtype": "f8"
         },
         "yaxis": "y2"
        },
        {
         "name": "PriceSignal",
         "type": "scatter",
         "x": [
          "2024-06-01T00:00:00.000000000",
          "2024-06-01T00:15:00.000000000",
          "2024-06-01T00:30:00.000000000",
          "2024-06-01T00:45:00.000000000",
          "2024-06-01T01:00:00.000000000",
          "2024-06-01T01:15:00.000000000",
          "2024-06-01T01:30:00.000000000",
          "2024-06-01T01:45:00.000000000",
          "2024-06-01T02:00:00.000000000",
          "2024-06-01T02:15:00.000000000",
          "2024-06-01T02:30:00.000000000",
          "2024-06-01T02:45:00.000000000",
          "2024-06-01T03:00:00.000000000",
          "2024-06-01T03:15:00.000000000",
          "2024-06-01T03:30:00.000000000",
          "2024-06-01T03:45:00.000000000",
          "2024-06-01T04:00:00.000000000",
          "2024-06-01T04:15:00.000000000",
          "2024-06-01T04:30:00.000000000",
          "2024-06-01T04:45:00.000000000",
          "2024-06-01T05:00:00.000000000",
          "2024-06-01T05:15:00.000000000",
          "2024-06-01T05:30:00.000000000",
          "2024-06-01T05:45:00.000000000",
          "2024-06-01T06:00:00.000000000",
          "2024-06-01T06:15:00.000000000",
          "2024-06-01T06:30:00.000000000",
          "2024-06-01T06:45:00.000000000",
          "2024-06-01T07:00:00.000000000",
          "2024-06-01T07:15:00.000000000",
          "2024-06-01T07:30:00.000000000",
          "2024-06-01T07:45:00.000000000",
          "2024-06-01T08:00:00.000000000",
          "2024-06-01T08:15:00.000000000",
          "2024-06-01T08:30:00.000000000",
          "2024-06-01T08:45:00.000000000",
          "2024-06-01T09:00:00.000000000",
          "2024-06-01T09:15:00.000000000",
          "2024-06-01T09:30:00.000000000",
          "2024-06-01T09:45:00.000000000",
          "2024-06-01T10:00:00.000000000",
          "2024-06-01T10:15:00.000000000",
          "2024-06-01T10:30:00.000000000",
          "2024-06-01T10:45:00.000000000",
          "2024-06-01T11:00:00.000000000",
          "2024-06-01T11:15:00.000000000",
          "2024-06-01T11:30:00.000000000",
          "2024-06-01T11:45:00.000000000",
          "2024-06-01T12:00:00.000000000",
          "2024-06-01T12:15:00.000000000",
          "2024-06-01T12:30:00.000000000",
          "2024-06-01T12:45:00.000000000",
          "2024-06-01T13:00:00.000000000",
          "2024-06-01T13:15:00.000000000",
          "2024-06-01T13:30:00.000000000",
          "2024-06-01T13:45:00.000000000",
          "2024-06-01T14:00:00.000000000",
          "2024-06-01T14:15:00.000000000",
          "2024-06-01T14:30:00.000000000",
          "2024-06-01T14:45:00.000000000",
          "2024-06-01T15:00:00.000000000",
          "2024-06-01T15:15:00.000000000",
          "2024-06-01T15:30:00.000000000",
          "2024-06-01T15:45:00.000000000",
          "2024-06-01T16:00:00.000000000",
          "2024-06-01T16:15:00.000000000",
          "2024-06-01T16:30:00.000000000",
          "2024-06-01T16:45:00.000000000",
          "2024-06-01T17:00:00.000000000",
          "2024-06-01T17:15:00.000000000",
          "2024-06-01T17:30:00.000000000",
          "2024-06-01T17:45:00.000000000",
          "2024-06-01T18:00:00.000000000",
          "2024-06-01T18:15:00.000000000",
          "2024-06-01T18:30:00.000000000",
          "2024-06-01T18:45:00.000000000",
          "2024-06-01T19:00:00.000000000",
          "2024-06-01T19:15:00.000000000",
          "2024-06-01T19:30:00.000000000",
          "2024-06-01T19:45:00.000000000",
          "2024-06-01T20:00:00.000000000",
          "2024-06-01T20:15:00.000000000",
          "2024-06-01T20:30:00.000000000",
          "2024-06-01T20:45:00.000000000",
          "2024-06-01T21:00:00.000000000",
          "2024-06-01T21:15:00.000000000",
          "2024-06-01T21:30:00.000000000",
          "2024-06-01T21:45:00.000000000",
          "2024-06-01T22:00:00.000000000",
          "2024-06-01T22:15:00.000000000",
          "2024-06-01T22:30:00.000000000",
          "2024-06-01T22:45:00.000000000",
          "2024-06-01T23:00:00.000000000",
          "2024-06-01T23:15:00.000000000",
          "2024-06-01T23:30:00.000000000",
          "2024-06-01T23:45:00.000000000",
          "2024-06-02T00:00:00.000000000",
          "2024-06-02T00:15:00.000000000",
          "2024-06-02T00:30:00.000000000",
          "2024-06-02T00:45:00.000000000",
          "2024-06-02T01:00:00.000000000",
          "2024-06-02T01:15:00.000000000",
          "2024-06-02T01:30:00.000000000",
          "2024-06-02T01:45:00.000000000",
          "2024-06-02T02:00:00.000000000",
          "2024-06-02T02:15:00.000000000",
          "2024-06-02T02:30:00.000000000",
          "2024-06-02T02:45:00.000000000",
          "2024-06-02T03:00:00.000000000",
          "2024-06-02T03:15:00.000000000",
          "2024-06-02T03:30:00.000000000",
          "2024-06-02T03:45:00.000000000",
          "2024-06-02T04:00:00.000000000",
          "2024-06-02T04:15:00.000000000",
          "2024-06-02T04:30:00.000000000",
          "2024-06-02T04:45:00.000000000",
          "2024-06-02T05:00:00.000000000",
          "2024-06-02T05:15:00.000000000",
          "2024-06-02T05:30:00.000000000",
          "2024-06-02T05:45:00.000000000",
          "2024-06-02T06:00:00.000000000",
          "2024-06-02T06:15:00.000000000",
          "2024-06-02T06:30:00.000000000",
          "2024-06-02T06:45:00.000000000",
          "2024-06-02T07:00:00.000000000",
          "2024-06-02T07:15:00.000000000",
          "2024-06-02T07:30:00.000000000",
          "2024-06-02T07:45:00.000000000",
          "2024-06-02T08:00:00.000000000",
          "2024-06-02T08:15:00.000000000",
          "2024-06-02T08:30:00.000000000",
          "2024-06-02T08:45:00.000000000",
          "2024-06-02T09:00:00.000000000",
          "2024-06-02T09:15:00.000000000",
          "2024-06-02T09:30:00.000000000",
          "2024-06-02T09:45:00.000000000",
          "2024-06-02T10:00:00.000000000",
          "2024-06-02T10:15:00.000000000",
          "2024-06-02T10:30:00.000000000",
          "2024-06-02T10:45:00.000000000",
          "2024-06-02T11:00:00.000000000",
          "2024-06-02T11:15:00.000000000",
          "2024-06-02T11:30:00.000000000",
          "2024-06-02T11:45:00.000000000",
          "2024-06-02T12:00:00.000000000",
          "2024-06-02T12:15:00.000000000",
          "2024-06-02T12:30:00.000000000",
          "2024-06-02T12:45:00.000000000",
          "2024-06-02T13:00:00.000000000",
          "2024-06-02T13:15:00.000000000",
          "2024-06-02T13:30:00.000000000",
          "2024-06-02T13:45:00.000000000",
          "2024-06-02T14:00:00.000000000",
          "2024-06-02T14:15:00.000000000",
          "2024-06-02T14:30:00.000000000",
          "2024-06-02T14:45:00.000000000",
          "2024-06-02T15:00:00.000000000",
          "2024-06-02T15:15:00.000000000",
          "2024-06-02T15:30:00.000000000",
          "2024-06-02T15:45:00.000000000",
          "2024-06-02T16:00:00.000000000",
          "2024-06-02T16:15:00.000000000",
          "2024-06-02T16:30:00.000000000",
          "2024-06-02T16:45:00.000000000",
          "2024-06-02T17:00:00.000000000",
          "2024-06-02T17:15:00.000000000",
          "2024-06-02T17:30:00.000000000",
          "2024-06-02T17:45:00.000000000",
          "2024-06-02T18:00:00.000000000",
          "2024-06-02T18:15:00.000000000",
          "2024-06-02T18:30:00.000000000",
          "2024-06-02T18:45:00.000000000",
          "2024-06-02T19:00:00.000000000",
          "2024-06-02T19:15:00.000000000",
          "2024-06-02T19:30:00.000000000",
          "2024-06-02T19:45:00.000000000",
          "2024-06-02T20:00:00.000000000",
          "2024-06-02T20:15:00.000000000",
          "2024-06-02T20:30:00.000000000",
          "2024-06-02T20:45:00.000000000",
          "2024-06-02T21:00:00.000000000",
          "2024-06-02T21:15:00.000000000",
          "2024-06-02T21:30:00.000000000",
          "2024-06-02T21:45:00.000000000",
          "2024-06-02T22:00:00.000000000",
          "2024-06-02T22:15:00.000000000",
          "2024-06-02T22:30:00.000000000",
          "2024-06-02T22:45:00.000000000",
          "2024-06-02T23:00:00.000000000",
          "2024-06-02T23:15:00.000000000",
          "2024-06-02T23:30:00.000000000",
          "2024-06-02T23:45:00.000000000",
          "2024-06-03T00:00:00.000000000"
         ],
         "xaxis": "x3",
         "y": {
          "bdata": "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",
          "dtype": "f8"
         },
         "yaxis": "y3"
        }
       ],
       "layout": {
        "annotations": [
         {
          "font": {
           "size": 16
          },
          "showarrow": false,
          "text": "HomeGeneration",
          "x": 0.5,
          "xanchor": "center",
          "xref": "paper",
          "y": 1,
          "yanchor": "bottom",
          "yref": "paper"
         },
         {
          "font": {
           "size": 16
          },
          "showarrow": false,
          "text": "HomeConsumption",
          "x": 0.5,
          "xanchor": "center",
          "xref": "paper",
          "y": 0.6111111111111112,
          "yanchor": "bottom",
          "yref": "paper"
         },
         {
          "font": {
           "size": 16
          },
          "showarrow": false,
          "text": "PriceSignal",
          "x": 0.5,
          "xanchor": "center",
          "xref": "paper",
          "y": 0.22222222222222224,
          "yanchor": "bottom",
          "yref": "paper"
         }
        ],
        "height": 900,
        "template": {
         "data": {
          "bar": [
           {
            "error_x": {
             "color": "#2a3f5f"
            },
            "error_y": {
             "color": "#2a3f5f"
            },
            "marker": {
             "line": {
              "color": "#E5ECF6",
              "width": 0.5
             },
             "pattern": {
              "fillmode": "overlay",
              "size": 10,
              "solidity": 0.2
             }
            },
            "type": "bar"
           }
          ],
          "barpolar": [
           {
            "marker": {
             "line": {
              "color": "#E5ECF6",
              "width": 0.5
             },
             "pattern": {
              "fillmode": "overlay",
              "size": 10,
              "solidity": 0.2
             }
            },
            "type": "barpolar"
           }
          ],
          "carpet": [
           {
            "aaxis": {
             "endlinecolor": "#2a3f5f",
             "gridcolor": "white",
             "linecolor": "white",
             "minorgridcolor": "white",
             "startlinecolor": "#2a3f5f"
            },
            "baxis": {
             "endlinecolor": "#2a3f5f",
             "gridcolor": "white",
             "linecolor": "white",
             "minorgridcolor": "white",
             "startlinecolor": "#2a3f5f"
            },
            "type": "carpet"
           }
          ],
          "choropleth": [
           {
            "colorbar": {
             "outlinewidth": 0,
             "ticks": ""
            },
            "type": "choropleth"
           }
          ],
          "contour": [
           {
            "colorbar": {
             "outlinewidth": 0,
             "ticks": ""
            },
            "colorscale": [
             [
              0,
              "#0d0887"
             ],
             [
              0.1111111111111111,
              "#46039f"
             ],
             [
              0.2222222222222222,
              "#7201a8"
             ],
             [
              0.3333333333333333,
              "#9c179e"
             ],
             [
              0.4444444444444444,
              "#bd3786"
             ],
             [
              0.5555555555555556,
              "#d8576b"
             ],
             [
              0.6666666666666666,
              "#ed7953"
             ],
             [
              0.7777777777777778,
              "#fb9f3a"
             ],
             [
              0.8888888888888888,
              "#fdca26"
             ],
             [
              1,
              "#f0f921"
             ]
            ],
            "type": "contour"
           }
          ],
          "contourcarpet": [
           {
            "colorbar": {
             "outlinewidth": 0,
             "ticks": ""
            },
            "type": "contourcarpet"
           }
          ],
          "heatmap": [
           {
            "colorbar": {
             "outlinewidth": 0,
             "ticks": ""
            },
            "colorscale": [
             [
              0,
              "#0d0887"
             ],
             [
              0.1111111111111111,
              "#46039f"
             ],
             [
              0.2222222222222222,
              "#7201a8"
             ],
             [
              0.3333333333333333,
              "#9c179e"
             ],
             [
              0.4444444444444444,
              "#bd3786"
             ],
             [
              0.5555555555555556,
              "#d8576b"
             ],
             [
              0.6666666666666666,
              "#ed7953"
             ],
             [
              0.7777777777777778,
              "#fb9f3a"
             ],
             [
              0.8888888888888888,
              "#fdca26"
             ],
             [
              1,
              "#f0f921"
             ]
            ],
            "type": "heatmap"
           }
          ],
          "histogram": [
           {
            "marker": {
             "pattern": {
              "fillmode": "overlay",
              "size": 10,
              "solidity": 0.2
             }
            },
            "type": "histogram"
           }
          ],
          "histogram2d": [
           {
            "colorbar": {
             "outlinewidth": 0,
             "ticks": ""
            },
            "colorscale": [
             [
              0,
              "#0d0887"
             ],
             [
              0.1111111111111111,
              "#46039f"
             ],
             [
              0.2222222222222222,
              "#7201a8"
             ],
             [
              0.3333333333333333,
              "#9c179e"
             ],
             [
              0.4444444444444444,
              "#bd3786"
             ],
             [
              0.5555555555555556,
              "#d8576b"
             ],
             [
              0.6666666666666666,
              "#ed7953"
             ],
             [
              0.7777777777777778,
              "#fb9f3a"
             ],
             [
              0.8888888888888888,
              "#fdca26"
             ],
             [
              1,
              "#f0f921"
             ]
            ],
            "type": "histogram2d"
           }
          ],
          "histogram2dcontour": [
           {
            "colorbar": {
             "outlinewidth": 0,
             "ticks": ""
            },
            "colorscale": [
             [
              0,
              "#0d0887"
             ],
             [
              0.1111111111111111,
              "#46039f"
             ],
             [
              0.2222222222222222,
              "#7201a8"
             ],
             [
              0.3333333333333333,
              "#9c179e"
             ],
             [
              0.4444444444444444,
              "#bd3786"
             ],
             [
              0.5555555555555556,
              "#d8576b"
             ],
             [
              0.6666666666666666,
              "#ed7953"
             ],
             [
              0.7777777777777778,
              "#fb9f3a"
             ],
             [
              0.8888888888888888,
              "#fdca26"
             ],
             [
              1,
              "#f0f921"
             ]
            ],
            "type": "histogram2dcontour"
           }
          ],
          "mesh3d": [
           {
            "colorbar": {
             "outlinewidth": 0,
             "ticks": ""
            },
            "type": "mesh3d"
           }
          ],
          "parcoords": [
           {
            "line": {
             "colorbar": {
              "outlinewidth": 0,
              "ticks": ""
             }
            },
            "type": "parcoords"
           }
          ],
          "pie": [
           {
            "automargin": true,
            "type": "pie"
           }
          ],
          "scatter": [
           {
            "fillpattern": {
             "fillmode": "overlay",
             "size": 10,
             "solidity": 0.2
            },
            "type": "scatter"
           }
          ],
          "scatter3d": [
           {
            "line": {
             "colorbar": {
              "outlinewidth": 0,
              "ticks": ""
             }
            },
            "marker": {
             "colorbar": {
              "outlinewidth": 0,
              "ticks": ""
             }
            },
            "type": "scatter3d"
           }
          ],
          "scattercarpet": [
           {
            "marker": {
             "colorbar": {
              "outlinewidth": 0,
              "ticks": ""
             }
            },
            "type": "scattercarpet"
           }
          ],
          "scattergeo": [
           {
            "marker": {
             "colorbar": {
              "outlinewidth": 0,
              "ticks": ""
             }
            },
            "type": "scattergeo"
           }
          ],
          "scattergl": [
           {
            "marker": {
             "colorbar": {
              "outlinewidth": 0,
              "ticks": ""
             }
            },
            "type": "scattergl"
           }
          ],
          "scattermap": [
           {
            "marker": {
             "colorbar": {
              "outlinewidth": 0,
              "ticks": ""
             }
            },
            "type": "scattermap"
           }
          ],
          "scattermapbox": [
           {
            "marker": {
             "colorbar": {
              "outlinewidth": 0,
              "ticks": ""
             }
            },
            "type": "scattermapbox"
           }
          ],
          "scatterpolar": [
           {
            "marker": {
             "colorbar": {
              "outlinewidth": 0,
              "ticks": ""
             }
            },
            "type": "scatterpolar"
           }
          ],
          "scatterpolargl": [
           {
            "marker": {
             "colorbar": {
              "outlinewidth": 0,
              "ticks": ""
             }
            },
            "type": "scatterpolargl"
           }
          ],
          "scatterternary": [
           {
            "marker": {
             "colorbar": {
              "outlinewidth": 0,
              "ticks": ""
             }
            },
            "type": "scatterternary"
           }
          ],
          "surface": [
           {
            "colorbar": {
             "outlinewidth": 0,
             "ticks": ""
            },
            "colorscale": [
             [
              0,
              "#0d0887"
             ],
             [
              0.1111111111111111,
              "#46039f"
             ],
             [
              0.2222222222222222,
              "#7201a8"
             ],
             [
              0.3333333333333333,
              "#9c179e"
             ],
             [
              0.4444444444444444,
              "#bd3786"
             ],
             [
              0.5555555555555556,
              "#d8576b"
             ],
             [
              0.6666666666666666,
              "#ed7953"
             ],
             [
              0.7777777777777778,
              "#fb9f3a"
             ],
             [
              0.8888888888888888,
              "#fdca26"
             ],
             [
              1,
              "#f0f921"
             ]
            ],
            "type": "surface"
           }
          ],
          "table": [
           {
            "cells": {
             "fill": {
              "color": "#EBF0F8"
             },
             "line": {
              "color": "white"
             }
            },
            "header": {
             "fill": {
              "color": "#C8D4E3"
             },
             "line": {
              "color": "white"
             }
            },
            "type": "table"
           }
          ]
         },
         "layout": {
          "annotationdefaults": {
           "arrowcolor": "#2a3f5f",
           "arrowhead": 0,
           "arrowwidth": 1
          },
          "autotypenumbers": "strict",
          "coloraxis": {
           "colorbar": {
            "outlinewidth": 0,
            "ticks": ""
           }
          },
          "colorscale": {
           "diverging": [
            [
             0,
             "#8e0152"
            ],
            [
             0.1,
             "#c51b7d"
            ],
            [
             0.2,
             "#de77ae"
            ],
            [
             0.3,
             "#f1b6da"
            ],
            [
             0.4,
             "#fde0ef"
            ],
            [
             0.5,
             "#f7f7f7"
            ],
            [
             0.6,
             "#e6f5d0"
            ],
            [
             0.7,
             "#b8e186"
            ],
            [
             0.8,
             "#7fbc41"
            ],
            [
             0.9,
             "#4d9221"
            ],
            [
             1,
             "#276419"
            ]
           ],
           "sequential": [
            [
             0,
             "#0d0887"
            ],
            [
             0.1111111111111111,
             "#46039f"
            ],
            [
             0.2222222222222222,
             "#7201a8"
            ],
            [
             0.3333333333333333,
             "#9c179e"
            ],
            [
             0.4444444444444444,
             "#bd3786"
            ],
            [
             0.5555555555555556,
             "#d8576b"
            ],
            [
             0.6666666666666666,
             "#ed7953"
            ],
            [
             0.7777777777777778,
             "#fb9f3a"
            ],
            [
             0.8888888888888888,
             "#fdca26"
            ],
            [
             1,
             "#f0f921"
            ]
           ],
           "sequentialminus": [
            [
             0,
             "#0d0887"
            ],
            [
             0.1111111111111111,
             "#46039f"
            ],
            [
             0.2222222222222222,
             "#7201a8"
            ],
            [
             0.3333333333333333,
             "#9c179e"
            ],
            [
             0.4444444444444444,
             "#bd3786"
            ],
            [
             0.5555555555555556,
             "#d8576b"
            ],
            [
             0.6666666666666666,
             "#ed7953"
            ],
            [
             0.7777777777777778,
             "#fb9f3a"
            ],
            [
             0.8888888888888888,
             "#fdca26"
            ],
            [
             1,
             "#f0f921"
            ]
           ]
          },
          "colorway": [
           "#636efa",
           "#EF553B",
           "#00cc96",
           "#ab63fa",
           "#FFA15A",
           "#19d3f3",
           "#FF6692",
           "#B6E880",
           "#FF97FF",
           "#FECB52"
          ],
          "font": {
           "color": "#2a3f5f"
          },
          "geo": {
           "bgcolor": "white",
           "lakecolor": "white",
           "landcolor": "#E5ECF6",
           "showlakes": true,
           "showland": true,
           "subunitcolor": "white"
          },
          "hoverlabel": {
           "align": "left"
          },
          "hovermode": "closest",
          "mapbox": {
           "style": "light"
          },
          "paper_bgcolor": "white",
          "plot_bgcolor": "#E5ECF6",
          "polar": {
           "angularaxis": {
            "gridcolor": "white",
            "linecolor": "white",
            "ticks": ""
           },
           "bgcolor": "#E5ECF6",
           "radialaxis": {
            "gridcolor": "white",
            "linecolor": "white",
            "ticks": ""
           }
          },
          "scene": {
           "xaxis": {
            "backgroundcolor": "#E5ECF6",
            "gridcolor": "white",
            "gridwidth": 2,
            "linecolor": "white",
            "showbackground": true,
            "ticks": "",
            "zerolinecolor": "white"
           },
           "yaxis": {
            "backgroundcolor": "#E5ECF6",
            "gridcolor": "white",
            "gridwidth": 2,
            "linecolor": "white",
            "showbackground": true,
            "ticks": "",
            "zerolinecolor": "white"
           },
           "zaxis": {
            "backgroundcolor": "#E5ECF6",
            "gridcolor": "white",
            "gridwidth": 2,
            "linecolor": "white",
            "showbackground": true,
            "ticks": "",
            "zerolinecolor": "white"
           }
          },
          "shapedefaults": {
           "line": {
            "color": "#2a3f5f"
           }
          },
          "ternary": {
           "aaxis": {
            "gridcolor": "white",
            "linecolor": "white",
            "ticks": ""
           },
           "baxis": {
            "gridcolor": "white",
            "linecolor": "white",
            "ticks": ""
           },
           "bgcolor": "#E5ECF6",
           "caxis": {
            "gridcolor": "white",
            "linecolor": "white",
            "ticks": ""
           }
          },
          "title": {
           "x": 0.05
          },
          "xaxis": {
           "automargin": true,
           "gridcolor": "white",
           "linecolor": "white",
           "ticks": "",
           "title": {
            "standoff": 15
           },
           "zerolinecolor": "white",
           "zerolinewidth": 2
          },
          "yaxis": {
           "automargin": true,
           "gridcolor": "white",
           "linecolor": "white",
           "ticks": "",
           "title": {
            "standoff": 15
           },
           "zerolinecolor": "white",
           "zerolinewidth": 2
          }
         }
        },
        "xaxis": {
         "anchor": "y",
         "domain": [
          0,
          1
         ],
         "matches": "x3",
         "showticklabels": false
        },
        "xaxis2": {
         "anchor": "y2",
         "domain": [
          0,
          1
         ],
         "matches": "x3",
         "showticklabels": false
        },
        "xaxis3": {
         "anchor": "y3",
         "domain": [
          0,
          1
         ]
        },
        "yaxis": {
         "anchor": "x",
         "domain": [
          0.7777777777777778,
          1
         ]
        },
        "yaxis2": {
         "anchor": "x2",
         "domain": [
          0.3888888888888889,
          0.6111111111111112
         ]
        },
        "yaxis3": {
         "anchor": "x3",
         "domain": [
          0,
          0.22222222222222224
         ]
        }
       }
      }
     },
     "metadata": {},
     "output_type": "display_data"
    }
   ],
   "source": [
    "cols = ['HomeGeneration', 'HomeConsumption', 'PriceSignal']\n",
    "\n",
    "df_plot = df_energy.filter(cols)\n",
    "\n",
    "# Assuming you have your df_energy loaded\n",
    "fig = make_subplots(\n",
    "    rows=len(df_plot.columns), \n",
    "    cols=1,\n",
    "    subplot_titles=df_plot.columns,\n",
    "    shared_xaxes=True\n",
    ")\n",
    "\n",
    "for i, col in enumerate(df_plot.columns, 1):\n",
    "    fig.add_trace(\n",
    "        go.Scatter(x=df_plot.index, y=df_plot[col], name=col),\n",
    "        row=i, col=1\n",
    "    )\n",
    "\n",
    "fig.update_layout(height=300*len(df_plot.columns))\n"
   ]
  },
  {
   "cell_type": "code",
   "execution_count": 62,
   "id": "e5f91898",
   "metadata": {},
   "outputs": [
    {
     "name": "stdout",
     "output_type": "stream",
     "text": [
      "Optimization completed successfully\n",
      "Total profit with battery:               €-0.11\n",
      "Total profit without battery (baseline): €-1.75\n",
      "Difference:                              €1.64\n",
      "Final SoC: 6.75 kWh (target: 6.75 kWh)\n"
     ]
    }
   ],
   "source": [
    "# Convert interval to hours for energy calculations\n",
    "interval_hours = interval_minutes / 60.0\n",
    "# Number of timesteps\n",
    "n_steps   = len(df_energy)\n",
    "timesteps = range(n_steps)\n",
    "\n",
    "# Create optimization problem\n",
    "prob = pl.LpProblem(\"Battery_Optimization\", pl.LpMaximize)\n",
    "\n",
    "# Decision variables\n",
    "battery_charge = pl.LpVariable.dicts(\n",
    "    \"BatteryCharge\",\n",
    "    timesteps,\n",
    "    lowBound=0,\n",
    "    upBound=battery.max_charge_rate\n",
    ")\n",
    "battery_discharge = pl.LpVariable.dicts(\n",
    "    \"BatteryDischarge\",\n",
    "    timesteps,\n",
    "    lowBound=0,\n",
    "    upBound=battery.max_discharge_rate\n",
    ")\n",
    "grid_import = pl.LpVariable.dicts(\n",
    "    \"GridImport\",\n",
    "    timesteps,\n",
    "    lowBound=0,\n",
    "    upBound=battery.grid_import_limit\n",
    ")\n",
    "grid_export = pl.LpVariable.dicts(\n",
    "    \"GridExport\",\n",
    "    timesteps,\n",
    "    lowBound=0,\n",
    "    upBound=battery.grid_export_limit\n",
    ")\n",
    "soc = pl.LpVariable.dicts(\n",
    "    \"SoC\",\n",
    "    timesteps,\n",
    "    lowBound=battery.soc_min,\n",
    "    upBound=battery.soc_max\n",
    ")\n",
    "\n",
    "# Objective: maximize profit\n",
    "price_per_kwh = df_energy.PriceSignal / 1000\n",
    "profit = pl.lpSum([\n",
    "    grid_export[t] * price_per_kwh.iloc[t] * interval_hours -  # Revenue from export\n",
    "    grid_import[t] * price_per_kwh.iloc[t] * interval_hours     # Cost of import\n",
    "    for t in timesteps\n",
    "])\n",
    "prob += profit\n",
    "\n",
    "# Constraints\n",
    "for t in timesteps:\n",
    "    # Power balance constraint\n",
    "    prob += (\n",
    "        df_energy.HomeGeneration.iloc[t] +\n",
    "        battery_discharge[t] + grid_import[t]\n",
    "        ==\n",
    "        df_energy.HomeConsumption.iloc[t] +\n",
    "        battery_charge[t] + grid_export[t]\n",
    "    )\n",
    "\n",
    "    # SoC dynamics with efficiency losses\n",
    "    if t == 0:\n",
    "        # Initial SoC\n",
    "        prob += soc[t] == (\n",
    "            battery.current_soc +\n",
    "            battery_charge[t] * battery.charging_efficiency * interval_hours -\n",
    "            battery_discharge[t] / battery.discharging_efficiency * interval_hours\n",
    "        )\n",
    "    else:\n",
    "        # SoC evolution\n",
    "        prob += soc[t] == (\n",
    "            soc[t-1] +\n",
    "            battery_charge[t] * battery.charging_efficiency * interval_hours -\n",
    "            battery_discharge[t] / battery.discharging_efficiency * interval_hours\n",
    "        )\n",
    "\n",
    "# Final SoC constraint\n",
    "prob += soc[n_steps - 1] == battery.final_soc\n",
    "\n",
    "# Solve the problem\n",
    "prob.solve(pl.PULP_CBC_CMD(msg=0))  # msg = 0 suppresses solver output\n",
    "\n",
    "# Check if solution is optimal\n",
    "if prob.status != pl.LpStatusOptimal:\n",
    "    raise ValueError(f\"Optimization failed with status: {pl.LpStatus[prob.status]}\")\n",
    "\n",
    "# Extract results and add to dataframe\n",
    "df_result = df_energy.copy()\n",
    "df_result = df_result.assign(\n",
    "    BatteryCharge    = [battery_charge[t].varValue for t in timesteps],\n",
    "    BatteryDischarge = [battery_discharge[t].varValue for t in timesteps],\n",
    "    GridImport       = [grid_import[t].varValue for t in timesteps],\n",
    "    GridExport       = [grid_export[t].varValue for t in timesteps],\n",
    "    SoC              = [soc[t].varValue for t in timesteps]\n",
    ")\n",
    "\n",
    "# Add sanity check baseline for no-battery case\n",
    "df_result = df_result.assign(BaselineGridExport=(df_result.HomeGeneration  - df_result.HomeConsumption).clip(lower=0))\n",
    "df_result = df_result.assign(BaselineGridImport=(df_result.HomeConsumption - df_result.HomeGeneration ).clip(lower=0))\n",
    "\n",
    "baseline_price_export = df_result.BaselineGridExport * df_result.PriceSignal * interval_hours / 1000\n",
    "baseline_price_import = df_result.BaselineGridImport * df_result.PriceSignal * interval_hours / 1000\n",
    "df_result = df_result.assign(BaselineProfit=baseline_price_export - baseline_price_import)\n",
    "\n",
    "df_result = df_result.assign(BaselineCumulativeProfit=df_result.BaselineProfit.cumsum())\n",
    "\n",
    "battery_price_export = df_result.GridExport * df_result.PriceSignal * interval_hours / 1000\n",
    "battery_price_import = df_result.GridImport * df_result.PriceSignal * interval_hours / 1000\n",
    "df_result = df_result.assign(BatteryProfit=battery_price_export - battery_price_import)\n",
    "\n",
    "df_result = df_result.assign(BatteryCumulativeProfit=df_result.BatteryProfit.cumsum())\n",
    "\n",
    "# Print results\n",
    "battery_final  = df_result.BatteryCumulativeProfit .iloc[-1]\n",
    "baseline_final = df_result.BaselineCumulativeProfit.iloc[-1]\n",
    "print(f\"Optimization completed successfully\")\n",
    "print(f\"Total profit with battery:               €{battery_final:.2f}\")\n",
    "print(f\"Total profit without battery (baseline): €{baseline_final:.2f}\")\n",
    "print(f\"Difference:                              €{(battery_final - baseline_final):.2f}\")\n",
    "print(f\"Final SoC: {df_result.SoC.iloc[-1]:.2f} kWh (target: {battery.final_soc} kWh)\")\n",
    "\n"
   ]
  },
  {
   "cell_type": "markdown",
   "id": "329f26a0",
   "metadata": {},
   "source": [
    "### Running optimization"
   ]
  },
  {
   "cell_type": "code",
   "execution_count": null,
   "id": "870f5b0d",
   "metadata": {},
   "outputs": [
    {
     "data": {
      "application/vnd.plotly.v1+json": {
       "config": {
        "plotlyServerURL": "https://plot.ly"
       },
       "data": [
        {
         "name": "Home Generation",
         "type": "scatter",
         "x": [
          "2024-06-01T00:00:00.000000000",
          "2024-06-01T00:15:00.000000000",
          "2024-06-01T00:30:00.000000000",
          "2024-06-01T00:45:00.000000000",
          "2024-06-01T01:00:00.000000000",
          "2024-06-01T01:15:00.000000000",
          "2024-06-01T01:30:00.000000000",
          "2024-06-01T01:45:00.000000000",
          "2024-06-01T02:00:00.000000000",
          "2024-06-01T02:15:00.000000000",
          "2024-06-01T02:30:00.000000000",
          "2024-06-01T02:45:00.000000000",
          "2024-06-01T03:00:00.000000000",
          "2024-06-01T03:15:00.000000000",
          "2024-06-01T03:30:00.000000000",
          "2024-06-01T03:45:00.000000000",
          "2024-06-01T04:00:00.000000000",
          "2024-06-01T04:15:00.000000000",
          "2024-06-01T04:30:00.000000000",
          "2024-06-01T04:45:00.000000000",
          "2024-06-01T05:00:00.000000000",
          "2024-06-01T05:15:00.000000000",
          "2024-06-01T05:30:00.000000000",
          "2024-06-01T05:45:00.000000000",
          "2024-06-01T06:00:00.000000000",
          "2024-06-01T06:15:00.000000000",
          "2024-06-01T06:30:00.000000000",
          "2024-06-01T06:45:00.000000000",
          "2024-06-01T07:00:00.000000000",
          "2024-06-01T07:15:00.000000000",
          "2024-06-01T07:30:00.000000000",
          "2024-06-01T07:45:00.000000000",
          "2024-06-01T08:00:00.000000000",
          "2024-06-01T08:15:00.000000000",
          "2024-06-01T08:30:00.000000000",
          "2024-06-01T08:45:00.000000000",
          "2024-06-01T09:00:00.000000000",
          "2024-06-01T09:15:00.000000000",
          "2024-06-01T09:30:00.000000000",
          "2024-06-01T09:45:00.000000000",
          "2024-06-01T10:00:00.000000000",
          "2024-06-01T10:15:00.000000000",
          "2024-06-01T10:30:00.000000000",
          "2024-06-01T10:45:00.000000000",
          "2024-06-01T11:00:00.000000000",
          "2024-06-01T11:15:00.000000000",
          "2024-06-01T11:30:00.000000000",
          "2024-06-01T11:45:00.000000000",
          "2024-06-01T12:00:00.000000000",
          "2024-06-01T12:15:00.000000000",
          "2024-06-01T12:30:00.000000000",
          "2024-06-01T12:45:00.000000000",
          "2024-06-01T13:00:00.000000000",
          "2024-06-01T13:15:00.000000000",
          "2024-06-01T13:30:00.000000000",
          "2024-06-01T13:45:00.000000000",
          "2024-06-01T14:00:00.000000000",
          "2024-06-01T14:15:00.000000000",
          "2024-06-01T14:30:00.000000000",
          "2024-06-01T14:45:00.000000000",
          "2024-06-01T15:00:00.000000000",
          "2024-06-01T15:15:00.000000000",
          "2024-06-01T15:30:00.000000000",
          "2024-06-01T15:45:00.000000000",
          "2024-06-01T16:00:00.000000000",
          "2024-06-01T16:15:00.000000000",
          "2024-06-01T16:30:00.000000000",
          "2024-06-01T16:45:00.000000000",
          "2024-06-01T17:00:00.000000000",
          "2024-06-01T17:15:00.000000000",
          "2024-06-01T17:30:00.000000000",
          "2024-06-01T17:45:00.000000000",
          "2024-06-01T18:00:00.000000000",
          "2024-06-01T18:15:00.000000000",
          "2024-06-01T18:30:00.000000000",
          "2024-06-01T18:45:00.000000000",
          "2024-06-01T19:00:00.000000000",
          "2024-06-01T19:15:00.000000000",
          "2024-06-01T19:30:00.000000000",
          "2024-06-01T19:45:00.000000000",
          "2024-06-01T20:00:00.000000000",
          "2024-06-01T20:15:00.000000000",
          "2024-06-01T20:30:00.000000000",
          "2024-06-01T20:45:00.000000000",
          "2024-06-01T21:00:00.000000000",
          "2024-06-01T21:15:00.000000000",
          "2024-06-01T21:30:00.000000000",
          "2024-06-01T21:45:00.000000000",
          "2024-06-01T22:00:00.000000000",
          "2024-06-01T22:15:00.000000000",
          "2024-06-01T22:30:00.000000000",
          "2024-06-01T22:45:00.000000000",
          "2024-06-01T23:00:00.000000000",
          "2024-06-01T23:15:00.000000000",
          "2024-06-01T23:30:00.000000000",
          "2024-06-01T23:45:00.000000000",
          "2024-06-02T00:00:00.000000000",
          "2024-06-02T00:15:00.000000000",
          "2024-06-02T00:30:00.000000000",
          "2024-06-02T00:45:00.000000000",
          "2024-06-02T01:00:00.000000000",
          "2024-06-02T01:15:00.000000000",
          "2024-06-02T01:30:00.000000000",
          "2024-06-02T01:45:00.000000000",
          "2024-06-02T02:00:00.000000000",
          "2024-06-02T02:15:00.000000000",
          "2024-06-02T02:30:00.000000000",
          "2024-06-02T02:45:00.000000000",
          "2024-06-02T03:00:00.000000000",
          "2024-06-02T03:15:00.000000000",
          "2024-06-02T03:30:00.000000000",
          "2024-06-02T03:45:00.000000000",
          "2024-06-02T04:00:00.000000000",
          "2024-06-02T04:15:00.000000000",
          "2024-06-02T04:30:00.000000000",
          "2024-06-02T04:45:00.000000000",
          "2024-06-02T05:00:00.000000000",
          "2024-06-02T05:15:00.000000000",
          "2024-06-02T05:30:00.000000000",
          "2024-06-02T05:45:00.000000000",
          "2024-06-02T06:00:00.000000000",
          "2024-06-02T06:15:00.000000000",
          "2024-06-02T06:30:00.000000000",
          "2024-06-02T06:45:00.000000000",
          "2024-06-02T07:00:00.000000000",
          "2024-06-02T07:15:00.000000000",
          "2024-06-02T07:30:00.000000000",
          "2024-06-02T07:45:00.000000000",
          "2024-06-02T08:00:00.000000000",
          "2024-06-02T08:15:00.000000000",
          "2024-06-02T08:30:00.000000000",
          "2024-06-02T08:45:00.000000000",
          "2024-06-02T09:00:00.000000000",
          "2024-06-02T09:15:00.000000000",
          "2024-06-02T09:30:00.000000000",
          "2024-06-02T09:45:00.000000000",
          "2024-06-02T10:00:00.000000000",
          "2024-06-02T10:15:00.000000000",
          "2024-06-02T10:30:00.000000000",
          "2024-06-02T10:45:00.000000000",
          "2024-06-02T11:00:00.000000000",
          "2024-06-02T11:15:00.000000000",
          "2024-06-02T11:30:00.000000000",
          "2024-06-02T11:45:00.000000000",
          "2024-06-02T12:00:00.000000000",
          "2024-06-02T12:15:00.000000000",
          "2024-06-02T12:30:00.000000000",
          "2024-06-02T12:45:00.000000000",
          "2024-06-02T13:00:00.000000000",
          "2024-06-02T13:15:00.000000000",
          "2024-06-02T13:30:00.000000000",
          "2024-06-02T13:45:00.000000000",
          "2024-06-02T14:00:00.000000000",
          "2024-06-02T14:15:00.000000000",
          "2024-06-02T14:30:00.000000000",
          "2024-06-02T14:45:00.000000000",
          "2024-06-02T15:00:00.000000000",
          "2024-06-02T15:15:00.000000000",
          "2024-06-02T15:30:00.000000000",
          "2024-06-02T15:45:00.000000000",
          "2024-06-02T16:00:00.000000000",
          "2024-06-02T16:15:00.000000000",
          "2024-06-02T16:30:00.000000000",
          "2024-06-02T16:45:00.000000000",
          "2024-06-02T17:00:00.000000000",
          "2024-06-02T17:15:00.000000000",
          "2024-06-02T17:30:00.000000000",
          "2024-06-02T17:45:00.000000000",
          "2024-06-02T18:00:00.000000000",
          "2024-06-02T18:15:00.000000000",
          "2024-06-02T18:30:00.000000000",
          "2024-06-02T18:45:00.000000000",
          "2024-06-02T19:00:00.000000000",
          "2024-06-02T19:15:00.000000000",
          "2024-06-02T19:30:00.000000000",
          "2024-06-02T19:45:00.000000000",
          "2024-06-02T20:00:00.000000000",
          "2024-06-02T20:15:00.000000000",
          "2024-06-02T20:30:00.000000000",
          "2024-06-02T20:45:00.000000000",
          "2024-06-02T21:00:00.000000000",
          "2024-06-02T21:15:00.000000000",
          "2024-06-02T21:30:00.000000000",
          "2024-06-02T21:45:00.000000000",
          "2024-06-02T22:00:00.000000000",
          "2024-06-02T22:15:00.000000000",
          "2024-06-02T22:30:00.000000000",
          "2024-06-02T22:45:00.000000000",
          "2024-06-02T23:00:00.000000000",
          "2024-06-02T23:15:00.000000000",
          "2024-06-02T23:30:00.000000000",
          "2024-06-02T23:45:00.000000000",
          "2024-06-03T00:00:00.000000000"
         ],
         "xaxis": "x",
         "y": {
          "bdata": "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",
          "dtype": "f8"
         },
         "yaxis": "y"
        },
        {
         "name": "Home Consumption",
         "type": "scatter",
         "x": [
          "2024-06-01T00:00:00.000000000",
          "2024-06-01T00:15:00.000000000",
          "2024-06-01T00:30:00.000000000",
          "2024-06-01T00:45:00.000000000",
          "2024-06-01T01:00:00.000000000",
          "2024-06-01T01:15:00.000000000",
          "2024-06-01T01:30:00.000000000",
          "2024-06-01T01:45:00.000000000",
          "2024-06-01T02:00:00.000000000",
          "2024-06-01T02:15:00.000000000",
          "2024-06-01T02:30:00.000000000",
          "2024-06-01T02:45:00.000000000",
          "2024-06-01T03:00:00.000000000",
          "2024-06-01T03:15:00.000000000",
          "2024-06-01T03:30:00.000000000",
          "2024-06-01T03:45:00.000000000",
          "2024-06-01T04:00:00.000000000",
          "2024-06-01T04:15:00.000000000",
          "2024-06-01T04:30:00.000000000",
          "2024-06-01T04:45:00.000000000",
          "2024-06-01T05:00:00.000000000",
          "2024-06-01T05:15:00.000000000",
          "2024-06-01T05:30:00.000000000",
          "2024-06-01T05:45:00.000000000",
          "2024-06-01T06:00:00.000000000",
          "2024-06-01T06:15:00.000000000",
          "2024-06-01T06:30:00.000000000",
          "2024-06-01T06:45:00.000000000",
          "2024-06-01T07:00:00.000000000",
          "2024-06-01T07:15:00.000000000",
          "2024-06-01T07:30:00.000000000",
          "2024-06-01T07:45:00.000000000",
          "2024-06-01T08:00:00.000000000",
          "2024-06-01T08:15:00.000000000",
          "2024-06-01T08:30:00.000000000",
          "2024-06-01T08:45:00.000000000",
          "2024-06-01T09:00:00.000000000",
          "2024-06-01T09:15:00.000000000",
          "2024-06-01T09:30:00.000000000",
          "2024-06-01T09:45:00.000000000",
          "2024-06-01T10:00:00.000000000",
          "2024-06-01T10:15:00.000000000",
          "2024-06-01T10:30:00.000000000",
          "2024-06-01T10:45:00.000000000",
          "2024-06-01T11:00:00.000000000",
          "2024-06-01T11:15:00.000000000",
          "2024-06-01T11:30:00.000000000",
          "2024-06-01T11:45:00.000000000",
          "2024-06-01T12:00:00.000000000",
          "2024-06-01T12:15:00.000000000",
          "2024-06-01T12:30:00.000000000",
          "2024-06-01T12:45:00.000000000",
          "2024-06-01T13:00:00.000000000",
          "2024-06-01T13:15:00.000000000",
          "2024-06-01T13:30:00.000000000",
          "2024-06-01T13:45:00.000000000",
          "2024-06-01T14:00:00.000000000",
          "2024-06-01T14:15:00.000000000",
          "2024-06-01T14:30:00.000000000",
          "2024-06-01T14:45:00.000000000",
          "2024-06-01T15:00:00.000000000",
          "2024-06-01T15:15:00.000000000",
          "2024-06-01T15:30:00.000000000",
          "2024-06-01T15:45:00.000000000",
          "2024-06-01T16:00:00.000000000",
          "2024-06-01T16:15:00.000000000",
          "2024-06-01T16:30:00.000000000",
          "2024-06-01T16:45:00.000000000",
          "2024-06-01T17:00:00.000000000",
          "2024-06-01T17:15:00.000000000",
          "2024-06-01T17:30:00.000000000",
          "2024-06-01T17:45:00.000000000",
          "2024-06-01T18:00:00.000000000",
          "2024-06-01T18:15:00.000000000",
          "2024-06-01T18:30:00.000000000",
          "2024-06-01T18:45:00.000000000",
          "2024-06-01T19:00:00.000000000",
          "2024-06-01T19:15:00.000000000",
          "2024-06-01T19:30:00.000000000",
          "2024-06-01T19:45:00.000000000",
          "2024-06-01T20:00:00.000000000",
          "2024-06-01T20:15:00.000000000",
          "2024-06-01T20:30:00.000000000",
          "2024-06-01T20:45:00.000000000",
          "2024-06-01T21:00:00.000000000",
          "2024-06-01T21:15:00.000000000",
          "2024-06-01T21:30:00.000000000",
          "2024-06-01T21:45:00.000000000",
          "2024-06-01T22:00:00.000000000",
          "2024-06-01T22:15:00.000000000",
          "2024-06-01T22:30:00.000000000",
          "2024-06-01T22:45:00.000000000",
          "2024-06-01T23:00:00.000000000",
          "2024-06-01T23:15:00.000000000",
          "2024-06-01T23:30:00.000000000",
          "2024-06-01T23:45:00.000000000",
          "2024-06-02T00:00:00.000000000",
          "2024-06-02T00:15:00.000000000",
          "2024-06-02T00:30:00.000000000",
          "2024-06-02T00:45:00.000000000",
          "2024-06-02T01:00:00.000000000",
          "2024-06-02T01:15:00.000000000",
          "2024-06-02T01:30:00.000000000",
          "2024-06-02T01:45:00.000000000",
          "2024-06-02T02:00:00.000000000",
          "2024-06-02T02:15:00.000000000",
          "2024-06-02T02:30:00.000000000",
          "2024-06-02T02:45:00.000000000",
          "2024-06-02T03:00:00.000000000",
          "2024-06-02T03:15:00.000000000",
          "2024-06-02T03:30:00.000000000",
          "2024-06-02T03:45:00.000000000",
          "2024-06-02T04:00:00.000000000",
          "2024-06-02T04:15:00.000000000",
          "2024-06-02T04:30:00.000000000",
          "2024-06-02T04:45:00.000000000",
          "2024-06-02T05:00:00.000000000",
          "2024-06-02T05:15:00.000000000",
          "2024-06-02T05:30:00.000000000",
          "2024-06-02T05:45:00.000000000",
          "2024-06-02T06:00:00.000000000",
          "2024-06-02T06:15:00.000000000",
          "2024-06-02T06:30:00.000000000",
          "2024-06-02T06:45:00.000000000",
          "2024-06-02T07:00:00.000000000",
          "2024-06-02T07:15:00.000000000",
          "2024-06-02T07:30:00.000000000",
          "2024-06-02T07:45:00.000000000",
          "2024-06-02T08:00:00.000000000",
          "2024-06-02T08:15:00.000000000",
          "2024-06-02T08:30:00.000000000",
          "2024-06-02T08:45:00.000000000",
          "2024-06-02T09:00:00.000000000",
          "2024-06-02T09:15:00.000000000",
          "2024-06-02T09:30:00.000000000",
          "2024-06-02T09:45:00.000000000",
          "2024-06-02T10:00:00.000000000",
          "2024-06-02T10:15:00.000000000",
          "2024-06-02T10:30:00.000000000",
          "2024-06-02T10:45:00.000000000",
          "2024-06-02T11:00:00.000000000",
          "2024-06-02T11:15:00.000000000",
          "2024-06-02T11:30:00.000000000",
          "2024-06-02T11:45:00.000000000",
          "2024-06-02T12:00:00.000000000",
          "2024-06-02T12:15:00.000000000",
          "2024-06-02T12:30:00.000000000",
          "2024-06-02T12:45:00.000000000",
          "2024-06-02T13:00:00.000000000",
          "2024-06-02T13:15:00.000000000",
          "2024-06-02T13:30:00.000000000",
          "2024-06-02T13:45:00.000000000",
          "2024-06-02T14:00:00.000000000",
          "2024-06-02T14:15:00.000000000",
          "2024-06-02T14:30:00.000000000",
          "2024-06-02T14:45:00.000000000",
          "2024-06-02T15:00:00.000000000",
          "2024-06-02T15:15:00.000000000",
          "2024-06-02T15:30:00.000000000",
          "2024-06-02T15:45:00.000000000",
          "2024-06-02T16:00:00.000000000",
          "2024-06-02T16:15:00.000000000",
          "2024-06-02T16:30:00.000000000",
          "2024-06-02T16:45:00.000000000",
          "2024-06-02T17:00:00.000000000",
          "2024-06-02T17:15:00.000000000",
          "2024-06-02T17:30:00.000000000",
          "2024-06-02T17:45:00.000000000",
          "2024-06-02T18:00:00.000000000",
          "2024-06-02T18:15:00.000000000",
          "2024-06-02T18:30:00.000000000",
          "2024-06-02T18:45:00.000000000",
          "2024-06-02T19:00:00.000000000",
          "2024-06-02T19:15:00.000000000",
          "2024-06-02T19:30:00.000000000",
          "2024-06-02T19:45:00.000000000",
          "2024-06-02T20:00:00.000000000",
          "2024-06-02T20:15:00.000000000",
          "2024-06-02T20:30:00.000000000",
          "2024-06-02T20:45:00.000000000",
          "2024-06-02T21:00:00.000000000",
          "2024-06-02T21:15:00.000000000",
          "2024-06-02T21:30:00.000000000",
          "2024-06-02T21:45:00.000000000",
          "2024-06-02T22:00:00.000000000",
          "2024-06-02T22:15:00.000000000",
          "2024-06-02T22:30:00.000000000",
          "2024-06-02T22:45:00.000000000",
          "2024-06-02T23:00:00.000000000",
          "2024-06-02T23:15:00.000000000",
          "2024-06-02T23:30:00.000000000",
          "2024-06-02T23:45:00.000000000",
          "2024-06-03T00:00:00.000000000"
         ],
         "xaxis": "x",
         "y": {
          "bdata": "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",
          "dtype": "f8"
         },
         "yaxis": "y"
        },
        {
         "name": "Battery Charge",
         "type": "bar",
         "width": 300000,
         "x": [
          "2024-06-01T00:00:00.000000000",
          "2024-06-01T00:15:00.000000000",
          "2024-06-01T00:30:00.000000000",
          "2024-06-01T00:45:00.000000000",
          "2024-06-01T01:00:00.000000000",
          "2024-06-01T01:15:00.000000000",
          "2024-06-01T01:30:00.000000000",
          "2024-06-01T01:45:00.000000000",
          "2024-06-01T02:00:00.000000000",
          "2024-06-01T02:15:00.000000000",
          "2024-06-01T02:30:00.000000000",
          "2024-06-01T02:45:00.000000000",
          "2024-06-01T03:00:00.000000000",
          "2024-06-01T03:15:00.000000000",
          "2024-06-01T03:30:00.000000000",
          "2024-06-01T03:45:00.000000000",
          "2024-06-01T04:00:00.000000000",
          "2024-06-01T04:15:00.000000000",
          "2024-06-01T04:30:00.000000000",
          "2024-06-01T04:45:00.000000000",
          "2024-06-01T05:00:00.000000000",
          "2024-06-01T05:15:00.000000000",
          "2024-06-01T05:30:00.000000000",
          "2024-06-01T05:45:00.000000000",
          "2024-06-01T06:00:00.000000000",
          "2024-06-01T06:15:00.000000000",
          "2024-06-01T06:30:00.000000000",
          "2024-06-01T06:45:00.000000000",
          "2024-06-01T07:00:00.000000000",
          "2024-06-01T07:15:00.000000000",
          "2024-06-01T07:30:00.000000000",
          "2024-06-01T07:45:00.000000000",
          "2024-06-01T08:00:00.000000000",
          "2024-06-01T08:15:00.000000000",
          "2024-06-01T08:30:00.000000000",
          "2024-06-01T08:45:00.000000000",
          "2024-06-01T09:00:00.000000000",
          "2024-06-01T09:15:00.000000000",
          "2024-06-01T09:30:00.000000000",
          "2024-06-01T09:45:00.000000000",
          "2024-06-01T10:00:00.000000000",
          "2024-06-01T10:15:00.000000000",
          "2024-06-01T10:30:00.000000000",
          "2024-06-01T10:45:00.000000000",
          "2024-06-01T11:00:00.000000000",
          "2024-06-01T11:15:00.000000000",
          "2024-06-01T11:30:00.000000000",
          "2024-06-01T11:45:00.000000000",
          "2024-06-01T12:00:00.000000000",
          "2024-06-01T12:15:00.000000000",
          "2024-06-01T12:30:00.000000000",
          "2024-06-01T12:45:00.000000000",
          "2024-06-01T13:00:00.000000000",
          "2024-06-01T13:15:00.000000000",
          "2024-06-01T13:30:00.000000000",
          "2024-06-01T13:45:00.000000000",
          "2024-06-01T14:00:00.000000000",
          "2024-06-01T14:15:00.000000000",
          "2024-06-01T14:30:00.000000000",
          "2024-06-01T14:45:00.000000000",
          "2024-06-01T15:00:00.000000000",
          "2024-06-01T15:15:00.000000000",
          "2024-06-01T15:30:00.000000000",
          "2024-06-01T15:45:00.000000000",
          "2024-06-01T16:00:00.000000000",
          "2024-06-01T16:15:00.000000000",
          "2024-06-01T16:30:00.000000000",
          "2024-06-01T16:45:00.000000000",
          "2024-06-01T17:00:00.000000000",
          "2024-06-01T17:15:00.000000000",
          "2024-06-01T17:30:00.000000000",
          "2024-06-01T17:45:00.000000000",
          "2024-06-01T18:00:00.000000000",
          "2024-06-01T18:15:00.000000000",
          "2024-06-01T18:30:00.000000000",
          "2024-06-01T18:45:00.000000000",
          "2024-06-01T19:00:00.000000000",
          "2024-06-01T19:15:00.000000000",
          "2024-06-01T19:30:00.000000000",
          "2024-06-01T19:45:00.000000000",
          "2024-06-01T20:00:00.000000000",
          "2024-06-01T20:15:00.000000000",
          "2024-06-01T20:30:00.000000000",
          "2024-06-01T20:45:00.000000000",
          "2024-06-01T21:00:00.000000000",
          "2024-06-01T21:15:00.000000000",
          "2024-06-01T21:30:00.000000000",
          "2024-06-01T21:45:00.000000000",
          "2024-06-01T22:00:00.000000000",
          "2024-06-01T22:15:00.000000000",
          "2024-06-01T22:30:00.000000000",
          "2024-06-01T22:45:00.000000000",
          "2024-06-01T23:00:00.000000000",
          "2024-06-01T23:15:00.000000000",
          "2024-06-01T23:30:00.000000000",
          "2024-06-01T23:45:00.000000000",
          "2024-06-02T00:00:00.000000000",
          "2024-06-02T00:15:00.000000000",
          "2024-06-02T00:30:00.000000000",
          "2024-06-02T00:45:00.000000000",
          "2024-06-02T01:00:00.000000000",
          "2024-06-02T01:15:00.000000000",
          "2024-06-02T01:30:00.000000000",
          "2024-06-02T01:45:00.000000000",
          "2024-06-02T02:00:00.000000000",
          "2024-06-02T02:15:00.000000000",
          "2024-06-02T02:30:00.000000000",
          "2024-06-02T02:45:00.000000000",
          "2024-06-02T03:00:00.000000000",
          "2024-06-02T03:15:00.000000000",
          "2024-06-02T03:30:00.000000000",
          "2024-06-02T03:45:00.000000000",
          "2024-06-02T04:00:00.000000000",
          "2024-06-02T04:15:00.000000000",
          "2024-06-02T04:30:00.000000000",
          "2024-06-02T04:45:00.000000000",
          "2024-06-02T05:00:00.000000000",
          "2024-06-02T05:15:00.000000000",
          "2024-06-02T05:30:00.000000000",
          "2024-06-02T05:45:00.000000000",
          "2024-06-02T06:00:00.000000000",
          "2024-06-02T06:15:00.000000000",
          "2024-06-02T06:30:00.000000000",
          "2024-06-02T06:45:00.000000000",
          "2024-06-02T07:00:00.000000000",
          "2024-06-02T07:15:00.000000000",
          "2024-06-02T07:30:00.000000000",
          "2024-06-02T07:45:00.000000000",
          "2024-06-02T08:00:00.000000000",
          "2024-06-02T08:15:00.000000000",
          "2024-06-02T08:30:00.000000000",
          "2024-06-02T08:45:00.000000000",
          "2024-06-02T09:00:00.000000000",
          "2024-06-02T09:15:00.000000000",
          "2024-06-02T09:30:00.000000000",
          "2024-06-02T09:45:00.000000000",
          "2024-06-02T10:00:00.000000000",
          "2024-06-02T10:15:00.000000000",
          "2024-06-02T10:30:00.000000000",
          "2024-06-02T10:45:00.000000000",
          "2024-06-02T11:00:00.000000000",
          "2024-06-02T11:15:00.000000000",
          "2024-06-02T11:30:00.000000000",
          "2024-06-02T11:45:00.000000000",
          "2024-06-02T12:00:00.000000000",
          "2024-06-02T12:15:00.000000000",
          "2024-06-02T12:30:00.000000000",
          "2024-06-02T12:45:00.000000000",
          "2024-06-02T13:00:00.000000000",
          "2024-06-02T13:15:00.000000000",
          "2024-06-02T13:30:00.000000000",
          "2024-06-02T13:45:00.000000000",
          "2024-06-02T14:00:00.000000000",
          "2024-06-02T14:15:00.000000000",
          "2024-06-02T14:30:00.000000000",
          "2024-06-02T14:45:00.000000000",
          "2024-06-02T15:00:00.000000000",
          "2024-06-02T15:15:00.000000000",
          "2024-06-02T15:30:00.000000000",
          "2024-06-02T15:45:00.000000000",
          "2024-06-02T16:00:00.000000000",
          "2024-06-02T16:15:00.000000000",
          "2024-06-02T16:30:00.000000000",
          "2024-06-02T16:45:00.000000000",
          "2024-06-02T17:00:00.000000000",
          "2024-06-02T17:15:00.000000000",
          "2024-06-02T17:30:00.000000000",
          "2024-06-02T17:45:00.000000000",
          "2024-06-02T18:00:00.000000000",
          "2024-06-02T18:15:00.000000000",
          "2024-06-02T18:30:00.000000000",
          "2024-06-02T18:45:00.000000000",
          "2024-06-02T19:00:00.000000000",
          "2024-06-02T19:15:00.000000000",
          "2024-06-02T19:30:00.000000000",
          "2024-06-02T19:45:00.000000000",
          "2024-06-02T20:00:00.000000000",
          "2024-06-02T20:15:00.000000000",
          "2024-06-02T20:30:00.000000000",
          "2024-06-02T20:45:00.000000000",
          "2024-06-02T21:00:00.000000000",
          "2024-06-02T21:15:00.000000000",
          "2024-06-02T21:30:00.000000000",
          "2024-06-02T21:45:00.000000000",
          "2024-06-02T22:00:00.000000000",
          "2024-06-02T22:15:00.000000000",
          "2024-06-02T22:30:00.000000000",
          "2024-06-02T22:45:00.000000000",
          "2024-06-02T23:00:00.000000000",
          "2024-06-02T23:15:00.000000000",
          "2024-06-02T23:30:00.000000000",
          "2024-06-02T23:45:00.000000000",
          "2024-06-03T00:00:00.000000000"
         ],
         "xaxis": "x2",
         "y": {
          "bdata": "AAAAAAAAFEAAAAAAAAAUQAAAAAAAABRAAAAAAAAAFEAAAAAAAAAAAAAAAAAAAAAAAAAAAAAAFEAAAAAAAAAAACZncnuTsA9AAAAAAAAAFEAAAAAAAAAAAAAAAAAAAAAAAAAAAAAAAAAAAAAAAAAAAAAAAAAAABRAAAAAAAAAAAAAAAAAAAAUQAAAAAAAAAAAAAAAAAAAFEAAAAAAAAAAAAAAAAAAAAAAAAAAAAAAAAAAAAAAAAAAAAAAAAAAABRAAAAAAAAAFEAAAAAAAAAAAAAAAAAAAAAAAAAAAAAAAAAAAAAAAAAAAAAAAAAAAAAAAAAAAAAAAAAAAAAAAAAAAAAAAAAAAAAAAAAAAAAAAAAAAAAAAAAAAAAAAAAAAAAAAAAAAAAAAAAAAAAAAAAAAAAAAAAAAAAAAAAAAAAAFEAAAAAAAAAAAAAAAAAAAAAAAAAAAAAAFEAAAAAAAAAUQAAAAAAAABRAAAAAAAAAAAAAAAAAAAAAAAAAAAAAABRAAAAAAAAAFEAAAAAAAAAAAAAAAAAAAAAAAAAAAAAAFEAAAAAAAAAAAAAAAAAAABRAAAAAAAAAFEAAAAAAAAAUQAAAAAAAABRAAAAAAAAAAAB53AHoQSv7PwAAAAAAABRAAAAAAAAAAAAAAAAAAAAUQAAAAAAAAAAAAAAAAAAAFEBy8mygCknhPwAAAAAAAAAAAAAAAAAAAAAAAAAAAAAAAHLybKAKSeE/AAAAAAAAAAAAAAAAAAAAAAAAAAAAABRAAAAAAAAAAAAAAAAAAAAAAAAAAAAAAAAAAAAAAAAAAAAAAAAAAAAAAAAAAAAAAAAAAAAAAAAAAAAAAAAAAAAAAD5WlSKe+RBAAAAAAAAAAAAAAAAAAAAAAAAAAAAAAAAAAAAAAAAAAAAAAAAAAAAAAAAAAAAAABRAAAAAAAAAAAAAAAAAAAAUQAAAAAAAAAAAAAAAAAAAFEAAAAAAAAAUQAAAAAAAAAAAAAAAAAAAAAAAAAAAAAAAAAAAAAAAABRAAAAAAAAAAAAAAAAAAAAUQAAAAAAAAAAAAAAAAAAAAAAAAAAAAAAAAAAAAAAAAAAAAAAAAAAAFEAAAAAAAAAUQAAAAAAAAAAAAAAAAAAAAAAAAAAAAAAUQAAAAAAAABRAAAAAAAAAFEAAAAAAAAAUQAAAAAAAAAAAAAAAAAAAFEAAAAAAAAAUQAAAAAAAAAAAAAAAAAAAFEAAAAAAAAAUQAAAAAAAAAAAAAAAAAAAFEAAAAAAAAAUQAAAAAAAABRAAAAAAAAAAAAAAAAAAAAAAAAAAAAAAAAAAAAAAAAAAAAAAAAAAAAAAAAAAAAAAAAAAAAAAAAAAAAAAAAAAAAAAAAAAAAAAAAAAAAAAAAAAAAAAAAAAAAAAAAAAAAAAAAAAAAAAAAAAAAAAAAAAAAUQAAAAAAAAAAAAAAAAAAAFEAAAAAAAAAAAAAAAAAAAAAAAAAAAAAAFEAAAAAAAAAAAAAAAAAAABRAAAAAAAAAFEAAAAAAAAAUQAAAAAAAABRAAAAAAAAAFEAAAAAAAAAUQAAAAAAAAAAAAAAAAAAAFEAAAAAAAAAUQAAAAAAAABRAedwB6EEr+z8AAAAAAAAUQAAAAAAAAAAAAAAAAAAAAAAAAAAAAAAAAAAAAAAAAAAAAAAAAAAAAAAAAAAAAAAUQAAAAAAAABRAAAAAAAAAAAAAAAAAAAAAAAAAAAAAABRAAAAAAAAAAAAAAAAAAAAAAAAAAAAAABRAAAAAAAAAAAAAAAAAAAAAAHLybKAKSeE/AAAAAAAAFEAAAAAAAAAAAAAAAAAAAAAAAAAAAAAAAAAAAAAAAAAAAAAAAAAAAAAAAAAAAAAAAAAAAAAAAAAAAAAAAAAAABRAAAAAAAAAAAAAAAAAAAAAAAAAAAAAAAAAAAAAAAAAAAAAAAAAAAAAAAAAAAAAAAAAAAAAAAAAAAAAAAAAAAAUQAAAAAAAAAAAAAAAAAAAFEAAAAAAAAAAAAAAAAAAABRAAAAAAAAAAAAAAAAAAAAUQAAAAAAAABRAF4eOeA3lBUA=",
          "dtype": "f8"
         },
         "yaxis": "y2"
        },
        {
         "name": "Battery Discharge",
         "type": "bar",
         "width": 300000,
         "x": [
          "2024-06-01T00:00:00.000000000",
          "2024-06-01T00:15:00.000000000",
          "2024-06-01T00:30:00.000000000",
          "2024-06-01T00:45:00.000000000",
          "2024-06-01T01:00:00.000000000",
          "2024-06-01T01:15:00.000000000",
          "2024-06-01T01:30:00.000000000",
          "2024-06-01T01:45:00.000000000",
          "2024-06-01T02:00:00.000000000",
          "2024-06-01T02:15:00.000000000",
          "2024-06-01T02:30:00.000000000",
          "2024-06-01T02:45:00.000000000",
          "2024-06-01T03:00:00.000000000",
          "2024-06-01T03:15:00.000000000",
          "2024-06-01T03:30:00.000000000",
          "2024-06-01T03:45:00.000000000",
          "2024-06-01T04:00:00.000000000",
          "2024-06-01T04:15:00.000000000",
          "2024-06-01T04:30:00.000000000",
          "2024-06-01T04:45:00.000000000",
          "2024-06-01T05:00:00.000000000",
          "2024-06-01T05:15:00.000000000",
          "2024-06-01T05:30:00.000000000",
          "2024-06-01T05:45:00.000000000",
          "2024-06-01T06:00:00.000000000",
          "2024-06-01T06:15:00.000000000",
          "2024-06-01T06:30:00.000000000",
          "2024-06-01T06:45:00.000000000",
          "2024-06-01T07:00:00.000000000",
          "2024-06-01T07:15:00.000000000",
          "2024-06-01T07:30:00.000000000",
          "2024-06-01T07:45:00.000000000",
          "2024-06-01T08:00:00.000000000",
          "2024-06-01T08:15:00.000000000",
          "2024-06-01T08:30:00.000000000",
          "2024-06-01T08:45:00.000000000",
          "2024-06-01T09:00:00.000000000",
          "2024-06-01T09:15:00.000000000",
          "2024-06-01T09:30:00.000000000",
          "2024-06-01T09:45:00.000000000",
          "2024-06-01T10:00:00.000000000",
          "2024-06-01T10:15:00.000000000",
          "2024-06-01T10:30:00.000000000",
          "2024-06-01T10:45:00.000000000",
          "2024-06-01T11:00:00.000000000",
          "2024-06-01T11:15:00.000000000",
          "2024-06-01T11:30:00.000000000",
          "2024-06-01T11:45:00.000000000",
          "2024-06-01T12:00:00.000000000",
          "2024-06-01T12:15:00.000000000",
          "2024-06-01T12:30:00.000000000",
          "2024-06-01T12:45:00.000000000",
          "2024-06-01T13:00:00.000000000",
          "2024-06-01T13:15:00.000000000",
          "2024-06-01T13:30:00.000000000",
          "2024-06-01T13:45:00.000000000",
          "2024-06-01T14:00:00.000000000",
          "2024-06-01T14:15:00.000000000",
          "2024-06-01T14:30:00.000000000",
          "2024-06-01T14:45:00.000000000",
          "2024-06-01T15:00:00.000000000",
          "2024-06-01T15:15:00.000000000",
          "2024-06-01T15:30:00.000000000",
          "2024-06-01T15:45:00.000000000",
          "2024-06-01T16:00:00.000000000",
          "2024-06-01T16:15:00.000000000",
          "2024-06-01T16:30:00.000000000",
          "2024-06-01T16:45:00.000000000",
          "2024-06-01T17:00:00.000000000",
          "2024-06-01T17:15:00.000000000",
          "2024-06-01T17:30:00.000000000",
          "2024-06-01T17:45:00.000000000",
          "2024-06-01T18:00:00.000000000",
          "2024-06-01T18:15:00.000000000",
          "2024-06-01T18:30:00.000000000",
          "2024-06-01T18:45:00.000000000",
          "2024-06-01T19:00:00.000000000",
          "2024-06-01T19:15:00.000000000",
          "2024-06-01T19:30:00.000000000",
          "2024-06-01T19:45:00.000000000",
          "2024-06-01T20:00:00.000000000",
          "2024-06-01T20:15:00.000000000",
          "2024-06-01T20:30:00.000000000",
          "2024-06-01T20:45:00.000000000",
          "2024-06-01T21:00:00.000000000",
          "2024-06-01T21:15:00.000000000",
          "2024-06-01T21:30:00.000000000",
          "2024-06-01T21:45:00.000000000",
          "2024-06-01T22:00:00.000000000",
          "2024-06-01T22:15:00.000000000",
          "2024-06-01T22:30:00.000000000",
          "2024-06-01T22:45:00.000000000",
          "2024-06-01T23:00:00.000000000",
          "2024-06-01T23:15:00.000000000",
          "2024-06-01T23:30:00.000000000",
          "2024-06-01T23:45:00.000000000",
          "2024-06-02T00:00:00.000000000",
          "2024-06-02T00:15:00.000000000",
          "2024-06-02T00:30:00.000000000",
          "2024-06-02T00:45:00.000000000",
          "2024-06-02T01:00:00.000000000",
          "2024-06-02T01:15:00.000000000",
          "2024-06-02T01:30:00.000000000",
          "2024-06-02T01:45:00.000000000",
          "2024-06-02T02:00:00.000000000",
          "2024-06-02T02:15:00.000000000",
          "2024-06-02T02:30:00.000000000",
          "2024-06-02T02:45:00.000000000",
          "2024-06-02T03:00:00.000000000",
          "2024-06-02T03:15:00.000000000",
          "2024-06-02T03:30:00.000000000",
          "2024-06-02T03:45:00.000000000",
          "2024-06-02T04:00:00.000000000",
          "2024-06-02T04:15:00.000000000",
          "2024-06-02T04:30:00.000000000",
          "2024-06-02T04:45:00.000000000",
          "2024-06-02T05:00:00.000000000",
          "2024-06-02T05:15:00.000000000",
          "2024-06-02T05:30:00.000000000",
          "2024-06-02T05:45:00.000000000",
          "2024-06-02T06:00:00.000000000",
          "2024-06-02T06:15:00.000000000",
          "2024-06-02T06:30:00.000000000",
          "2024-06-02T06:45:00.000000000",
          "2024-06-02T07:00:00.000000000",
          "2024-06-02T07:15:00.000000000",
          "2024-06-02T07:30:00.000000000",
          "2024-06-02T07:45:00.000000000",
          "2024-06-02T08:00:00.000000000",
          "2024-06-02T08:15:00.000000000",
          "2024-06-02T08:30:00.000000000",
          "2024-06-02T08:45:00.000000000",
          "2024-06-02T09:00:00.000000000",
          "2024-06-02T09:15:00.000000000",
          "2024-06-02T09:30:00.000000000",
          "2024-06-02T09:45:00.000000000",
          "2024-06-02T10:00:00.000000000",
          "2024-06-02T10:15:00.000000000",
          "2024-06-02T10:30:00.000000000",
          "2024-06-02T10:45:00.000000000",
          "2024-06-02T11:00:00.000000000",
          "2024-06-02T11:15:00.000000000",
          "2024-06-02T11:30:00.000000000",
          "2024-06-02T11:45:00.000000000",
          "2024-06-02T12:00:00.000000000",
          "2024-06-02T12:15:00.000000000",
          "2024-06-02T12:30:00.000000000",
          "2024-06-02T12:45:00.000000000",
          "2024-06-02T13:00:00.000000000",
          "2024-06-02T13:15:00.000000000",
          "2024-06-02T13:30:00.000000000",
          "2024-06-02T13:45:00.000000000",
          "2024-06-02T14:00:00.000000000",
          "2024-06-02T14:15:00.000000000",
          "2024-06-02T14:30:00.000000000",
          "2024-06-02T14:45:00.000000000",
          "2024-06-02T15:00:00.000000000",
          "2024-06-02T15:15:00.000000000",
          "2024-06-02T15:30:00.000000000",
          "2024-06-02T15:45:00.000000000",
          "2024-06-02T16:00:00.000000000",
          "2024-06-02T16:15:00.000000000",
          "2024-06-02T16:30:00.000000000",
          "2024-06-02T16:45:00.000000000",
          "2024-06-02T17:00:00.000000000",
          "2024-06-02T17:15:00.000000000",
          "2024-06-02T17:30:00.000000000",
          "2024-06-02T17:45:00.000000000",
          "2024-06-02T18:00:00.000000000",
          "2024-06-02T18:15:00.000000000",
          "2024-06-02T18:30:00.000000000",
          "2024-06-02T18:45:00.000000000",
          "2024-06-02T19:00:00.000000000",
          "2024-06-02T19:15:00.000000000",
          "2024-06-02T19:30:00.000000000",
          "2024-06-02T19:45:00.000000000",
          "2024-06-02T20:00:00.000000000",
          "2024-06-02T20:15:00.000000000",
          "2024-06-02T20:30:00.000000000",
          "2024-06-02T20:45:00.000000000",
          "2024-06-02T21:00:00.000000000",
          "2024-06-02T21:15:00.000000000",
          "2024-06-02T21:30:00.000000000",
          "2024-06-02T21:45:00.000000000",
          "2024-06-02T22:00:00.000000000",
          "2024-06-02T22:15:00.000000000",
          "2024-06-02T22:30:00.000000000",
          "2024-06-02T22:45:00.000000000",
          "2024-06-02T23:00:00.000000000",
          "2024-06-02T23:15:00.000000000",
          "2024-06-02T23:30:00.000000000",
          "2024-06-02T23:45:00.000000000",
          "2024-06-03T00:00:00.000000000"
         ],
         "xaxis": "x2",
         "y": {
          "bdata": "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",
          "dtype": "f8"
         },
         "yaxis": "y2"
        },
        {
         "name": "Net Grid Flow",
         "type": "scatter",
         "x": [
          "2024-06-01T00:00:00.000000000",
          "2024-06-01T00:15:00.000000000",
          "2024-06-01T00:30:00.000000000",
          "2024-06-01T00:45:00.000000000",
          "2024-06-01T01:00:00.000000000",
          "2024-06-01T01:15:00.000000000",
          "2024-06-01T01:30:00.000000000",
          "2024-06-01T01:45:00.000000000",
          "2024-06-01T02:00:00.000000000",
          "2024-06-01T02:15:00.000000000",
          "2024-06-01T02:30:00.000000000",
          "2024-06-01T02:45:00.000000000",
          "2024-06-01T03:00:00.000000000",
          "2024-06-01T03:15:00.000000000",
          "2024-06-01T03:30:00.000000000",
          "2024-06-01T03:45:00.000000000",
          "2024-06-01T04:00:00.000000000",
          "2024-06-01T04:15:00.000000000",
          "2024-06-01T04:30:00.000000000",
          "2024-06-01T04:45:00.000000000",
          "2024-06-01T05:00:00.000000000",
          "2024-06-01T05:15:00.000000000",
          "2024-06-01T05:30:00.000000000",
          "2024-06-01T05:45:00.000000000",
          "2024-06-01T06:00:00.000000000",
          "2024-06-01T06:15:00.000000000",
          "2024-06-01T06:30:00.000000000",
          "2024-06-01T06:45:00.000000000",
          "2024-06-01T07:00:00.000000000",
          "2024-06-01T07:15:00.000000000",
          "2024-06-01T07:30:00.000000000",
          "2024-06-01T07:45:00.000000000",
          "2024-06-01T08:00:00.000000000",
          "2024-06-01T08:15:00.000000000",
          "2024-06-01T08:30:00.000000000",
          "2024-06-01T08:45:00.000000000",
          "2024-06-01T09:00:00.000000000",
          "2024-06-01T09:15:00.000000000",
          "2024-06-01T09:30:00.000000000",
          "2024-06-01T09:45:00.000000000",
          "2024-06-01T10:00:00.000000000",
          "2024-06-01T10:15:00.000000000",
          "2024-06-01T10:30:00.000000000",
          "2024-06-01T10:45:00.000000000",
          "2024-06-01T11:00:00.000000000",
          "2024-06-01T11:15:00.000000000",
          "2024-06-01T11:30:00.000000000",
          "2024-06-01T11:45:00.000000000",
          "2024-06-01T12:00:00.000000000",
          "2024-06-01T12:15:00.000000000",
          "2024-06-01T12:30:00.000000000",
          "2024-06-01T12:45:00.000000000",
          "2024-06-01T13:00:00.000000000",
          "2024-06-01T13:15:00.000000000",
          "2024-06-01T13:30:00.000000000",
          "2024-06-01T13:45:00.000000000",
          "2024-06-01T14:00:00.000000000",
          "2024-06-01T14:15:00.000000000",
          "2024-06-01T14:30:00.000000000",
          "2024-06-01T14:45:00.000000000",
          "2024-06-01T15:00:00.000000000",
          "2024-06-01T15:15:00.000000000",
          "2024-06-01T15:30:00.000000000",
          "2024-06-01T15:45:00.000000000",
          "2024-06-01T16:00:00.000000000",
          "2024-06-01T16:15:00.000000000",
          "2024-06-01T16:30:00.000000000",
          "2024-06-01T16:45:00.000000000",
          "2024-06-01T17:00:00.000000000",
          "2024-06-01T17:15:00.000000000",
          "2024-06-01T17:30:00.000000000",
          "2024-06-01T17:45:00.000000000",
          "2024-06-01T18:00:00.000000000",
          "2024-06-01T18:15:00.000000000",
          "2024-06-01T18:30:00.000000000",
          "2024-06-01T18:45:00.000000000",
          "2024-06-01T19:00:00.000000000",
          "2024-06-01T19:15:00.000000000",
          "2024-06-01T19:30:00.000000000",
          "2024-06-01T19:45:00.000000000",
          "2024-06-01T20:00:00.000000000",
          "2024-06-01T20:15:00.000000000",
          "2024-06-01T20:30:00.000000000",
          "2024-06-01T20:45:00.000000000",
          "2024-06-01T21:00:00.000000000",
          "2024-06-01T21:15:00.000000000",
          "2024-06-01T21:30:00.000000000",
          "2024-06-01T21:45:00.000000000",
          "2024-06-01T22:00:00.000000000",
          "2024-06-01T22:15:00.000000000",
          "2024-06-01T22:30:00.000000000",
          "2024-06-01T22:45:00.000000000",
          "2024-06-01T23:00:00.000000000",
          "2024-06-01T23:15:00.000000000",
          "2024-06-01T23:30:00.000000000",
          "2024-06-01T23:45:00.000000000",
          "2024-06-02T00:00:00.000000000",
          "2024-06-02T00:15:00.000000000",
          "2024-06-02T00:30:00.000000000",
          "2024-06-02T00:45:00.000000000",
          "2024-06-02T01:00:00.000000000",
          "2024-06-02T01:15:00.000000000",
          "2024-06-02T01:30:00.000000000",
          "2024-06-02T01:45:00.000000000",
          "2024-06-02T02:00:00.000000000",
          "2024-06-02T02:15:00.000000000",
          "2024-06-02T02:30:00.000000000",
          "2024-06-02T02:45:00.000000000",
          "2024-06-02T03:00:00.000000000",
          "2024-06-02T03:15:00.000000000",
          "2024-06-02T03:30:00.000000000",
          "2024-06-02T03:45:00.000000000",
          "2024-06-02T04:00:00.000000000",
          "2024-06-02T04:15:00.000000000",
          "2024-06-02T04:30:00.000000000",
          "2024-06-02T04:45:00.000000000",
          "2024-06-02T05:00:00.000000000",
          "2024-06-02T05:15:00.000000000",
          "2024-06-02T05:30:00.000000000",
          "2024-06-02T05:45:00.000000000",
          "2024-06-02T06:00:00.000000000",
          "2024-06-02T06:15:00.000000000",
          "2024-06-02T06:30:00.000000000",
          "2024-06-02T06:45:00.000000000",
          "2024-06-02T07:00:00.000000000",
          "2024-06-02T07:15:00.000000000",
          "2024-06-02T07:30:00.000000000",
          "2024-06-02T07:45:00.000000000",
          "2024-06-02T08:00:00.000000000",
          "2024-06-02T08:15:00.000000000",
          "2024-06-02T08:30:00.000000000",
          "2024-06-02T08:45:00.000000000",
          "2024-06-02T09:00:00.000000000",
          "2024-06-02T09:15:00.000000000",
          "2024-06-02T09:30:00.000000000",
          "2024-06-02T09:45:00.000000000",
          "2024-06-02T10:00:00.000000000",
          "2024-06-02T10:15:00.000000000",
          "2024-06-02T10:30:00.000000000",
          "2024-06-02T10:45:00.000000000",
          "2024-06-02T11:00:00.000000000",
          "2024-06-02T11:15:00.000000000",
          "2024-06-02T11:30:00.000000000",
          "2024-06-02T11:45:00.000000000",
          "2024-06-02T12:00:00.000000000",
          "2024-06-02T12:15:00.000000000",
          "2024-06-02T12:30:00.000000000",
          "2024-06-02T12:45:00.000000000",
          "2024-06-02T13:00:00.000000000",
          "2024-06-02T13:15:00.000000000",
          "2024-06-02T13:30:00.000000000",
          "2024-06-02T13:45:00.000000000",
          "2024-06-02T14:00:00.000000000",
          "2024-06-02T14:15:00.000000000",
          "2024-06-02T14:30:00.000000000",
          "2024-06-02T14:45:00.000000000",
          "2024-06-02T15:00:00.000000000",
          "2024-06-02T15:15:00.000000000",
          "2024-06-02T15:30:00.000000000",
          "2024-06-02T15:45:00.000000000",
          "2024-06-02T16:00:00.000000000",
          "2024-06-02T16:15:00.000000000",
          "2024-06-02T16:30:00.000000000",
          "2024-06-02T16:45:00.000000000",
          "2024-06-02T17:00:00.000000000",
          "2024-06-02T17:15:00.000000000",
          "2024-06-02T17:30:00.000000000",
          "2024-06-02T17:45:00.000000000",
          "2024-06-02T18:00:00.000000000",
          "2024-06-02T18:15:00.000000000",
          "2024-06-02T18:30:00.000000000",
          "2024-06-02T18:45:00.000000000",
          "2024-06-02T19:00:00.000000000",
          "2024-06-02T19:15:00.000000000",
          "2024-06-02T19:30:00.000000000",
          "2024-06-02T19:45:00.000000000",
          "2024-06-02T20:00:00.000000000",
          "2024-06-02T20:15:00.000000000",
          "2024-06-02T20:30:00.000000000",
          "2024-06-02T20:45:00.000000000",
          "2024-06-02T21:00:00.000000000",
          "2024-06-02T21:15:00.000000000",
          "2024-06-02T21:30:00.000000000",
          "2024-06-02T21:45:00.000000000",
          "2024-06-02T22:00:00.000000000",
          "2024-06-02T22:15:00.000000000",
          "2024-06-02T22:30:00.000000000",
          "2024-06-02T22:45:00.000000000",
          "2024-06-02T23:00:00.000000000",
          "2024-06-02T23:15:00.000000000",
          "2024-06-02T23:30:00.000000000",
          "2024-06-02T23:45:00.000000000",
          "2024-06-03T00:00:00.000000000"
         ],
         "xaxis": "x3",
         "y": {
          "bdata": "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",
          "dtype": "f8"
         },
         "yaxis": "y3"
        },
        {
         "name": "Battery SoC",
         "type": "scatter",
         "x": [
          "2024-06-01T00:00:00.000000000",
          "2024-06-01T00:15:00.000000000",
          "2024-06-01T00:30:00.000000000",
          "2024-06-01T00:45:00.000000000",
          "2024-06-01T01:00:00.000000000",
          "2024-06-01T01:15:00.000000000",
          "2024-06-01T01:30:00.000000000",
          "2024-06-01T01:45:00.000000000",
          "2024-06-01T02:00:00.000000000",
          "2024-06-01T02:15:00.000000000",
          "2024-06-01T02:30:00.000000000",
          "2024-06-01T02:45:00.000000000",
          "2024-06-01T03:00:00.000000000",
          "2024-06-01T03:15:00.000000000",
          "2024-06-01T03:30:00.000000000",
          "2024-06-01T03:45:00.000000000",
          "2024-06-01T04:00:00.000000000",
          "2024-06-01T04:15:00.000000000",
          "2024-06-01T04:30:00.000000000",
          "2024-06-01T04:45:00.000000000",
          "2024-06-01T05:00:00.000000000",
          "2024-06-01T05:15:00.000000000",
          "2024-06-01T05:30:00.000000000",
          "2024-06-01T05:45:00.000000000",
          "2024-06-01T06:00:00.000000000",
          "2024-06-01T06:15:00.000000000",
          "2024-06-01T06:30:00.000000000",
          "2024-06-01T06:45:00.000000000",
          "2024-06-01T07:00:00.000000000",
          "2024-06-01T07:15:00.000000000",
          "2024-06-01T07:30:00.000000000",
          "2024-06-01T07:45:00.000000000",
          "2024-06-01T08:00:00.000000000",
          "2024-06-01T08:15:00.000000000",
          "2024-06-01T08:30:00.000000000",
          "2024-06-01T08:45:00.000000000",
          "2024-06-01T09:00:00.000000000",
          "2024-06-01T09:15:00.000000000",
          "2024-06-01T09:30:00.000000000",
          "2024-06-01T09:45:00.000000000",
          "2024-06-01T10:00:00.000000000",
          "2024-06-01T10:15:00.000000000",
          "2024-06-01T10:30:00.000000000",
          "2024-06-01T10:45:00.000000000",
          "2024-06-01T11:00:00.000000000",
          "2024-06-01T11:15:00.000000000",
          "2024-06-01T11:30:00.000000000",
          "2024-06-01T11:45:00.000000000",
          "2024-06-01T12:00:00.000000000",
          "2024-06-01T12:15:00.000000000",
          "2024-06-01T12:30:00.000000000",
          "2024-06-01T12:45:00.000000000",
          "2024-06-01T13:00:00.000000000",
          "2024-06-01T13:15:00.000000000",
          "2024-06-01T13:30:00.000000000",
          "2024-06-01T13:45:00.000000000",
          "2024-06-01T14:00:00.000000000",
          "2024-06-01T14:15:00.000000000",
          "2024-06-01T14:30:00.000000000",
          "2024-06-01T14:45:00.000000000",
          "2024-06-01T15:00:00.000000000",
          "2024-06-01T15:15:00.000000000",
          "2024-06-01T15:30:00.000000000",
          "2024-06-01T15:45:00.000000000",
          "2024-06-01T16:00:00.000000000",
          "2024-06-01T16:15:00.000000000",
          "2024-06-01T16:30:00.000000000",
          "2024-06-01T16:45:00.000000000",
          "2024-06-01T17:00:00.000000000",
          "2024-06-01T17:15:00.000000000",
          "2024-06-01T17:30:00.000000000",
          "2024-06-01T17:45:00.000000000",
          "2024-06-01T18:00:00.000000000",
          "2024-06-01T18:15:00.000000000",
          "2024-06-01T18:30:00.000000000",
          "2024-06-01T18:45:00.000000000",
          "2024-06-01T19:00:00.000000000",
          "2024-06-01T19:15:00.000000000",
          "2024-06-01T19:30:00.000000000",
          "2024-06-01T19:45:00.000000000",
          "2024-06-01T20:00:00.000000000",
          "2024-06-01T20:15:00.000000000",
          "2024-06-01T20:30:00.000000000",
          "2024-06-01T20:45:00.000000000",
          "2024-06-01T21:00:00.000000000",
          "2024-06-01T21:15:00.000000000",
          "2024-06-01T21:30:00.000000000",
          "2024-06-01T21:45:00.000000000",
          "2024-06-01T22:00:00.000000000",
          "2024-06-01T22:15:00.000000000",
          "2024-06-01T22:30:00.000000000",
          "2024-06-01T22:45:00.000000000",
          "2024-06-01T23:00:00.000000000",
          "2024-06-01T23:15:00.000000000",
          "2024-06-01T23:30:00.000000000",
          "2024-06-01T23:45:00.000000000",
          "2024-06-02T00:00:00.000000000",
          "2024-06-02T00:15:00.000000000",
          "2024-06-02T00:30:00.000000000",
          "2024-06-02T00:45:00.000000000",
          "2024-06-02T01:00:00.000000000",
          "2024-06-02T01:15:00.000000000",
          "2024-06-02T01:30:00.000000000",
          "2024-06-02T01:45:00.000000000",
          "2024-06-02T02:00:00.000000000",
          "2024-06-02T02:15:00.000000000",
          "2024-06-02T02:30:00.000000000",
          "2024-06-02T02:45:00.000000000",
          "2024-06-02T03:00:00.000000000",
          "2024-06-02T03:15:00.000000000",
          "2024-06-02T03:30:00.000000000",
          "2024-06-02T03:45:00.000000000",
          "2024-06-02T04:00:00.000000000",
          "2024-06-02T04:15:00.000000000",
          "2024-06-02T04:30:00.000000000",
          "2024-06-02T04:45:00.000000000",
          "2024-06-02T05:00:00.000000000",
          "2024-06-02T05:15:00.000000000",
          "2024-06-02T05:30:00.000000000",
          "2024-06-02T05:45:00.000000000",
          "2024-06-02T06:00:00.000000000",
          "2024-06-02T06:15:00.000000000",
          "2024-06-02T06:30:00.000000000",
          "2024-06-02T06:45:00.000000000",
          "2024-06-02T07:00:00.000000000",
          "2024-06-02T07:15:00.000000000",
          "2024-06-02T07:30:00.000000000",
          "2024-06-02T07:45:00.000000000",
          "2024-06-02T08:00:00.000000000",
          "2024-06-02T08:15:00.000000000",
          "2024-06-02T08:30:00.000000000",
          "2024-06-02T08:45:00.000000000",
          "2024-06-02T09:00:00.000000000",
          "2024-06-02T09:15:00.000000000",
          "2024-06-02T09:30:00.000000000",
          "2024-06-02T09:45:00.000000000",
          "2024-06-02T10:00:00.000000000",
          "2024-06-02T10:15:00.000000000",
          "2024-06-02T10:30:00.000000000",
          "2024-06-02T10:45:00.000000000",
          "2024-06-02T11:00:00.000000000",
          "2024-06-02T11:15:00.000000000",
          "2024-06-02T11:30:00.000000000",
          "2024-06-02T11:45:00.000000000",
          "2024-06-02T12:00:00.000000000",
          "2024-06-02T12:15:00.000000000",
          "2024-06-02T12:30:00.000000000",
          "2024-06-02T12:45:00.000000000",
          "2024-06-02T13:00:00.000000000",
          "2024-06-02T13:15:00.000000000",
          "2024-06-02T13:30:00.000000000",
          "2024-06-02T13:45:00.000000000",
          "2024-06-02T14:00:00.000000000",
          "2024-06-02T14:15:00.000000000",
          "2024-06-02T14:30:00.000000000",
          "2024-06-02T14:45:00.000000000",
          "2024-06-02T15:00:00.000000000",
          "2024-06-02T15:15:00.000000000",
          "2024-06-02T15:30:00.000000000",
          "2024-06-02T15:45:00.000000000",
          "2024-06-02T16:00:00.000000000",
          "2024-06-02T16:15:00.000000000",
          "2024-06-02T16:30:00.000000000",
          "2024-06-02T16:45:00.000000000",
          "2024-06-02T17:00:00.000000000",
          "2024-06-02T17:15:00.000000000",
          "2024-06-02T17:30:00.000000000",
          "2024-06-02T17:45:00.000000000",
          "2024-06-02T18:00:00.000000000",
          "2024-06-02T18:15:00.000000000",
          "2024-06-02T18:30:00.000000000",
          "2024-06-02T18:45:00.000000000",
          "2024-06-02T19:00:00.000000000",
          "2024-06-02T19:15:00.000000000",
          "2024-06-02T19:30:00.000000000",
          "2024-06-02T19:45:00.000000000",
          "2024-06-02T20:00:00.000000000",
          "2024-06-02T20:15:00.000000000",
          "2024-06-02T20:30:00.000000000",
          "2024-06-02T20:45:00.000000000",
          "2024-06-02T21:00:00.000000000",
          "2024-06-02T21:15:00.000000000",
          "2024-06-02T21:30:00.000000000",
          "2024-06-02T21:45:00.000000000",
          "2024-06-02T22:00:00.000000000",
          "2024-06-02T22:15:00.000000000",
          "2024-06-02T22:30:00.000000000",
          "2024-06-02T22:45:00.000000000",
          "2024-06-02T23:00:00.000000000",
          "2024-06-02T23:15:00.000000000",
          "2024-06-02T23:30:00.000000000",
          "2024-06-02T23:45:00.000000000",
          "2024-06-03T00:00:00.000000000"
         ],
         "xaxis": "x4",
         "y": {
          "bdata": "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",
          "dtype": "f8"
         },
         "yaxis": "y4"
        },
        {
         "name": "Price Signal",
         "type": "scatter",
         "x": [
          "2024-06-01T00:00:00.000000000",
          "2024-06-01T00:15:00.000000000",
          "2024-06-01T00:30:00.000000000",
          "2024-06-01T00:45:00.000000000",
          "2024-06-01T01:00:00.000000000",
          "2024-06-01T01:15:00.000000000",
          "2024-06-01T01:30:00.000000000",
          "2024-06-01T01:45:00.000000000",
          "2024-06-01T02:00:00.000000000",
          "2024-06-01T02:15:00.000000000",
          "2024-06-01T02:30:00.000000000",
          "2024-06-01T02:45:00.000000000",
          "2024-06-01T03:00:00.000000000",
          "2024-06-01T03:15:00.000000000",
          "2024-06-01T03:30:00.000000000",
          "2024-06-01T03:45:00.000000000",
          "2024-06-01T04:00:00.000000000",
          "2024-06-01T04:15:00.000000000",
          "2024-06-01T04:30:00.000000000",
          "2024-06-01T04:45:00.000000000",
          "2024-06-01T05:00:00.000000000",
          "2024-06-01T05:15:00.000000000",
          "2024-06-01T05:30:00.000000000",
          "2024-06-01T05:45:00.000000000",
          "2024-06-01T06:00:00.000000000",
          "2024-06-01T06:15:00.000000000",
          "2024-06-01T06:30:00.000000000",
          "2024-06-01T06:45:00.000000000",
          "2024-06-01T07:00:00.000000000",
          "2024-06-01T07:15:00.000000000",
          "2024-06-01T07:30:00.000000000",
          "2024-06-01T07:45:00.000000000",
          "2024-06-01T08:00:00.000000000",
          "2024-06-01T08:15:00.000000000",
          "2024-06-01T08:30:00.000000000",
          "2024-06-01T08:45:00.000000000",
          "2024-06-01T09:00:00.000000000",
          "2024-06-01T09:15:00.000000000",
          "2024-06-01T09:30:00.000000000",
          "2024-06-01T09:45:00.000000000",
          "2024-06-01T10:00:00.000000000",
          "2024-06-01T10:15:00.000000000",
          "2024-06-01T10:30:00.000000000",
          "2024-06-01T10:45:00.000000000",
          "2024-06-01T11:00:00.000000000",
          "2024-06-01T11:15:00.000000000",
          "2024-06-01T11:30:00.000000000",
          "2024-06-01T11:45:00.000000000",
          "2024-06-01T12:00:00.000000000",
          "2024-06-01T12:15:00.000000000",
          "2024-06-01T12:30:00.000000000",
          "2024-06-01T12:45:00.000000000",
          "2024-06-01T13:00:00.000000000",
          "2024-06-01T13:15:00.000000000",
          "2024-06-01T13:30:00.000000000",
          "2024-06-01T13:45:00.000000000",
          "2024-06-01T14:00:00.000000000",
          "2024-06-01T14:15:00.000000000",
          "2024-06-01T14:30:00.000000000",
          "2024-06-01T14:45:00.000000000",
          "2024-06-01T15:00:00.000000000",
          "2024-06-01T15:15:00.000000000",
          "2024-06-01T15:30:00.000000000",
          "2024-06-01T15:45:00.000000000",
          "2024-06-01T16:00:00.000000000",
          "2024-06-01T16:15:00.000000000",
          "2024-06-01T16:30:00.000000000",
          "2024-06-01T16:45:00.000000000",
          "2024-06-01T17:00:00.000000000",
          "2024-06-01T17:15:00.000000000",
          "2024-06-01T17:30:00.000000000",
          "2024-06-01T17:45:00.000000000",
          "2024-06-01T18:00:00.000000000",
          "2024-06-01T18:15:00.000000000",
          "2024-06-01T18:30:00.000000000",
          "2024-06-01T18:45:00.000000000",
          "2024-06-01T19:00:00.000000000",
          "2024-06-01T19:15:00.000000000",
          "2024-06-01T19:30:00.000000000",
          "2024-06-01T19:45:00.000000000",
          "2024-06-01T20:00:00.000000000",
          "2024-06-01T20:15:00.000000000",
          "2024-06-01T20:30:00.000000000",
          "2024-06-01T20:45:00.000000000",
          "2024-06-01T21:00:00.000000000",
          "2024-06-01T21:15:00.000000000",
          "2024-06-01T21:30:00.000000000",
          "2024-06-01T21:45:00.000000000",
          "2024-06-01T22:00:00.000000000",
          "2024-06-01T22:15:00.000000000",
          "2024-06-01T22:30:00.000000000",
          "2024-06-01T22:45:00.000000000",
          "2024-06-01T23:00:00.000000000",
          "2024-06-01T23:15:00.000000000",
          "2024-06-01T23:30:00.000000000",
          "2024-06-01T23:45:00.000000000",
          "2024-06-02T00:00:00.000000000",
          "2024-06-02T00:15:00.000000000",
          "2024-06-02T00:30:00.000000000",
          "2024-06-02T00:45:00.000000000",
          "2024-06-02T01:00:00.000000000",
          "2024-06-02T01:15:00.000000000",
          "2024-06-02T01:30:00.000000000",
          "2024-06-02T01:45:00.000000000",
          "2024-06-02T02:00:00.000000000",
          "2024-06-02T02:15:00.000000000",
          "2024-06-02T02:30:00.000000000",
          "2024-06-02T02:45:00.000000000",
          "2024-06-02T03:00:00.000000000",
          "2024-06-02T03:15:00.000000000",
          "2024-06-02T03:30:00.000000000",
          "2024-06-02T03:45:00.000000000",
          "2024-06-02T04:00:00.000000000",
          "2024-06-02T04:15:00.000000000",
          "2024-06-02T04:30:00.000000000",
          "2024-06-02T04:45:00.000000000",
          "2024-06-02T05:00:00.000000000",
          "2024-06-02T05:15:00.000000000",
          "2024-06-02T05:30:00.000000000",
          "2024-06-02T05:45:00.000000000",
          "2024-06-02T06:00:00.000000000",
          "2024-06-02T06:15:00.000000000",
          "2024-06-02T06:30:00.000000000",
          "2024-06-02T06:45:00.000000000",
          "2024-06-02T07:00:00.000000000",
          "2024-06-02T07:15:00.000000000",
          "2024-06-02T07:30:00.000000000",
          "2024-06-02T07:45:00.000000000",
          "2024-06-02T08:00:00.000000000",
          "2024-06-02T08:15:00.000000000",
          "2024-06-02T08:30:00.000000000",
          "2024-06-02T08:45:00.000000000",
          "2024-06-02T09:00:00.000000000",
          "2024-06-02T09:15:00.000000000",
          "2024-06-02T09:30:00.000000000",
          "2024-06-02T09:45:00.000000000",
          "2024-06-02T10:00:00.000000000",
          "2024-06-02T10:15:00.000000000",
          "2024-06-02T10:30:00.000000000",
          "2024-06-02T10:45:00.000000000",
          "2024-06-02T11:00:00.000000000",
          "2024-06-02T11:15:00.000000000",
          "2024-06-02T11:30:00.000000000",
          "2024-06-02T11:45:00.000000000",
          "2024-06-02T12:00:00.000000000",
          "2024-06-02T12:15:00.000000000",
          "2024-06-02T12:30:00.000000000",
          "2024-06-02T12:45:00.000000000",
          "2024-06-02T13:00:00.000000000",
          "2024-06-02T13:15:00.000000000",
          "2024-06-02T13:30:00.000000000",
          "2024-06-02T13:45:00.000000000",
          "2024-06-02T14:00:00.000000000",
          "2024-06-02T14:15:00.000000000",
          "2024-06-02T14:30:00.000000000",
          "2024-06-02T14:45:00.000000000",
          "2024-06-02T15:00:00.000000000",
          "2024-06-02T15:15:00.000000000",
          "2024-06-02T15:30:00.000000000",
          "2024-06-02T15:45:00.000000000",
          "2024-06-02T16:00:00.000000000",
          "2024-06-02T16:15:00.000000000",
          "2024-06-02T16:30:00.000000000",
          "2024-06-02T16:45:00.000000000",
          "2024-06-02T17:00:00.000000000",
          "2024-06-02T17:15:00.000000000",
          "2024-06-02T17:30:00.000000000",
          "2024-06-02T17:45:00.000000000",
          "2024-06-02T18:00:00.000000000",
          "2024-06-02T18:15:00.000000000",
          "2024-06-02T18:30:00.000000000",
          "2024-06-02T18:45:00.000000000",
          "2024-06-02T19:00:00.000000000",
          "2024-06-02T19:15:00.000000000",
          "2024-06-02T19:30:00.000000000",
          "2024-06-02T19:45:00.000000000",
          "2024-06-02T20:00:00.000000000",
          "2024-06-02T20:15:00.000000000",
          "2024-06-02T20:30:00.000000000",
          "2024-06-02T20:45:00.000000000",
          "2024-06-02T21:00:00.000000000",
          "2024-06-02T21:15:00.000000000",
          "2024-06-02T21:30:00.000000000",
          "2024-06-02T21:45:00.000000000",
          "2024-06-02T22:00:00.000000000",
          "2024-06-02T22:15:00.000000000",
          "2024-06-02T22:30:00.000000000",
          "2024-06-02T22:45:00.000000000",
          "2024-06-02T23:00:00.000000000",
          "2024-06-02T23:15:00.000000000",
          "2024-06-02T23:30:00.000000000",
          "2024-06-02T23:45:00.000000000",
          "2024-06-03T00:00:00.000000000"
         ],
         "xaxis": "x5",
         "y": {
          "bdata": "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",
          "dtype": "f8"
         },
         "yaxis": "y5"
        },
        {
         "name": "Baseline Profit",
         "type": "scatter",
         "x": [
          "2024-06-01T00:00:00.000000000",
          "2024-06-01T00:15:00.000000000",
          "2024-06-01T00:30:00.000000000",
          "2024-06-01T00:45:00.000000000",
          "2024-06-01T01:00:00.000000000",
          "2024-06-01T01:15:00.000000000",
          "2024-06-01T01:30:00.000000000",
          "2024-06-01T01:45:00.000000000",
          "2024-06-01T02:00:00.000000000",
          "2024-06-01T02:15:00.000000000",
          "2024-06-01T02:30:00.000000000",
          "2024-06-01T02:45:00.000000000",
          "2024-06-01T03:00:00.000000000",
          "2024-06-01T03:15:00.000000000",
          "2024-06-01T03:30:00.000000000",
          "2024-06-01T03:45:00.000000000",
          "2024-06-01T04:00:00.000000000",
          "2024-06-01T04:15:00.000000000",
          "2024-06-01T04:30:00.000000000",
          "2024-06-01T04:45:00.000000000",
          "2024-06-01T05:00:00.000000000",
          "2024-06-01T05:15:00.000000000",
          "2024-06-01T05:30:00.000000000",
          "2024-06-01T05:45:00.000000000",
          "2024-06-01T06:00:00.000000000",
          "2024-06-01T06:15:00.000000000",
          "2024-06-01T06:30:00.000000000",
          "2024-06-01T06:45:00.000000000",
          "2024-06-01T07:00:00.000000000",
          "2024-06-01T07:15:00.000000000",
          "2024-06-01T07:30:00.000000000",
          "2024-06-01T07:45:00.000000000",
          "2024-06-01T08:00:00.000000000",
          "2024-06-01T08:15:00.000000000",
          "2024-06-01T08:30:00.000000000",
          "2024-06-01T08:45:00.000000000",
          "2024-06-01T09:00:00.000000000",
          "2024-06-01T09:15:00.000000000",
          "2024-06-01T09:30:00.000000000",
          "2024-06-01T09:45:00.000000000",
          "2024-06-01T10:00:00.000000000",
          "2024-06-01T10:15:00.000000000",
          "2024-06-01T10:30:00.000000000",
          "2024-06-01T10:45:00.000000000",
          "2024-06-01T11:00:00.000000000",
          "2024-06-01T11:15:00.000000000",
          "2024-06-01T11:30:00.000000000",
          "2024-06-01T11:45:00.000000000",
          "2024-06-01T12:00:00.000000000",
          "2024-06-01T12:15:00.000000000",
          "2024-06-01T12:30:00.000000000",
          "2024-06-01T12:45:00.000000000",
          "2024-06-01T13:00:00.000000000",
          "2024-06-01T13:15:00.000000000",
          "2024-06-01T13:30:00.000000000",
          "2024-06-01T13:45:00.000000000",
          "2024-06-01T14:00:00.000000000",
          "2024-06-01T14:15:00.000000000",
          "2024-06-01T14:30:00.000000000",
          "2024-06-01T14:45:00.000000000",
          "2024-06-01T15:00:00.000000000",
          "2024-06-01T15:15:00.000000000",
          "2024-06-01T15:30:00.000000000",
          "2024-06-01T15:45:00.000000000",
          "2024-06-01T16:00:00.000000000",
          "2024-06-01T16:15:00.000000000",
          "2024-06-01T16:30:00.000000000",
          "2024-06-01T16:45:00.000000000",
          "2024-06-01T17:00:00.000000000",
          "2024-06-01T17:15:00.000000000",
          "2024-06-01T17:30:00.000000000",
          "2024-06-01T17:45:00.000000000",
          "2024-06-01T18:00:00.000000000",
          "2024-06-01T18:15:00.000000000",
          "2024-06-01T18:30:00.000000000",
          "2024-06-01T18:45:00.000000000",
          "2024-06-01T19:00:00.000000000",
          "2024-06-01T19:15:00.000000000",
          "2024-06-01T19:30:00.000000000",
          "2024-06-01T19:45:00.000000000",
          "2024-06-01T20:00:00.000000000",
          "2024-06-01T20:15:00.000000000",
          "2024-06-01T20:30:00.000000000",
          "2024-06-01T20:45:00.000000000",
          "2024-06-01T21:00:00.000000000",
          "2024-06-01T21:15:00.000000000",
          "2024-06-01T21:30:00.000000000",
          "2024-06-01T21:45:00.000000000",
          "2024-06-01T22:00:00.000000000",
          "2024-06-01T22:15:00.000000000",
          "2024-06-01T22:30:00.000000000",
          "2024-06-01T22:45:00.000000000",
          "2024-06-01T23:00:00.000000000",
          "2024-06-01T23:15:00.000000000",
          "2024-06-01T23:30:00.000000000",
          "2024-06-01T23:45:00.000000000",
          "2024-06-02T00:00:00.000000000",
          "2024-06-02T00:15:00.000000000",
          "2024-06-02T00:30:00.000000000",
          "2024-06-02T00:45:00.000000000",
          "2024-06-02T01:00:00.000000000",
          "2024-06-02T01:15:00.000000000",
          "2024-06-02T01:30:00.000000000",
          "2024-06-02T01:45:00.000000000",
          "2024-06-02T02:00:00.000000000",
          "2024-06-02T02:15:00.000000000",
          "2024-06-02T02:30:00.000000000",
          "2024-06-02T02:45:00.000000000",
          "2024-06-02T03:00:00.000000000",
          "2024-06-02T03:15:00.000000000",
          "2024-06-02T03:30:00.000000000",
          "2024-06-02T03:45:00.000000000",
          "2024-06-02T04:00:00.000000000",
          "2024-06-02T04:15:00.000000000",
          "2024-06-02T04:30:00.000000000",
          "2024-06-02T04:45:00.000000000",
          "2024-06-02T05:00:00.000000000",
          "2024-06-02T05:15:00.000000000",
          "2024-06-02T05:30:00.000000000",
          "2024-06-02T05:45:00.000000000",
          "2024-06-02T06:00:00.000000000",
          "2024-06-02T06:15:00.000000000",
          "2024-06-02T06:30:00.000000000",
          "2024-06-02T06:45:00.000000000",
          "2024-06-02T07:00:00.000000000",
          "2024-06-02T07:15:00.000000000",
          "2024-06-02T07:30:00.000000000",
          "2024-06-02T07:45:00.000000000",
          "2024-06-02T08:00:00.000000000",
          "2024-06-02T08:15:00.000000000",
          "2024-06-02T08:30:00.000000000",
          "2024-06-02T08:45:00.000000000",
          "2024-06-02T09:00:00.000000000",
          "2024-06-02T09:15:00.000000000",
          "2024-06-02T09:30:00.000000000",
          "2024-06-02T09:45:00.000000000",
          "2024-06-02T10:00:00.000000000",
          "2024-06-02T10:15:00.000000000",
          "2024-06-02T10:30:00.000000000",
          "2024-06-02T10:45:00.000000000",
          "2024-06-02T11:00:00.000000000",
          "2024-06-02T11:15:00.000000000",
          "2024-06-02T11:30:00.000000000",
          "2024-06-02T11:45:00.000000000",
          "2024-06-02T12:00:00.000000000",
          "2024-06-02T12:15:00.000000000",
          "2024-06-02T12:30:00.000000000",
          "2024-06-02T12:45:00.000000000",
          "2024-06-02T13:00:00.000000000",
          "2024-06-02T13:15:00.000000000",
          "2024-06-02T13:30:00.000000000",
          "2024-06-02T13:45:00.000000000",
          "2024-06-02T14:00:00.000000000",
          "2024-06-02T14:15:00.000000000",
          "2024-06-02T14:30:00.000000000",
          "2024-06-02T14:45:00.000000000",
          "2024-06-02T15:00:00.000000000",
          "2024-06-02T15:15:00.000000000",
          "2024-06-02T15:30:00.000000000",
          "2024-06-02T15:45:00.000000000",
          "2024-06-02T16:00:00.000000000",
          "2024-06-02T16:15:00.000000000",
          "2024-06-02T16:30:00.000000000",
          "2024-06-02T16:45:00.000000000",
          "2024-06-02T17:00:00.000000000",
          "2024-06-02T17:15:00.000000000",
          "2024-06-02T17:30:00.000000000",
          "2024-06-02T17:45:00.000000000",
          "2024-06-02T18:00:00.000000000",
          "2024-06-02T18:15:00.000000000",
          "2024-06-02T18:30:00.000000000",
          "2024-06-02T18:45:00.000000000",
          "2024-06-02T19:00:00.000000000",
          "2024-06-02T19:15:00.000000000",
          "2024-06-02T19:30:00.000000000",
          "2024-06-02T19:45:00.000000000",
          "2024-06-02T20:00:00.000000000",
          "2024-06-02T20:15:00.000000000",
          "2024-06-02T20:30:00.000000000",
          "2024-06-02T20:45:00.000000000",
          "2024-06-02T21:00:00.000000000",
          "2024-06-02T21:15:00.000000000",
          "2024-06-02T21:30:00.000000000",
          "2024-06-02T21:45:00.000000000",
          "2024-06-02T22:00:00.000000000",
          "2024-06-02T22:15:00.000000000",
          "2024-06-02T22:30:00.000000000",
          "2024-06-02T22:45:00.000000000",
          "2024-06-02T23:00:00.000000000",
          "2024-06-02T23:15:00.000000000",
          "2024-06-02T23:30:00.000000000",
          "2024-06-02T23:45:00.000000000",
          "2024-06-03T00:00:00.000000000"
         ],
         "xaxis": "x6",
         "y": {
          "bdata": "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",
          "dtype": "f8"
         },
         "yaxis": "y6"
        },
        {
         "name": "Battery Profit",
         "type": "scatter",
         "x": [
          "2024-06-01T00:00:00.000000000",
          "2024-06-01T00:15:00.000000000",
          "2024-06-01T00:30:00.000000000",
          "2024-06-01T00:45:00.000000000",
          "2024-06-01T01:00:00.000000000",
          "2024-06-01T01:15:00.000000000",
          "2024-06-01T01:30:00.000000000",
          "2024-06-01T01:45:00.000000000",
          "2024-06-01T02:00:00.000000000",
          "2024-06-01T02:15:00.000000000",
          "2024-06-01T02:30:00.000000000",
          "2024-06-01T02:45:00.000000000",
          "2024-06-01T03:00:00.000000000",
          "2024-06-01T03:15:00.000000000",
          "2024-06-01T03:30:00.000000000",
          "2024-06-01T03:45:00.000000000",
          "2024-06-01T04:00:00.000000000",
          "2024-06-01T04:15:00.000000000",
          "2024-06-01T04:30:00.000000000",
          "2024-06-01T04:45:00.000000000",
          "2024-06-01T05:00:00.000000000",
          "2024-06-01T05:15:00.000000000",
          "2024-06-01T05:30:00.000000000",
          "2024-06-01T05:45:00.000000000",
          "2024-06-01T06:00:00.000000000",
          "2024-06-01T06:15:00.000000000",
          "2024-06-01T06:30:00.000000000",
          "2024-06-01T06:45:00.000000000",
          "2024-06-01T07:00:00.000000000",
          "2024-06-01T07:15:00.000000000",
          "2024-06-01T07:30:00.000000000",
          "2024-06-01T07:45:00.000000000",
          "2024-06-01T08:00:00.000000000",
          "2024-06-01T08:15:00.000000000",
          "2024-06-01T08:30:00.000000000",
          "2024-06-01T08:45:00.000000000",
          "2024-06-01T09:00:00.000000000",
          "2024-06-01T09:15:00.000000000",
          "2024-06-01T09:30:00.000000000",
          "2024-06-01T09:45:00.000000000",
          "2024-06-01T10:00:00.000000000",
          "2024-06-01T10:15:00.000000000",
          "2024-06-01T10:30:00.000000000",
          "2024-06-01T10:45:00.000000000",
          "2024-06-01T11:00:00.000000000",
          "2024-06-01T11:15:00.000000000",
          "2024-06-01T11:30:00.000000000",
          "2024-06-01T11:45:00.000000000",
          "2024-06-01T12:00:00.000000000",
          "2024-06-01T12:15:00.000000000",
          "2024-06-01T12:30:00.000000000",
          "2024-06-01T12:45:00.000000000",
          "2024-06-01T13:00:00.000000000",
          "2024-06-01T13:15:00.000000000",
          "2024-06-01T13:30:00.000000000",
          "2024-06-01T13:45:00.000000000",
          "2024-06-01T14:00:00.000000000",
          "2024-06-01T14:15:00.000000000",
          "2024-06-01T14:30:00.000000000",
          "2024-06-01T14:45:00.000000000",
          "2024-06-01T15:00:00.000000000",
          "2024-06-01T15:15:00.000000000",
          "2024-06-01T15:30:00.000000000",
          "2024-06-01T15:45:00.000000000",
          "2024-06-01T16:00:00.000000000",
          "2024-06-01T16:15:00.000000000",
          "2024-06-01T16:30:00.000000000",
          "2024-06-01T16:45:00.000000000",
          "2024-06-01T17:00:00.000000000",
          "2024-06-01T17:15:00.000000000",
          "2024-06-01T17:30:00.000000000",
          "2024-06-01T17:45:00.000000000",
          "2024-06-01T18:00:00.000000000",
          "2024-06-01T18:15:00.000000000",
          "2024-06-01T18:30:00.000000000",
          "2024-06-01T18:45:00.000000000",
          "2024-06-01T19:00:00.000000000",
          "2024-06-01T19:15:00.000000000",
          "2024-06-01T19:30:00.000000000",
          "2024-06-01T19:45:00.000000000",
          "2024-06-01T20:00:00.000000000",
          "2024-06-01T20:15:00.000000000",
          "2024-06-01T20:30:00.000000000",
          "2024-06-01T20:45:00.000000000",
          "2024-06-01T21:00:00.000000000",
          "2024-06-01T21:15:00.000000000",
          "2024-06-01T21:30:00.000000000",
          "2024-06-01T21:45:00.000000000",
          "2024-06-01T22:00:00.000000000",
          "2024-06-01T22:15:00.000000000",
          "2024-06-01T22:30:00.000000000",
          "2024-06-01T22:45:00.000000000",
          "2024-06-01T23:00:00.000000000",
          "2024-06-01T23:15:00.000000000",
          "2024-06-01T23:30:00.000000000",
          "2024-06-01T23:45:00.000000000",
          "2024-06-02T00:00:00.000000000",
          "2024-06-02T00:15:00.000000000",
          "2024-06-02T00:30:00.000000000",
          "2024-06-02T00:45:00.000000000",
          "2024-06-02T01:00:00.000000000",
          "2024-06-02T01:15:00.000000000",
          "2024-06-02T01:30:00.000000000",
          "2024-06-02T01:45:00.000000000",
          "2024-06-02T02:00:00.000000000",
          "2024-06-02T02:15:00.000000000",
          "2024-06-02T02:30:00.000000000",
          "2024-06-02T02:45:00.000000000",
          "2024-06-02T03:00:00.000000000",
          "2024-06-02T03:15:00.000000000",
          "2024-06-02T03:30:00.000000000",
          "2024-06-02T03:45:00.000000000",
          "2024-06-02T04:00:00.000000000",
          "2024-06-02T04:15:00.000000000",
          "2024-06-02T04:30:00.000000000",
          "2024-06-02T04:45:00.000000000",
          "2024-06-02T05:00:00.000000000",
          "2024-06-02T05:15:00.000000000",
          "2024-06-02T05:30:00.000000000",
          "2024-06-02T05:45:00.000000000",
          "2024-06-02T06:00:00.000000000",
          "2024-06-02T06:15:00.000000000",
          "2024-06-02T06:30:00.000000000",
          "2024-06-02T06:45:00.000000000",
          "2024-06-02T07:00:00.000000000",
          "2024-06-02T07:15:00.000000000",
          "2024-06-02T07:30:00.000000000",
          "2024-06-02T07:45:00.000000000",
          "2024-06-02T08:00:00.000000000",
          "2024-06-02T08:15:00.000000000",
          "2024-06-02T08:30:00.000000000",
          "2024-06-02T08:45:00.000000000",
          "2024-06-02T09:00:00.000000000",
          "2024-06-02T09:15:00.000000000",
          "2024-06-02T09:30:00.000000000",
          "2024-06-02T09:45:00.000000000",
          "2024-06-02T10:00:00.000000000",
          "2024-06-02T10:15:00.000000000",
          "2024-06-02T10:30:00.000000000",
          "2024-06-02T10:45:00.000000000",
          "2024-06-02T11:00:00.000000000",
          "2024-06-02T11:15:00.000000000",
          "2024-06-02T11:30:00.000000000",
          "2024-06-02T11:45:00.000000000",
          "2024-06-02T12:00:00.000000000",
          "2024-06-02T12:15:00.000000000",
          "2024-06-02T12:30:00.000000000",
          "2024-06-02T12:45:00.000000000",
          "2024-06-02T13:00:00.000000000",
          "2024-06-02T13:15:00.000000000",
          "2024-06-02T13:30:00.000000000",
          "2024-06-02T13:45:00.000000000",
          "2024-06-02T14:00:00.000000000",
          "2024-06-02T14:15:00.000000000",
          "2024-06-02T14:30:00.000000000",
          "2024-06-02T14:45:00.000000000",
          "2024-06-02T15:00:00.000000000",
          "2024-06-02T15:15:00.000000000",
          "2024-06-02T15:30:00.000000000",
          "2024-06-02T15:45:00.000000000",
          "2024-06-02T16:00:00.000000000",
          "2024-06-02T16:15:00.000000000",
          "2024-06-02T16:30:00.000000000",
          "2024-06-02T16:45:00.000000000",
          "2024-06-02T17:00:00.000000000",
          "2024-06-02T17:15:00.000000000",
          "2024-06-02T17:30:00.000000000",
          "2024-06-02T17:45:00.000000000",
          "2024-06-02T18:00:00.000000000",
          "2024-06-02T18:15:00.000000000",
          "2024-06-02T18:30:00.000000000",
          "2024-06-02T18:45:00.000000000",
          "2024-06-02T19:00:00.000000000",
          "2024-06-02T19:15:00.000000000",
          "2024-06-02T19:30:00.000000000",
          "2024-06-02T19:45:00.000000000",
          "2024-06-02T20:00:00.000000000",
          "2024-06-02T20:15:00.000000000",
          "2024-06-02T20:30:00.000000000",
          "2024-06-02T20:45:00.000000000",
          "2024-06-02T21:00:00.000000000",
          "2024-06-02T21:15:00.000000000",
          "2024-06-02T21:30:00.000000000",
          "2024-06-02T21:45:00.000000000",
          "2024-06-02T22:00:00.000000000",
          "2024-06-02T22:15:00.000000000",
          "2024-06-02T22:30:00.000000000",
          "2024-06-02T22:45:00.000000000",
          "2024-06-02T23:00:00.000000000",
          "2024-06-02T23:15:00.000000000",
          "2024-06-02T23:30:00.000000000",
          "2024-06-02T23:45:00.000000000",
          "2024-06-03T00:00:00.000000000"
         ],
         "xaxis": "x6",
         "y": {
          "bdata": "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",
          "dtype": "f8"
         },
         "yaxis": "y6"
        },
        {
         "name": "Baseline Net Grid",
         "type": "scatter",
         "x": [
          "2024-06-01T00:00:00.000000000",
          "2024-06-01T00:15:00.000000000",
          "2024-06-01T00:30:00.000000000",
          "2024-06-01T00:45:00.000000000",
          "2024-06-01T01:00:00.000000000",
          "2024-06-01T01:15:00.000000000",
          "2024-06-01T01:30:00.000000000",
          "2024-06-01T01:45:00.000000000",
          "2024-06-01T02:00:00.000000000",
          "2024-06-01T02:15:00.000000000",
          "2024-06-01T02:30:00.000000000",
          "2024-06-01T02:45:00.000000000",
          "2024-06-01T03:00:00.000000000",
          "2024-06-01T03:15:00.000000000",
          "2024-06-01T03:30:00.000000000",
          "2024-06-01T03:45:00.000000000",
          "2024-06-01T04:00:00.000000000",
          "2024-06-01T04:15:00.000000000",
          "2024-06-01T04:30:00.000000000",
          "2024-06-01T04:45:00.000000000",
          "2024-06-01T05:00:00.000000000",
          "2024-06-01T05:15:00.000000000",
          "2024-06-01T05:30:00.000000000",
          "2024-06-01T05:45:00.000000000",
          "2024-06-01T06:00:00.000000000",
          "2024-06-01T06:15:00.000000000",
          "2024-06-01T06:30:00.000000000",
          "2024-06-01T06:45:00.000000000",
          "2024-06-01T07:00:00.000000000",
          "2024-06-01T07:15:00.000000000",
          "2024-06-01T07:30:00.000000000",
          "2024-06-01T07:45:00.000000000",
          "2024-06-01T08:00:00.000000000",
          "2024-06-01T08:15:00.000000000",
          "2024-06-01T08:30:00.000000000",
          "2024-06-01T08:45:00.000000000",
          "2024-06-01T09:00:00.000000000",
          "2024-06-01T09:15:00.000000000",
          "2024-06-01T09:30:00.000000000",
          "2024-06-01T09:45:00.000000000",
          "2024-06-01T10:00:00.000000000",
          "2024-06-01T10:15:00.000000000",
          "2024-06-01T10:30:00.000000000",
          "2024-06-01T10:45:00.000000000",
          "2024-06-01T11:00:00.000000000",
          "2024-06-01T11:15:00.000000000",
          "2024-06-01T11:30:00.000000000",
          "2024-06-01T11:45:00.000000000",
          "2024-06-01T12:00:00.000000000",
          "2024-06-01T12:15:00.000000000",
          "2024-06-01T12:30:00.000000000",
          "2024-06-01T12:45:00.000000000",
          "2024-06-01T13:00:00.000000000",
          "2024-06-01T13:15:00.000000000",
          "2024-06-01T13:30:00.000000000",
          "2024-06-01T13:45:00.000000000",
          "2024-06-01T14:00:00.000000000",
          "2024-06-01T14:15:00.000000000",
          "2024-06-01T14:30:00.000000000",
          "2024-06-01T14:45:00.000000000",
          "2024-06-01T15:00:00.000000000",
          "2024-06-01T15:15:00.000000000",
          "2024-06-01T15:30:00.000000000",
          "2024-06-01T15:45:00.000000000",
          "2024-06-01T16:00:00.000000000",
          "2024-06-01T16:15:00.000000000",
          "2024-06-01T16:30:00.000000000",
          "2024-06-01T16:45:00.000000000",
          "2024-06-01T17:00:00.000000000",
          "2024-06-01T17:15:00.000000000",
          "2024-06-01T17:30:00.000000000",
          "2024-06-01T17:45:00.000000000",
          "2024-06-01T18:00:00.000000000",
          "2024-06-01T18:15:00.000000000",
          "2024-06-01T18:30:00.000000000",
          "2024-06-01T18:45:00.000000000",
          "2024-06-01T19:00:00.000000000",
          "2024-06-01T19:15:00.000000000",
          "2024-06-01T19:30:00.000000000",
          "2024-06-01T19:45:00.000000000",
          "2024-06-01T20:00:00.000000000",
          "2024-06-01T20:15:00.000000000",
          "2024-06-01T20:30:00.000000000",
          "2024-06-01T20:45:00.000000000",
          "2024-06-01T21:00:00.000000000",
          "2024-06-01T21:15:00.000000000",
          "2024-06-01T21:30:00.000000000",
          "2024-06-01T21:45:00.000000000",
          "2024-06-01T22:00:00.000000000",
          "2024-06-01T22:15:00.000000000",
          "2024-06-01T22:30:00.000000000",
          "2024-06-01T22:45:00.000000000",
          "2024-06-01T23:00:00.000000000",
          "2024-06-01T23:15:00.000000000",
          "2024-06-01T23:30:00.000000000",
          "2024-06-01T23:45:00.000000000",
          "2024-06-02T00:00:00.000000000",
          "2024-06-02T00:15:00.000000000",
          "2024-06-02T00:30:00.000000000",
          "2024-06-02T00:45:00.000000000",
          "2024-06-02T01:00:00.000000000",
          "2024-06-02T01:15:00.000000000",
          "2024-06-02T01:30:00.000000000",
          "2024-06-02T01:45:00.000000000",
          "2024-06-02T02:00:00.000000000",
          "2024-06-02T02:15:00.000000000",
          "2024-06-02T02:30:00.000000000",
          "2024-06-02T02:45:00.000000000",
          "2024-06-02T03:00:00.000000000",
          "2024-06-02T03:15:00.000000000",
          "2024-06-02T03:30:00.000000000",
          "2024-06-02T03:45:00.000000000",
          "2024-06-02T04:00:00.000000000",
          "2024-06-02T04:15:00.000000000",
          "2024-06-02T04:30:00.000000000",
          "2024-06-02T04:45:00.000000000",
          "2024-06-02T05:00:00.000000000",
          "2024-06-02T05:15:00.000000000",
          "2024-06-02T05:30:00.000000000",
          "2024-06-02T05:45:00.000000000",
          "2024-06-02T06:00:00.000000000",
          "2024-06-02T06:15:00.000000000",
          "2024-06-02T06:30:00.000000000",
          "2024-06-02T06:45:00.000000000",
          "2024-06-02T07:00:00.000000000",
          "2024-06-02T07:15:00.000000000",
          "2024-06-02T07:30:00.000000000",
          "2024-06-02T07:45:00.000000000",
          "2024-06-02T08:00:00.000000000",
          "2024-06-02T08:15:00.000000000",
          "2024-06-02T08:30:00.000000000",
          "2024-06-02T08:45:00.000000000",
          "2024-06-02T09:00:00.000000000",
          "2024-06-02T09:15:00.000000000",
          "2024-06-02T09:30:00.000000000",
          "2024-06-02T09:45:00.000000000",
          "2024-06-02T10:00:00.000000000",
          "2024-06-02T10:15:00.000000000",
          "2024-06-02T10:30:00.000000000",
          "2024-06-02T10:45:00.000000000",
          "2024-06-02T11:00:00.000000000",
          "2024-06-02T11:15:00.000000000",
          "2024-06-02T11:30:00.000000000",
          "2024-06-02T11:45:00.000000000",
          "2024-06-02T12:00:00.000000000",
          "2024-06-02T12:15:00.000000000",
          "2024-06-02T12:30:00.000000000",
          "2024-06-02T12:45:00.000000000",
          "2024-06-02T13:00:00.000000000",
          "2024-06-02T13:15:00.000000000",
          "2024-06-02T13:30:00.000000000",
          "2024-06-02T13:45:00.000000000",
          "2024-06-02T14:00:00.000000000",
          "2024-06-02T14:15:00.000000000",
          "2024-06-02T14:30:00.000000000",
          "2024-06-02T14:45:00.000000000",
          "2024-06-02T15:00:00.000000000",
          "2024-06-02T15:15:00.000000000",
          "2024-06-02T15:30:00.000000000",
          "2024-06-02T15:45:00.000000000",
          "2024-06-02T16:00:00.000000000",
          "2024-06-02T16:15:00.000000000",
          "2024-06-02T16:30:00.000000000",
          "2024-06-02T16:45:00.000000000",
          "2024-06-02T17:00:00.000000000",
          "2024-06-02T17:15:00.000000000",
          "2024-06-02T17:30:00.000000000",
          "2024-06-02T17:45:00.000000000",
          "2024-06-02T18:00:00.000000000",
          "2024-06-02T18:15:00.000000000",
          "2024-06-02T18:30:00.000000000",
          "2024-06-02T18:45:00.000000000",
          "2024-06-02T19:00:00.000000000",
          "2024-06-02T19:15:00.000000000",
          "2024-06-02T19:30:00.000000000",
          "2024-06-02T19:45:00.000000000",
          "2024-06-02T20:00:00.000000000",
          "2024-06-02T20:15:00.000000000",
          "2024-06-02T20:30:00.000000000",
          "2024-06-02T20:45:00.000000000",
          "2024-06-02T21:00:00.000000000",
          "2024-06-02T21:15:00.000000000",
          "2024-06-02T21:30:00.000000000",
          "2024-06-02T21:45:00.000000000",
          "2024-06-02T22:00:00.000000000",
          "2024-06-02T22:15:00.000000000",
          "2024-06-02T22:30:00.000000000",
          "2024-06-02T22:45:00.000000000",
          "2024-06-02T23:00:00.000000000",
          "2024-06-02T23:15:00.000000000",
          "2024-06-02T23:30:00.000000000",
          "2024-06-02T23:45:00.000000000",
          "2024-06-03T00:00:00.000000000"
         ],
         "xaxis": "x7",
         "y": {
          "bdata": "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",
          "dtype": "f8"
         },
         "yaxis": "y7"
        },
        {
         "name": "Optimized Net Grid",
         "type": "scatter",
         "x": [
          "2024-06-01T00:00:00.000000000",
          "2024-06-01T00:15:00.000000000",
          "2024-06-01T00:30:00.000000000",
          "2024-06-01T00:45:00.000000000",
          "2024-06-01T01:00:00.000000000",
          "2024-06-01T01:15:00.000000000",
          "2024-06-01T01:30:00.000000000",
          "2024-06-01T01:45:00.000000000",
          "2024-06-01T02:00:00.000000000",
          "2024-06-01T02:15:00.000000000",
          "2024-06-01T02:30:00.000000000",
          "2024-06-01T02:45:00.000000000",
          "2024-06-01T03:00:00.000000000",
          "2024-06-01T03:15:00.000000000",
          "2024-06-01T03:30:00.000000000",
          "2024-06-01T03:45:00.000000000",
          "2024-06-01T04:00:00.000000000",
          "2024-06-01T04:15:00.000000000",
          "2024-06-01T04:30:00.000000000",
          "2024-06-01T04:45:00.000000000",
          "2024-06-01T05:00:00.000000000",
          "2024-06-01T05:15:00.000000000",
          "2024-06-01T05:30:00.000000000",
          "2024-06-01T05:45:00.000000000",
          "2024-06-01T06:00:00.000000000",
          "2024-06-01T06:15:00.000000000",
          "2024-06-01T06:30:00.000000000",
          "2024-06-01T06:45:00.000000000",
          "2024-06-01T07:00:00.000000000",
          "2024-06-01T07:15:00.000000000",
          "2024-06-01T07:30:00.000000000",
          "2024-06-01T07:45:00.000000000",
          "2024-06-01T08:00:00.000000000",
          "2024-06-01T08:15:00.000000000",
          "2024-06-01T08:30:00.000000000",
          "2024-06-01T08:45:00.000000000",
          "2024-06-01T09:00:00.000000000",
          "2024-06-01T09:15:00.000000000",
          "2024-06-01T09:30:00.000000000",
          "2024-06-01T09:45:00.000000000",
          "2024-06-01T10:00:00.000000000",
          "2024-06-01T10:15:00.000000000",
          "2024-06-01T10:30:00.000000000",
          "2024-06-01T10:45:00.000000000",
          "2024-06-01T11:00:00.000000000",
          "2024-06-01T11:15:00.000000000",
          "2024-06-01T11:30:00.000000000",
          "2024-06-01T11:45:00.000000000",
          "2024-06-01T12:00:00.000000000",
          "2024-06-01T12:15:00.000000000",
          "2024-06-01T12:30:00.000000000",
          "2024-06-01T12:45:00.000000000",
          "2024-06-01T13:00:00.000000000",
          "2024-06-01T13:15:00.000000000",
          "2024-06-01T13:30:00.000000000",
          "2024-06-01T13:45:00.000000000",
          "2024-06-01T14:00:00.000000000",
          "2024-06-01T14:15:00.000000000",
          "2024-06-01T14:30:00.000000000",
          "2024-06-01T14:45:00.000000000",
          "2024-06-01T15:00:00.000000000",
          "2024-06-01T15:15:00.000000000",
          "2024-06-01T15:30:00.000000000",
          "2024-06-01T15:45:00.000000000",
          "2024-06-01T16:00:00.000000000",
          "2024-06-01T16:15:00.000000000",
          "2024-06-01T16:30:00.000000000",
          "2024-06-01T16:45:00.000000000",
          "2024-06-01T17:00:00.000000000",
          "2024-06-01T17:15:00.000000000",
          "2024-06-01T17:30:00.000000000",
          "2024-06-01T17:45:00.000000000",
          "2024-06-01T18:00:00.000000000",
          "2024-06-01T18:15:00.000000000",
          "2024-06-01T18:30:00.000000000",
          "2024-06-01T18:45:00.000000000",
          "2024-06-01T19:00:00.000000000",
          "2024-06-01T19:15:00.000000000",
          "2024-06-01T19:30:00.000000000",
          "2024-06-01T19:45:00.000000000",
          "2024-06-01T20:00:00.000000000",
          "2024-06-01T20:15:00.000000000",
          "2024-06-01T20:30:00.000000000",
          "2024-06-01T20:45:00.000000000",
          "2024-06-01T21:00:00.000000000",
          "2024-06-01T21:15:00.000000000",
          "2024-06-01T21:30:00.000000000",
          "2024-06-01T21:45:00.000000000",
          "2024-06-01T22:00:00.000000000",
          "2024-06-01T22:15:00.000000000",
          "2024-06-01T22:30:00.000000000",
          "2024-06-01T22:45:00.000000000",
          "2024-06-01T23:00:00.000000000",
          "2024-06-01T23:15:00.000000000",
          "2024-06-01T23:30:00.000000000",
          "2024-06-01T23:45:00.000000000",
          "2024-06-02T00:00:00.000000000",
          "2024-06-02T00:15:00.000000000",
          "2024-06-02T00:30:00.000000000",
          "2024-06-02T00:45:00.000000000",
          "2024-06-02T01:00:00.000000000",
          "2024-06-02T01:15:00.000000000",
          "2024-06-02T01:30:00.000000000",
          "2024-06-02T01:45:00.000000000",
          "2024-06-02T02:00:00.000000000",
          "2024-06-02T02:15:00.000000000",
          "2024-06-02T02:30:00.000000000",
          "2024-06-02T02:45:00.000000000",
          "2024-06-02T03:00:00.000000000",
          "2024-06-02T03:15:00.000000000",
          "2024-06-02T03:30:00.000000000",
          "2024-06-02T03:45:00.000000000",
          "2024-06-02T04:00:00.000000000",
          "2024-06-02T04:15:00.000000000",
          "2024-06-02T04:30:00.000000000",
          "2024-06-02T04:45:00.000000000",
          "2024-06-02T05:00:00.000000000",
          "2024-06-02T05:15:00.000000000",
          "2024-06-02T05:30:00.000000000",
          "2024-06-02T05:45:00.000000000",
          "2024-06-02T06:00:00.000000000",
          "2024-06-02T06:15:00.000000000",
          "2024-06-02T06:30:00.000000000",
          "2024-06-02T06:45:00.000000000",
          "2024-06-02T07:00:00.000000000",
          "2024-06-02T07:15:00.000000000",
          "2024-06-02T07:30:00.000000000",
          "2024-06-02T07:45:00.000000000",
          "2024-06-02T08:00:00.000000000",
          "2024-06-02T08:15:00.000000000",
          "2024-06-02T08:30:00.000000000",
          "2024-06-02T08:45:00.000000000",
          "2024-06-02T09:00:00.000000000",
          "2024-06-02T09:15:00.000000000",
          "2024-06-02T09:30:00.000000000",
          "2024-06-02T09:45:00.000000000",
          "2024-06-02T10:00:00.000000000",
          "2024-06-02T10:15:00.000000000",
          "2024-06-02T10:30:00.000000000",
          "2024-06-02T10:45:00.000000000",
          "2024-06-02T11:00:00.000000000",
          "2024-06-02T11:15:00.000000000",
          "2024-06-02T11:30:00.000000000",
          "2024-06-02T11:45:00.000000000",
          "2024-06-02T12:00:00.000000000",
          "2024-06-02T12:15:00.000000000",
          "2024-06-02T12:30:00.000000000",
          "2024-06-02T12:45:00.000000000",
          "2024-06-02T13:00:00.000000000",
          "2024-06-02T13:15:00.000000000",
          "2024-06-02T13:30:00.000000000",
          "2024-06-02T13:45:00.000000000",
          "2024-06-02T14:00:00.000000000",
          "2024-06-02T14:15:00.000000000",
          "2024-06-02T14:30:00.000000000",
          "2024-06-02T14:45:00.000000000",
          "2024-06-02T15:00:00.000000000",
          "2024-06-02T15:15:00.000000000",
          "2024-06-02T15:30:00.000000000",
          "2024-06-02T15:45:00.000000000",
          "2024-06-02T16:00:00.000000000",
          "2024-06-02T16:15:00.000000000",
          "2024-06-02T16:30:00.000000000",
          "2024-06-02T16:45:00.000000000",
          "2024-06-02T17:00:00.000000000",
          "2024-06-02T17:15:00.000000000",
          "2024-06-02T17:30:00.000000000",
          "2024-06-02T17:45:00.000000000",
          "2024-06-02T18:00:00.000000000",
          "2024-06-02T18:15:00.000000000",
          "2024-06-02T18:30:00.000000000",
          "2024-06-02T18:45:00.000000000",
          "2024-06-02T19:00:00.000000000",
          "2024-06-02T19:15:00.000000000",
          "2024-06-02T19:30:00.000000000",
          "2024-06-02T19:45:00.000000000",
          "2024-06-02T20:00:00.000000000",
          "2024-06-02T20:15:00.000000000",
          "2024-06-02T20:30:00.000000000",
          "2024-06-02T20:45:00.000000000",
          "2024-06-02T21:00:00.000000000",
          "2024-06-02T21:15:00.000000000",
          "2024-06-02T21:30:00.000000000",
          "2024-06-02T21:45:00.000000000",
          "2024-06-02T22:00:00.000000000",
          "2024-06-02T22:15:00.000000000",
          "2024-06-02T22:30:00.000000000",
          "2024-06-02T22:45:00.000000000",
          "2024-06-02T23:00:00.000000000",
          "2024-06-02T23:15:00.000000000",
          "2024-06-02T23:30:00.000000000",
          "2024-06-02T23:45:00.000000000",
          "2024-06-03T00:00:00.000000000"
         ],
         "xaxis": "x7",
         "y": {
          "bdata": "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",
          "dtype": "f8"
         },
         "yaxis": "y7"
        },
        {
         "name": "Baseline Cumulative",
         "type": "scatter",
         "x": [
          "2024-06-01T00:00:00.000000000",
          "2024-06-01T00:15:00.000000000",
          "2024-06-01T00:30:00.000000000",
          "2024-06-01T00:45:00.000000000",
          "2024-06-01T01:00:00.000000000",
          "2024-06-01T01:15:00.000000000",
          "2024-06-01T01:30:00.000000000",
          "2024-06-01T01:45:00.000000000",
          "2024-06-01T02:00:00.000000000",
          "2024-06-01T02:15:00.000000000",
          "2024-06-01T02:30:00.000000000",
          "2024-06-01T02:45:00.000000000",
          "2024-06-01T03:00:00.000000000",
          "2024-06-01T03:15:00.000000000",
          "2024-06-01T03:30:00.000000000",
          "2024-06-01T03:45:00.000000000",
          "2024-06-01T04:00:00.000000000",
          "2024-06-01T04:15:00.000000000",
          "2024-06-01T04:30:00.000000000",
          "2024-06-01T04:45:00.000000000",
          "2024-06-01T05:00:00.000000000",
          "2024-06-01T05:15:00.000000000",
          "2024-06-01T05:30:00.000000000",
          "2024-06-01T05:45:00.000000000",
          "2024-06-01T06:00:00.000000000",
          "2024-06-01T06:15:00.000000000",
          "2024-06-01T06:30:00.000000000",
          "2024-06-01T06:45:00.000000000",
          "2024-06-01T07:00:00.000000000",
          "2024-06-01T07:15:00.000000000",
          "2024-06-01T07:30:00.000000000",
          "2024-06-01T07:45:00.000000000",
          "2024-06-01T08:00:00.000000000",
          "2024-06-01T08:15:00.000000000",
          "2024-06-01T08:30:00.000000000",
          "2024-06-01T08:45:00.000000000",
          "2024-06-01T09:00:00.000000000",
          "2024-06-01T09:15:00.000000000",
          "2024-06-01T09:30:00.000000000",
          "2024-06-01T09:45:00.000000000",
          "2024-06-01T10:00:00.000000000",
          "2024-06-01T10:15:00.000000000",
          "2024-06-01T10:30:00.000000000",
          "2024-06-01T10:45:00.000000000",
          "2024-06-01T11:00:00.000000000",
          "2024-06-01T11:15:00.000000000",
          "2024-06-01T11:30:00.000000000",
          "2024-06-01T11:45:00.000000000",
          "2024-06-01T12:00:00.000000000",
          "2024-06-01T12:15:00.000000000",
          "2024-06-01T12:30:00.000000000",
          "2024-06-01T12:45:00.000000000",
          "2024-06-01T13:00:00.000000000",
          "2024-06-01T13:15:00.000000000",
          "2024-06-01T13:30:00.000000000",
          "2024-06-01T13:45:00.000000000",
          "2024-06-01T14:00:00.000000000",
          "2024-06-01T14:15:00.000000000",
          "2024-06-01T14:30:00.000000000",
          "2024-06-01T14:45:00.000000000",
          "2024-06-01T15:00:00.000000000",
          "2024-06-01T15:15:00.000000000",
          "2024-06-01T15:30:00.000000000",
          "2024-06-01T15:45:00.000000000",
          "2024-06-01T16:00:00.000000000",
          "2024-06-01T16:15:00.000000000",
          "2024-06-01T16:30:00.000000000",
          "2024-06-01T16:45:00.000000000",
          "2024-06-01T17:00:00.000000000",
          "2024-06-01T17:15:00.000000000",
          "2024-06-01T17:30:00.000000000",
          "2024-06-01T17:45:00.000000000",
          "2024-06-01T18:00:00.000000000",
          "2024-06-01T18:15:00.000000000",
          "2024-06-01T18:30:00.000000000",
          "2024-06-01T18:45:00.000000000",
          "2024-06-01T19:00:00.000000000",
          "2024-06-01T19:15:00.000000000",
          "2024-06-01T19:30:00.000000000",
          "2024-06-01T19:45:00.000000000",
          "2024-06-01T20:00:00.000000000",
          "2024-06-01T20:15:00.000000000",
          "2024-06-01T20:30:00.000000000",
          "2024-06-01T20:45:00.000000000",
          "2024-06-01T21:00:00.000000000",
          "2024-06-01T21:15:00.000000000",
          "2024-06-01T21:30:00.000000000",
          "2024-06-01T21:45:00.000000000",
          "2024-06-01T22:00:00.000000000",
          "2024-06-01T22:15:00.000000000",
          "2024-06-01T22:30:00.000000000",
          "2024-06-01T22:45:00.000000000",
          "2024-06-01T23:00:00.000000000",
          "2024-06-01T23:15:00.000000000",
          "2024-06-01T23:30:00.000000000",
          "2024-06-01T23:45:00.000000000",
          "2024-06-02T00:00:00.000000000",
          "2024-06-02T00:15:00.000000000",
          "2024-06-02T00:30:00.000000000",
          "2024-06-02T00:45:00.000000000",
          "2024-06-02T01:00:00.000000000",
          "2024-06-02T01:15:00.000000000",
          "2024-06-02T01:30:00.000000000",
          "2024-06-02T01:45:00.000000000",
          "2024-06-02T02:00:00.000000000",
          "2024-06-02T02:15:00.000000000",
          "2024-06-02T02:30:00.000000000",
          "2024-06-02T02:45:00.000000000",
          "2024-06-02T03:00:00.000000000",
          "2024-06-02T03:15:00.000000000",
          "2024-06-02T03:30:00.000000000",
          "2024-06-02T03:45:00.000000000",
          "2024-06-02T04:00:00.000000000",
          "2024-06-02T04:15:00.000000000",
          "2024-06-02T04:30:00.000000000",
          "2024-06-02T04:45:00.000000000",
          "2024-06-02T05:00:00.000000000",
          "2024-06-02T05:15:00.000000000",
          "2024-06-02T05:30:00.000000000",
          "2024-06-02T05:45:00.000000000",
          "2024-06-02T06:00:00.000000000",
          "2024-06-02T06:15:00.000000000",
          "2024-06-02T06:30:00.000000000",
          "2024-06-02T06:45:00.000000000",
          "2024-06-02T07:00:00.000000000",
          "2024-06-02T07:15:00.000000000",
          "2024-06-02T07:30:00.000000000",
          "2024-06-02T07:45:00.000000000",
          "2024-06-02T08:00:00.000000000",
          "2024-06-02T08:15:00.000000000",
          "2024-06-02T08:30:00.000000000",
          "2024-06-02T08:45:00.000000000",
          "2024-06-02T09:00:00.000000000",
          "2024-06-02T09:15:00.000000000",
          "2024-06-02T09:30:00.000000000",
          "2024-06-02T09:45:00.000000000",
          "2024-06-02T10:00:00.000000000",
          "2024-06-02T10:15:00.000000000",
          "2024-06-02T10:30:00.000000000",
          "2024-06-02T10:45:00.000000000",
          "2024-06-02T11:00:00.000000000",
          "2024-06-02T11:15:00.000000000",
          "2024-06-02T11:30:00.000000000",
          "2024-06-02T11:45:00.000000000",
          "2024-06-02T12:00:00.000000000",
          "2024-06-02T12:15:00.000000000",
          "2024-06-02T12:30:00.000000000",
          "2024-06-02T12:45:00.000000000",
          "2024-06-02T13:00:00.000000000",
          "2024-06-02T13:15:00.000000000",
          "2024-06-02T13:30:00.000000000",
          "2024-06-02T13:45:00.000000000",
          "2024-06-02T14:00:00.000000000",
          "2024-06-02T14:15:00.000000000",
          "2024-06-02T14:30:00.000000000",
          "2024-06-02T14:45:00.000000000",
          "2024-06-02T15:00:00.000000000",
          "2024-06-02T15:15:00.000000000",
          "2024-06-02T15:30:00.000000000",
          "2024-06-02T15:45:00.000000000",
          "2024-06-02T16:00:00.000000000",
          "2024-06-02T16:15:00.000000000",
          "2024-06-02T16:30:00.000000000",
          "2024-06-02T16:45:00.000000000",
          "2024-06-02T17:00:00.000000000",
          "2024-06-02T17:15:00.000000000",
          "2024-06-02T17:30:00.000000000",
          "2024-06-02T17:45:00.000000000",
          "2024-06-02T18:00:00.000000000",
          "2024-06-02T18:15:00.000000000",
          "2024-06-02T18:30:00.000000000",
          "2024-06-02T18:45:00.000000000",
          "2024-06-02T19:00:00.000000000",
          "2024-06-02T19:15:00.000000000",
          "2024-06-02T19:30:00.000000000",
          "2024-06-02T19:45:00.000000000",
          "2024-06-02T20:00:00.000000000",
          "2024-06-02T20:15:00.000000000",
          "2024-06-02T20:30:00.000000000",
          "2024-06-02T20:45:00.000000000",
          "2024-06-02T21:00:00.000000000",
          "2024-06-02T21:15:00.000000000",
          "2024-06-02T21:30:00.000000000",
          "2024-06-02T21:45:00.000000000",
          "2024-06-02T22:00:00.000000000",
          "2024-06-02T22:15:00.000000000",
          "2024-06-02T22:30:00.000000000",
          "2024-06-02T22:45:00.000000000",
          "2024-06-02T23:00:00.000000000",
          "2024-06-02T23:15:00.000000000",
          "2024-06-02T23:30:00.000000000",
          "2024-06-02T23:45:00.000000000",
          "2024-06-03T00:00:00.000000000"
         ],
         "xaxis": "x8",
         "y": {
          "bdata": "5V5wtxcpkr9EsVuxSxyav5EMLhgX+aO/DhVP4GaYqr8A8Ty/IFexv+JiUEEJaLa/OeeAT6XSub+Ny/mr/2O7v3TxJL8kUL6/agjv6gYpwL+w0B+RVFvCv601G3u3e8S/l4CEG7zuxr/0t/tCh+/Iv+mgrvCDk8q/43MNB20tzL9/3GxddhbOv8X/0U//Q9C/s1RMtPEL0b/oFcITigPSv726x3PLMdO/3CovdWkC1L/rU6And2nVv58/YhJZuta/FyEUNNXy179Zarc7VsrZvwNZ3Y1wudy/0MkuR5nD3b8dYL24+wDgv22VQKgoceC/WqM65kwm4r+wziCDyYXjv2fGCDTyfuS/RPdSYYPL479wBMrCzUrkv5NbuLUSVOO/SHinPELj4r8ZOaEw9gDhv6H97487A+C/R+veEPA93r9ZKZjz7trZv8EK+jJO2dW/vTIhATNm0L/EQEqz4fjIvzKrqdZl5sG/Vhyub+v9qr+E0MuUbe2UP+4DGinAY7I/fPq+cqbuxj9KWvtTKK/RP1TUJGncp9M/BfC8o2271z+BLoBq/PDdP/l1Cr/1iuI/BkuyNQuj5D8ceHbs9QHmPx/p65DTjOg/dpXB50Vm6j+dEOLJt9nsP5Hq1KvmqO0/Lou3qLPB7T+daHExtTbuP2fYCBZn8e0/EW+C+Yc87z+ega+95ZHvP7/nV1dSGu8/QX8n9NsO7z/TNF11hRDuP5k7Jyc/L+0/8DW4xmGP7D+shpfwchDrP+UVpxnvZOk/fQDEt5TM5j/bG55h6knkPxhRzW3sqOE/MIUe1rPg3T/nzIwFgL7YP/tSUVB759M/XpTlFfvLyT/osGrqAJKrP7iGahlhlJq/xQX+ycWku79o/BIRZw3Gv0Sof1UoLc+/dd4j/+4Y1L+9jttPrPLZv46azleZDN6/HiWXfWyb4L8tl4DqGKzhv3BbNcxF0OK/riXD7F3647+unUKubtbkv9a+RwE/3eW/xVBgYYzO5r8jo+MA1a7nvz9wk3KLLOi/eY4yS9296L9BmQDGVCbpvyVz1ITbmem/8dryqa4i6r97rup0UcHqvz5Uz9TTYOu/f0yqh7Tf67+99CODjk/sv7bXdeby1Oy/Jc/lwQBG7b+yO5Gimcntv76sTEHDE+6/TV5T3Npy7r+MyQ5F++vuvxCDSPxca++/ociDe4/q77/tprSrmSfwvySY62ARc/C/0DDRPFKb8L+TYQndEeTwv9ncKNe/HfG/XbziA0RG8b/5EW1W/Y/xv/AMsYBOyPG/JQh940cY8r83EhY+dI7yv1oTlt5xL/O/TkAm/gen878Chsgr1jj0v5wgwiRl6PS/IuVG9kxf9b9kNBjoJDn2v+lWuduFS/a/T4GHldca9r+j1RSB4hz2v7HcdArTdPa/jy49MzrZ9b/BI35SMNT0v76BrX9qw/O/gJfuEcXQ8r+O/U9mKpLxv5Vu4lahavC/aRC+H3kv8L9ptNrrzhHuv8q38lb91eu/Ar+DLvdV6b9JUySv07nmv25LrrzXj+W/o6xbeDQo479xT7z0tlHhv+wjV0jm+d6/MvHz22x527+/LG/GOHDWv/5+T5jV29C/00df4k+kx79UvvvOZ8G+v1BJ8O5Eb6S/YL8y40KSnz/0ctasfDm9P/JZz5cvhL8/oo3Uk/YbxT8RgHcQlBjHP/MIjKBuJMs/f/YdRYYYzj+nL6iuDtzPPwwz8Nkils8/8E5djv5azz8kxYj3H8vMP9ZtiiyzA8o/5Cvxg7YGwz+wnSSqDru0P9ITOuiDCZw/G20mKdeJpb+WrgIGk9DBvyblgBFzts6/QZOy6Luq1b+U1DoSRd7bv5frblLUgOC/cPi+Pw/p47/MD1lOajjnv/u7IYa5auq/ZemMopg37b9G7PElvRbwv20cjMr8FfK/MlHlwEhI87/zOuuaQWn0vyFg5qFq5PW/145DlE3i9r/2XYnbUMH3vxHMIeYdsvi/mWnvzM8p+b+KQ5jwNsz5vxmcKRuLNfq/Yj/Cf7/W+r9hw3sx0Ev7vxkUI7Ros/u/KLcCejUF/L8=",
          "dtype": "f8"
         },
         "yaxis": "y8"
        },
        {
         "name": "Battery Cumulative",
         "type": "scatter",
         "x": [
          "2024-06-01T00:00:00.000000000",
          "2024-06-01T00:15:00.000000000",
          "2024-06-01T00:30:00.000000000",
          "2024-06-01T00:45:00.000000000",
          "2024-06-01T01:00:00.000000000",
          "2024-06-01T01:15:00.000000000",
          "2024-06-01T01:30:00.000000000",
          "2024-06-01T01:45:00.000000000",
          "2024-06-01T02:00:00.000000000",
          "2024-06-01T02:15:00.000000000",
          "2024-06-01T02:30:00.000000000",
          "2024-06-01T02:45:00.000000000",
          "2024-06-01T03:00:00.000000000",
          "2024-06-01T03:15:00.000000000",
          "2024-06-01T03:30:00.000000000",
          "2024-06-01T03:45:00.000000000",
          "2024-06-01T04:00:00.000000000",
          "2024-06-01T04:15:00.000000000",
          "2024-06-01T04:30:00.000000000",
          "2024-06-01T04:45:00.000000000",
          "2024-06-01T05:00:00.000000000",
          "2024-06-01T05:15:00.000000000",
          "2024-06-01T05:30:00.000000000",
          "2024-06-01T05:45:00.000000000",
          "2024-06-01T06:00:00.000000000",
          "2024-06-01T06:15:00.000000000",
          "2024-06-01T06:30:00.000000000",
          "2024-06-01T06:45:00.000000000",
          "2024-06-01T07:00:00.000000000",
          "2024-06-01T07:15:00.000000000",
          "2024-06-01T07:30:00.000000000",
          "2024-06-01T07:45:00.000000000",
          "2024-06-01T08:00:00.000000000",
          "2024-06-01T08:15:00.000000000",
          "2024-06-01T08:30:00.000000000",
          "2024-06-01T08:45:00.000000000",
          "2024-06-01T09:00:00.000000000",
          "2024-06-01T09:15:00.000000000",
          "2024-06-01T09:30:00.000000000",
          "2024-06-01T09:45:00.000000000",
          "2024-06-01T10:00:00.000000000",
          "2024-06-01T10:15:00.000000000",
          "2024-06-01T10:30:00.000000000",
          "2024-06-01T10:45:00.000000000",
          "2024-06-01T11:00:00.000000000",
          "2024-06-01T11:15:00.000000000",
          "2024-06-01T11:30:00.000000000",
          "2024-06-01T11:45:00.000000000",
          "2024-06-01T12:00:00.000000000",
          "2024-06-01T12:15:00.000000000",
          "2024-06-01T12:30:00.000000000",
          "2024-06-01T12:45:00.000000000",
          "2024-06-01T13:00:00.000000000",
          "2024-06-01T13:15:00.000000000",
          "2024-06-01T13:30:00.000000000",
          "2024-06-01T13:45:00.000000000",
          "2024-06-01T14:00:00.000000000",
          "2024-06-01T14:15:00.000000000",
          "2024-06-01T14:30:00.000000000",
          "2024-06-01T14:45:00.000000000",
          "2024-06-01T15:00:00.000000000",
          "2024-06-01T15:15:00.000000000",
          "2024-06-01T15:30:00.000000000",
          "2024-06-01T15:45:00.000000000",
          "2024-06-01T16:00:00.000000000",
          "2024-06-01T16:15:00.000000000",
          "2024-06-01T16:30:00.000000000",
          "2024-06-01T16:45:00.000000000",
          "2024-06-01T17:00:00.000000000",
          "2024-06-01T17:15:00.000000000",
          "2024-06-01T17:30:00.000000000",
          "2024-06-01T17:45:00.000000000",
          "2024-06-01T18:00:00.000000000",
          "2024-06-01T18:15:00.000000000",
          "2024-06-01T18:30:00.000000000",
          "2024-06-01T18:45:00.000000000",
          "2024-06-01T19:00:00.000000000",
          "2024-06-01T19:15:00.000000000",
          "2024-06-01T19:30:00.000000000",
          "2024-06-01T19:45:00.000000000",
          "2024-06-01T20:00:00.000000000",
          "2024-06-01T20:15:00.000000000",
          "2024-06-01T20:30:00.000000000",
          "2024-06-01T20:45:00.000000000",
          "2024-06-01T21:00:00.000000000",
          "2024-06-01T21:15:00.000000000",
          "2024-06-01T21:30:00.000000000",
          "2024-06-01T21:45:00.000000000",
          "2024-06-01T22:00:00.000000000",
          "2024-06-01T22:15:00.000000000",
          "2024-06-01T22:30:00.000000000",
          "2024-06-01T22:45:00.000000000",
          "2024-06-01T23:00:00.000000000",
          "2024-06-01T23:15:00.000000000",
          "2024-06-01T23:30:00.000000000",
          "2024-06-01T23:45:00.000000000",
          "2024-06-02T00:00:00.000000000",
          "2024-06-02T00:15:00.000000000",
          "2024-06-02T00:30:00.000000000",
          "2024-06-02T00:45:00.000000000",
          "2024-06-02T01:00:00.000000000",
          "2024-06-02T01:15:00.000000000",
          "2024-06-02T01:30:00.000000000",
          "2024-06-02T01:45:00.000000000",
          "2024-06-02T02:00:00.000000000",
          "2024-06-02T02:15:00.000000000",
          "2024-06-02T02:30:00.000000000",
          "2024-06-02T02:45:00.000000000",
          "2024-06-02T03:00:00.000000000",
          "2024-06-02T03:15:00.000000000",
          "2024-06-02T03:30:00.000000000",
          "2024-06-02T03:45:00.000000000",
          "2024-06-02T04:00:00.000000000",
          "2024-06-02T04:15:00.000000000",
          "2024-06-02T04:30:00.000000000",
          "2024-06-02T04:45:00.000000000",
          "2024-06-02T05:00:00.000000000",
          "2024-06-02T05:15:00.000000000",
          "2024-06-02T05:30:00.000000000",
          "2024-06-02T05:45:00.000000000",
          "2024-06-02T06:00:00.000000000",
          "2024-06-02T06:15:00.000000000",
          "2024-06-02T06:30:00.000000000",
          "2024-06-02T06:45:00.000000000",
          "2024-06-02T07:00:00.000000000",
          "2024-06-02T07:15:00.000000000",
          "2024-06-02T07:30:00.000000000",
          "2024-06-02T07:45:00.000000000",
          "2024-06-02T08:00:00.000000000",
          "2024-06-02T08:15:00.000000000",
          "2024-06-02T08:30:00.000000000",
          "2024-06-02T08:45:00.000000000",
          "2024-06-02T09:00:00.000000000",
          "2024-06-02T09:15:00.000000000",
          "2024-06-02T09:30:00.000000000",
          "2024-06-02T09:45:00.000000000",
          "2024-06-02T10:00:00.000000000",
          "2024-06-02T10:15:00.000000000",
          "2024-06-02T10:30:00.000000000",
          "2024-06-02T10:45:00.000000000",
          "2024-06-02T11:00:00.000000000",
          "2024-06-02T11:15:00.000000000",
          "2024-06-02T11:30:00.000000000",
          "2024-06-02T11:45:00.000000000",
          "2024-06-02T12:00:00.000000000",
          "2024-06-02T12:15:00.000000000",
          "2024-06-02T12:30:00.000000000",
          "2024-06-02T12:45:00.000000000",
          "2024-06-02T13:00:00.000000000",
          "2024-06-02T13:15:00.000000000",
          "2024-06-02T13:30:00.000000000",
          "2024-06-02T13:45:00.000000000",
          "2024-06-02T14:00:00.000000000",
          "2024-06-02T14:15:00.000000000",
          "2024-06-02T14:30:00.000000000",
          "2024-06-02T14:45:00.000000000",
          "2024-06-02T15:00:00.000000000",
          "2024-06-02T15:15:00.000000000",
          "2024-06-02T15:30:00.000000000",
          "2024-06-02T15:45:00.000000000",
          "2024-06-02T16:00:00.000000000",
          "2024-06-02T16:15:00.000000000",
          "2024-06-02T16:30:00.000000000",
          "2024-06-02T16:45:00.000000000",
          "2024-06-02T17:00:00.000000000",
          "2024-06-02T17:15:00.000000000",
          "2024-06-02T17:30:00.000000000",
          "2024-06-02T17:45:00.000000000",
          "2024-06-02T18:00:00.000000000",
          "2024-06-02T18:15:00.000000000",
          "2024-06-02T18:30:00.000000000",
          "2024-06-02T18:45:00.000000000",
          "2024-06-02T19:00:00.000000000",
          "2024-06-02T19:15:00.000000000",
          "2024-06-02T19:30:00.000000000",
          "2024-06-02T19:45:00.000000000",
          "2024-06-02T20:00:00.000000000",
          "2024-06-02T20:15:00.000000000",
          "2024-06-02T20:30:00.000000000",
          "2024-06-02T20:45:00.000000000",
          "2024-06-02T21:00:00.000000000",
          "2024-06-02T21:15:00.000000000",
          "2024-06-02T21:30:00.000000000",
          "2024-06-02T21:45:00.000000000",
          "2024-06-02T22:00:00.000000000",
          "2024-06-02T22:15:00.000000000",
          "2024-06-02T22:30:00.000000000",
          "2024-06-02T22:45:00.000000000",
          "2024-06-02T23:00:00.000000000",
          "2024-06-02T23:15:00.000000000",
          "2024-06-02T23:30:00.000000000",
          "2024-06-02T23:45:00.000000000",
          "2024-06-03T00:00:00.000000000"
         ],
         "xaxis": "x8",
         "y": {
          "bdata": "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",
          "dtype": "f8"
         },
         "yaxis": "y8"
        },
        {
         "name": "Energy Balance",
         "type": "scatter",
         "x": [
          "2024-06-01T00:00:00.000000000",
          "2024-06-01T00:15:00.000000000",
          "2024-06-01T00:30:00.000000000",
          "2024-06-01T00:45:00.000000000",
          "2024-06-01T01:00:00.000000000",
          "2024-06-01T01:15:00.000000000",
          "2024-06-01T01:30:00.000000000",
          "2024-06-01T01:45:00.000000000",
          "2024-06-01T02:00:00.000000000",
          "2024-06-01T02:15:00.000000000",
          "2024-06-01T02:30:00.000000000",
          "2024-06-01T02:45:00.000000000",
          "2024-06-01T03:00:00.000000000",
          "2024-06-01T03:15:00.000000000",
          "2024-06-01T03:30:00.000000000",
          "2024-06-01T03:45:00.000000000",
          "2024-06-01T04:00:00.000000000",
          "2024-06-01T04:15:00.000000000",
          "2024-06-01T04:30:00.000000000",
          "2024-06-01T04:45:00.000000000",
          "2024-06-01T05:00:00.000000000",
          "2024-06-01T05:15:00.000000000",
          "2024-06-01T05:30:00.000000000",
          "2024-06-01T05:45:00.000000000",
          "2024-06-01T06:00:00.000000000",
          "2024-06-01T06:15:00.000000000",
          "2024-06-01T06:30:00.000000000",
          "2024-06-01T06:45:00.000000000",
          "2024-06-01T07:00:00.000000000",
          "2024-06-01T07:15:00.000000000",
          "2024-06-01T07:30:00.000000000",
          "2024-06-01T07:45:00.000000000",
          "2024-06-01T08:00:00.000000000",
          "2024-06-01T08:15:00.000000000",
          "2024-06-01T08:30:00.000000000",
          "2024-06-01T08:45:00.000000000",
          "2024-06-01T09:00:00.000000000",
          "2024-06-01T09:15:00.000000000",
          "2024-06-01T09:30:00.000000000",
          "2024-06-01T09:45:00.000000000",
          "2024-06-01T10:00:00.000000000",
          "2024-06-01T10:15:00.000000000",
          "2024-06-01T10:30:00.000000000",
          "2024-06-01T10:45:00.000000000",
          "2024-06-01T11:00:00.000000000",
          "2024-06-01T11:15:00.000000000",
          "2024-06-01T11:30:00.000000000",
          "2024-06-01T11:45:00.000000000",
          "2024-06-01T12:00:00.000000000",
          "2024-06-01T12:15:00.000000000",
          "2024-06-01T12:30:00.000000000",
          "2024-06-01T12:45:00.000000000",
          "2024-06-01T13:00:00.000000000",
          "2024-06-01T13:15:00.000000000",
          "2024-06-01T13:30:00.000000000",
          "2024-06-01T13:45:00.000000000",
          "2024-06-01T14:00:00.000000000",
          "2024-06-01T14:15:00.000000000",
          "2024-06-01T14:30:00.000000000",
          "2024-06-01T14:45:00.000000000",
          "2024-06-01T15:00:00.000000000",
          "2024-06-01T15:15:00.000000000",
          "2024-06-01T15:30:00.000000000",
          "2024-06-01T15:45:00.000000000",
          "2024-06-01T16:00:00.000000000",
          "2024-06-01T16:15:00.000000000",
          "2024-06-01T16:30:00.000000000",
          "2024-06-01T16:45:00.000000000",
          "2024-06-01T17:00:00.000000000",
          "2024-06-01T17:15:00.000000000",
          "2024-06-01T17:30:00.000000000",
          "2024-06-01T17:45:00.000000000",
          "2024-06-01T18:00:00.000000000",
          "2024-06-01T18:15:00.000000000",
          "2024-06-01T18:30:00.000000000",
          "2024-06-01T18:45:00.000000000",
          "2024-06-01T19:00:00.000000000",
          "2024-06-01T19:15:00.000000000",
          "2024-06-01T19:30:00.000000000",
          "2024-06-01T19:45:00.000000000",
          "2024-06-01T20:00:00.000000000",
          "2024-06-01T20:15:00.000000000",
          "2024-06-01T20:30:00.000000000",
          "2024-06-01T20:45:00.000000000",
          "2024-06-01T21:00:00.000000000",
          "2024-06-01T21:15:00.000000000",
          "2024-06-01T21:30:00.000000000",
          "2024-06-01T21:45:00.000000000",
          "2024-06-01T22:00:00.000000000",
          "2024-06-01T22:15:00.000000000",
          "2024-06-01T22:30:00.000000000",
          "2024-06-01T22:45:00.000000000",
          "2024-06-01T23:00:00.000000000",
          "2024-06-01T23:15:00.000000000",
          "2024-06-01T23:30:00.000000000",
          "2024-06-01T23:45:00.000000000",
          "2024-06-02T00:00:00.000000000",
          "2024-06-02T00:15:00.000000000",
          "2024-06-02T00:30:00.000000000",
          "2024-06-02T00:45:00.000000000",
          "2024-06-02T01:00:00.000000000",
          "2024-06-02T01:15:00.000000000",
          "2024-06-02T01:30:00.000000000",
          "2024-06-02T01:45:00.000000000",
          "2024-06-02T02:00:00.000000000",
          "2024-06-02T02:15:00.000000000",
          "2024-06-02T02:30:00.000000000",
          "2024-06-02T02:45:00.000000000",
          "2024-06-02T03:00:00.000000000",
          "2024-06-02T03:15:00.000000000",
          "2024-06-02T03:30:00.000000000",
          "2024-06-02T03:45:00.000000000",
          "2024-06-02T04:00:00.000000000",
          "2024-06-02T04:15:00.000000000",
          "2024-06-02T04:30:00.000000000",
          "2024-06-02T04:45:00.000000000",
          "2024-06-02T05:00:00.000000000",
          "2024-06-02T05:15:00.000000000",
          "2024-06-02T05:30:00.000000000",
          "2024-06-02T05:45:00.000000000",
          "2024-06-02T06:00:00.000000000",
          "2024-06-02T06:15:00.000000000",
          "2024-06-02T06:30:00.000000000",
          "2024-06-02T06:45:00.000000000",
          "2024-06-02T07:00:00.000000000",
          "2024-06-02T07:15:00.000000000",
          "2024-06-02T07:30:00.000000000",
          "2024-06-02T07:45:00.000000000",
          "2024-06-02T08:00:00.000000000",
          "2024-06-02T08:15:00.000000000",
          "2024-06-02T08:30:00.000000000",
          "2024-06-02T08:45:00.000000000",
          "2024-06-02T09:00:00.000000000",
          "2024-06-02T09:15:00.000000000",
          "2024-06-02T09:30:00.000000000",
          "2024-06-02T09:45:00.000000000",
          "2024-06-02T10:00:00.000000000",
          "2024-06-02T10:15:00.000000000",
          "2024-06-02T10:30:00.000000000",
          "2024-06-02T10:45:00.000000000",
          "2024-06-02T11:00:00.000000000",
          "2024-06-02T11:15:00.000000000",
          "2024-06-02T11:30:00.000000000",
          "2024-06-02T11:45:00.000000000",
          "2024-06-02T12:00:00.000000000",
          "2024-06-02T12:15:00.000000000",
          "2024-06-02T12:30:00.000000000",
          "2024-06-02T12:45:00.000000000",
          "2024-06-02T13:00:00.000000000",
          "2024-06-02T13:15:00.000000000",
          "2024-06-02T13:30:00.000000000",
          "2024-06-02T13:45:00.000000000",
          "2024-06-02T14:00:00.000000000",
          "2024-06-02T14:15:00.000000000",
          "2024-06-02T14:30:00.000000000",
          "2024-06-02T14:45:00.000000000",
          "2024-06-02T15:00:00.000000000",
          "2024-06-02T15:15:00.000000000",
          "2024-06-02T15:30:00.000000000",
          "2024-06-02T15:45:00.000000000",
          "2024-06-02T16:00:00.000000000",
          "2024-06-02T16:15:00.000000000",
          "2024-06-02T16:30:00.000000000",
          "2024-06-02T16:45:00.000000000",
          "2024-06-02T17:00:00.000000000",
          "2024-06-02T17:15:00.000000000",
          "2024-06-02T17:30:00.000000000",
          "2024-06-02T17:45:00.000000000",
          "2024-06-02T18:00:00.000000000",
          "2024-06-02T18:15:00.000000000",
          "2024-06-02T18:30:00.000000000",
          "2024-06-02T18:45:00.000000000",
          "2024-06-02T19:00:00.000000000",
          "2024-06-02T19:15:00.000000000",
          "2024-06-02T19:30:00.000000000",
          "2024-06-02T19:45:00.000000000",
          "2024-06-02T20:00:00.000000000",
          "2024-06-02T20:15:00.000000000",
          "2024-06-02T20:30:00.000000000",
          "2024-06-02T20:45:00.000000000",
          "2024-06-02T21:00:00.000000000",
          "2024-06-02T21:15:00.000000000",
          "2024-06-02T21:30:00.000000000",
          "2024-06-02T21:45:00.000000000",
          "2024-06-02T22:00:00.000000000",
          "2024-06-02T22:15:00.000000000",
          "2024-06-02T22:30:00.000000000",
          "2024-06-02T22:45:00.000000000",
          "2024-06-02T23:00:00.000000000",
          "2024-06-02T23:15:00.000000000",
          "2024-06-02T23:30:00.000000000",
          "2024-06-02T23:45:00.000000000",
          "2024-06-03T00:00:00.000000000"
         ],
         "xaxis": "x9",
         "y": {
          "bdata": "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",
          "dtype": "f8"
         },
         "yaxis": "y9"
        }
       ],
       "layout": {
        "annotations": [
         {
          "font": {
           "size": 16
          },
          "showarrow": false,
          "text": "Home Generation & Consumption",
          "x": 0.5,
          "xanchor": "center",
          "xref": "paper",
          "y": 1,
          "yanchor": "bottom",
          "yref": "paper"
         },
         {
          "font": {
           "size": 16
          },
          "showarrow": false,
          "text": "Battery Operations",
          "x": 0.5,
          "xanchor": "center",
          "xref": "paper",
          "y": 0.8866666666666667,
          "yanchor": "bottom",
          "yref": "paper"
         },
         {
          "font": {
           "size": 16
          },
          "showarrow": false,
          "text": "Net Grid Flow (Import+ Export-)",
          "x": 0.5,
          "xanchor": "center",
          "xref": "paper",
          "y": 0.7733333333333332,
          "yanchor": "bottom",
          "yref": "paper"
         },
         {
          "font": {
           "size": 16
          },
          "showarrow": false,
          "text": "State of Charge",
          "x": 0.5,
          "xanchor": "center",
          "xref": "paper",
          "y": 0.6599999999999999,
          "yanchor": "bottom",
          "yref": "paper"
         },
         {
          "font": {
           "size": 16
          },
          "showarrow": false,
          "text": "Price Signal",
          "x": 0.5,
          "xanchor": "center",
          "xref": "paper",
          "y": 0.5466666666666666,
          "yanchor": "bottom",
          "yref": "paper"
         },
         {
          "font": {
           "size": 16
          },
          "showarrow": false,
          "text": "Profit Comparison",
          "x": 0.5,
          "xanchor": "center",
          "xref": "paper",
          "y": 0.4333333333333333,
          "yanchor": "bottom",
          "yref": "paper"
         },
         {
          "font": {
           "size": 16
          },
          "showarrow": false,
          "text": "Baseline vs Optimized Net Grid",
          "x": 0.5,
          "xanchor": "center",
          "xref": "paper",
          "y": 0.31999999999999995,
          "yanchor": "bottom",
          "yref": "paper"
         },
         {
          "font": {
           "size": 16
          },
          "showarrow": false,
          "text": "Cumulative Profit",
          "x": 0.5,
          "xanchor": "center",
          "xref": "paper",
          "y": 0.20666666666666667,
          "yanchor": "bottom",
          "yref": "paper"
         },
         {
          "font": {
           "size": 16
          },
          "showarrow": false,
          "text": "Energy Balance Check",
          "x": 0.5,
          "xanchor": "center",
          "xref": "paper",
          "y": 0.09333333333333332,
          "yanchor": "bottom",
          "yref": "paper"
         }
        ],
        "height": 2000,
        "hovermode": "x unified",
        "shapes": [
         {
          "fillcolor": "Green",
          "layer": "below",
          "line": {
           "width": 0
          },
          "opacity": 0.3,
          "type": "rect",
          "x0": "2024-06-01T00:00:00",
          "x1": "2024-06-01T00:15:00",
          "xref": "x3",
          "y0": 0,
          "y1": 1,
          "yref": "y3 domain"
         },
         {
          "fillcolor": "Green",
          "layer": "below",
          "line": {
           "width": 0
          },
          "opacity": 0.3,
          "type": "rect",
          "x0": "2024-06-01T00:15:00",
          "x1": "2024-06-01T00:30:00",
          "xref": "x3",
          "y0": 0,
          "y1": 1,
          "yref": "y3 domain"
         },
         {
          "fillcolor": "Green",
          "layer": "below",
          "line": {
           "width": 0
          },
          "opacity": 0.3,
          "type": "rect",
          "x0": "2024-06-01T00:30:00",
          "x1": "2024-06-01T00:45:00",
          "xref": "x3",
          "y0": 0,
          "y1": 1,
          "yref": "y3 domain"
         },
         {
          "fillcolor": "Green",
          "layer": "below",
          "line": {
           "width": 0
          },
          "opacity": 0.3,
          "type": "rect",
          "x0": "2024-06-01T00:45:00",
          "x1": "2024-06-01T01:00:00",
          "xref": "x3",
          "y0": 0,
          "y1": 1,
          "yref": "y3 domain"
         },
         {
          "fillcolor": "Red",
          "layer": "below",
          "line": {
           "width": 0
          },
          "opacity": 0.3,
          "type": "rect",
          "x0": "2024-06-01T01:15:00",
          "x1": "2024-06-01T01:30:00",
          "xref": "x3",
          "y0": 0,
          "y1": 1,
          "yref": "y3 domain"
         },
         {
          "fillcolor": "Green",
          "layer": "below",
          "line": {
           "width": 0
          },
          "opacity": 0.3,
          "type": "rect",
          "x0": "2024-06-01T01:30:00",
          "x1": "2024-06-01T01:45:00",
          "xref": "x3",
          "y0": 0,
          "y1": 1,
          "yref": "y3 domain"
         },
         {
          "fillcolor": "Green",
          "layer": "below",
          "line": {
           "width": 0
          },
          "opacity": 0.237673128,
          "type": "rect",
          "x0": "2024-06-01T02:00:00",
          "x1": "2024-06-01T02:15:00",
          "xref": "x3",
          "y0": 0,
          "y1": 1,
          "yref": "y3 domain"
         },
         {
          "fillcolor": "Green",
          "layer": "below",
          "line": {
           "width": 0
          },
          "opacity": 0.3,
          "type": "rect",
          "x0": "2024-06-01T02:15:00",
          "x1": "2024-06-01T02:30:00",
          "xref": "x3",
          "y0": 0,
          "y1": 1,
          "yref": "y3 domain"
         },
         {
          "fillcolor": "Red",
          "layer": "below",
          "line": {
           "width": 0
          },
          "opacity": 0.3,
          "type": "rect",
          "x0": "2024-06-01T03:00:00",
          "x1": "2024-06-01T03:15:00",
          "xref": "x3",
          "y0": 0,
          "y1": 1,
          "yref": "y3 domain"
         },
         {
          "fillcolor": "Red",
          "layer": "below",
          "line": {
           "width": 0
          },
          "opacity": 0.3,
          "type": "rect",
          "x0": "2024-06-01T03:15:00",
          "x1": "2024-06-01T03:30:00",
          "xref": "x3",
          "y0": 0,
          "y1": 1,
          "yref": "y3 domain"
         },
         {
          "fillcolor": "Green",
          "layer": "below",
          "line": {
           "width": 0
          },
          "opacity": 0.3,
          "type": "rect",
          "x0": "2024-06-01T03:30:00",
          "x1": "2024-06-01T03:45:00",
          "xref": "x3",
          "y0": 0,
          "y1": 1,
          "yref": "y3 domain"
         },
         {
          "fillcolor": "Red",
          "layer": "below",
          "line": {
           "width": 0
          },
          "opacity": 0.3,
          "type": "rect",
          "x0": "2024-06-01T03:45:00",
          "x1": "2024-06-01T04:00:00",
          "xref": "x3",
          "y0": 0,
          "y1": 1,
          "yref": "y3 domain"
         },
         {
          "fillcolor": "Green",
          "layer": "below",
          "line": {
           "width": 0
          },
          "opacity": 0.3,
          "type": "rect",
          "x0": "2024-06-01T04:00:00",
          "x1": "2024-06-01T04:15:00",
          "xref": "x3",
          "y0": 0,
          "y1": 1,
          "yref": "y3 domain"
         },
         {
          "fillcolor": "Red",
          "layer": "below",
          "line": {
           "width": 0
          },
          "opacity": 0.3,
          "type": "rect",
          "x0": "2024-06-01T04:15:00",
          "x1": "2024-06-01T04:30:00",
          "xref": "x3",
          "y0": 0,
          "y1": 1,
          "yref": "y3 domain"
         },
         {
          "fillcolor": "Green",
          "layer": "below",
          "line": {
           "width": 0
          },
          "opacity": 0.3,
          "type": "rect",
          "x0": "2024-06-01T04:30:00",
          "x1": "2024-06-01T04:45:00",
          "xref": "x3",
          "y0": 0,
          "y1": 1,
          "yref": "y3 domain"
         },
         {
          "fillcolor": "Red",
          "layer": "below",
          "line": {
           "width": 0
          },
          "opacity": 0.3,
          "type": "rect",
          "x0": "2024-06-01T05:00:00",
          "x1": "2024-06-01T05:15:00",
          "xref": "x3",
          "y0": 0,
          "y1": 1,
          "yref": "y3 domain"
         },
         {
          "fillcolor": "Red",
          "layer": "below",
          "line": {
           "width": 0
          },
          "opacity": 0.22394999999999998,
          "type": "rect",
          "x0": "2024-06-01T05:30:00",
          "x1": "2024-06-01T05:45:00",
          "xref": "x3",
          "y0": 0,
          "y1": 1,
          "yref": "y3 domain"
         },
         {
          "fillcolor": "Green",
          "layer": "below",
          "line": {
           "width": 0
          },
          "opacity": 0.3,
          "type": "rect",
          "x0": "2024-06-01T05:45:00",
          "x1": "2024-06-01T06:00:00",
          "xref": "x3",
          "y0": 0,
          "y1": 1,
          "yref": "y3 domain"
         },
         {
          "fillcolor": "Green",
          "layer": "below",
          "line": {
           "width": 0
          },
          "opacity": 0.3,
          "type": "rect",
          "x0": "2024-06-01T06:00:00",
          "x1": "2024-06-01T06:15:00",
          "xref": "x3",
          "y0": 0,
          "y1": 1,
          "yref": "y3 domain"
         },
         {
          "fillcolor": "Red",
          "layer": "below",
          "line": {
           "width": 0
          },
          "opacity": 0.3,
          "type": "rect",
          "x0": "2024-06-01T06:30:00",
          "x1": "2024-06-01T06:45:00",
          "xref": "x3",
          "y0": 0,
          "y1": 1,
          "yref": "y3 domain"
         },
         {
          "fillcolor": "Red",
          "layer": "below",
          "line": {
           "width": 0
          },
          "opacity": 0.3,
          "type": "rect",
          "x0": "2024-06-01T07:00:00",
          "x1": "2024-06-01T07:15:00",
          "xref": "x3",
          "y0": 0,
          "y1": 1,
          "yref": "y3 domain"
         },
         {
          "fillcolor": "Red",
          "layer": "below",
          "line": {
           "width": 0
          },
          "opacity": 0.3,
          "type": "rect",
          "x0": "2024-06-01T07:15:00",
          "x1": "2024-06-01T07:30:00",
          "xref": "x3",
          "y0": 0,
          "y1": 1,
          "yref": "y3 domain"
         },
         {
          "fillcolor": "Red",
          "layer": "below",
          "line": {
           "width": 0
          },
          "opacity": 0.3,
          "type": "rect",
          "x0": "2024-06-01T07:30:00",
          "x1": "2024-06-01T07:45:00",
          "xref": "x3",
          "y0": 0,
          "y1": 1,
          "yref": "y3 domain"
         },
         {
          "fillcolor": "Red",
          "layer": "below",
          "line": {
           "width": 0
          },
          "opacity": 0.3,
          "type": "rect",
          "x0": "2024-06-01T07:45:00",
          "x1": "2024-06-01T08:00:00",
          "xref": "x3",
          "y0": 0,
          "y1": 1,
          "yref": "y3 domain"
         },
         {
          "fillcolor": "Red",
          "layer": "below",
          "line": {
           "width": 0
          },
          "opacity": 0.3,
          "type": "rect",
          "x0": "2024-06-01T08:00:00",
          "x1": "2024-06-01T08:15:00",
          "xref": "x3",
          "y0": 0,
          "y1": 1,
          "yref": "y3 domain"
         },
         {
          "fillcolor": "Red",
          "layer": "below",
          "line": {
           "width": 0
          },
          "opacity": 0.3,
          "type": "rect",
          "x0": "2024-06-01T08:15:00",
          "x1": "2024-06-01T08:30:00",
          "xref": "x3",
          "y0": 0,
          "y1": 1,
          "yref": "y3 domain"
         },
         {
          "fillcolor": "Red",
          "layer": "below",
          "line": {
           "width": 0
          },
          "opacity": 0.3,
          "type": "rect",
          "x0": "2024-06-01T09:00:00",
          "x1": "2024-06-01T09:15:00",
          "xref": "x3",
          "y0": 0,
          "y1": 1,
          "yref": "y3 domain"
         },
         {
          "fillcolor": "Green",
          "layer": "below",
          "line": {
           "width": 0
          },
          "opacity": 0.3,
          "type": "rect",
          "x0": "2024-06-01T09:45:00",
          "x1": "2024-06-01T10:00:00",
          "xref": "x3",
          "y0": 0,
          "y1": 1,
          "yref": "y3 domain"
         },
         {
          "fillcolor": "Red",
          "layer": "below",
          "line": {
           "width": 0
          },
          "opacity": 0.27075,
          "type": "rect",
          "x0": "2024-06-01T10:00:00",
          "x1": "2024-06-01T10:15:00",
          "xref": "x3",
          "y0": 0,
          "y1": 1,
          "yref": "y3 domain"
         },
         {
          "fillcolor": "Green",
          "layer": "below",
          "line": {
           "width": 0
          },
          "opacity": 0.3,
          "type": "rect",
          "x0": "2024-06-01T10:30:00",
          "x1": "2024-06-01T10:45:00",
          "xref": "x3",
          "y0": 0,
          "y1": 1,
          "yref": "y3 domain"
         },
         {
          "fillcolor": "Green",
          "layer": "below",
          "line": {
           "width": 0
          },
          "opacity": 0.3,
          "type": "rect",
          "x0": "2024-06-01T10:45:00",
          "x1": "2024-06-01T11:00:00",
          "xref": "x3",
          "y0": 0,
          "y1": 1,
          "yref": "y3 domain"
         },
         {
          "fillcolor": "Green",
          "layer": "below",
          "line": {
           "width": 0
          },
          "opacity": 0.3,
          "type": "rect",
          "x0": "2024-06-01T11:00:00",
          "x1": "2024-06-01T11:15:00",
          "xref": "x3",
          "y0": 0,
          "y1": 1,
          "yref": "y3 domain"
         },
         {
          "fillcolor": "Green",
          "layer": "below",
          "line": {
           "width": 0
          },
          "opacity": 0.3,
          "type": "rect",
          "x0": "2024-06-01T11:45:00",
          "x1": "2024-06-01T12:00:00",
          "xref": "x3",
          "y0": 0,
          "y1": 1,
          "yref": "y3 domain"
         },
         {
          "fillcolor": "Green",
          "layer": "below",
          "line": {
           "width": 0
          },
          "opacity": 0.3,
          "type": "rect",
          "x0": "2024-06-01T12:00:00",
          "x1": "2024-06-01T12:15:00",
          "xref": "x3",
          "y0": 0,
          "y1": 1,
          "yref": "y3 domain"
         },
         {
          "fillcolor": "Green",
          "layer": "below",
          "line": {
           "width": 0
          },
          "opacity": 0.3,
          "type": "rect",
          "x0": "2024-06-01T12:45:00",
          "x1": "2024-06-01T13:00:00",
          "xref": "x3",
          "y0": 0,
          "y1": 1,
          "yref": "y3 domain"
         },
         {
          "fillcolor": "Red",
          "layer": "below",
          "line": {
           "width": 0
          },
          "opacity": 0.3,
          "type": "rect",
          "x0": "2024-06-01T13:00:00",
          "x1": "2024-06-01T13:15:00",
          "xref": "x3",
          "y0": 0,
          "y1": 1,
          "yref": "y3 domain"
         },
         {
          "fillcolor": "Green",
          "layer": "below",
          "line": {
           "width": 0
          },
          "opacity": 0.3,
          "type": "rect",
          "x0": "2024-06-01T13:15:00",
          "x1": "2024-06-01T13:30:00",
          "xref": "x3",
          "y0": 0,
          "y1": 1,
          "yref": "y3 domain"
         },
         {
          "fillcolor": "Green",
          "layer": "below",
          "line": {
           "width": 0
          },
          "opacity": 0.3,
          "type": "rect",
          "x0": "2024-06-01T13:30:00",
          "x1": "2024-06-01T13:45:00",
          "xref": "x3",
          "y0": 0,
          "y1": 1,
          "yref": "y3 domain"
         },
         {
          "fillcolor": "Green",
          "layer": "below",
          "line": {
           "width": 0
          },
          "opacity": 0.3,
          "type": "rect",
          "x0": "2024-06-01T13:45:00",
          "x1": "2024-06-01T14:00:00",
          "xref": "x3",
          "y0": 0,
          "y1": 1,
          "yref": "y3 domain"
         },
         {
          "fillcolor": "Green",
          "layer": "below",
          "line": {
           "width": 0
          },
          "opacity": 0.3,
          "type": "rect",
          "x0": "2024-06-01T14:00:00",
          "x1": "2024-06-01T14:15:00",
          "xref": "x3",
          "y0": 0,
          "y1": 1,
          "yref": "y3 domain"
         },
         {
          "fillcolor": "Green",
          "layer": "below",
          "line": {
           "width": 0
          },
          "opacity": 0.10188365399999999,
          "type": "rect",
          "x0": "2024-06-01T14:30:00",
          "x1": "2024-06-01T14:45:00",
          "xref": "x3",
          "y0": 0,
          "y1": 1,
          "yref": "y3 domain"
         },
         {
          "fillcolor": "Green",
          "layer": "below",
          "line": {
           "width": 0
          },
          "opacity": 0.3,
          "type": "rect",
          "x0": "2024-06-01T14:45:00",
          "x1": "2024-06-01T15:00:00",
          "xref": "x3",
          "y0": 0,
          "y1": 1,
          "yref": "y3 domain"
         },
         {
          "fillcolor": "Red",
          "layer": "below",
          "line": {
           "width": 0
          },
          "opacity": 0.27075,
          "type": "rect",
          "x0": "2024-06-01T15:00:00",
          "x1": "2024-06-01T15:15:00",
          "xref": "x3",
          "y0": 0,
          "y1": 1,
          "yref": "y3 domain"
         },
         {
          "fillcolor": "Green",
          "layer": "below",
          "line": {
           "width": 0
          },
          "opacity": 0.3,
          "type": "rect",
          "x0": "2024-06-01T15:15:00",
          "x1": "2024-06-01T15:30:00",
          "xref": "x3",
          "y0": 0,
          "y1": 1,
          "yref": "y3 domain"
         },
         {
          "fillcolor": "Red",
          "layer": "below",
          "line": {
           "width": 0
          },
          "opacity": 0.3,
          "type": "rect",
          "x0": "2024-06-01T15:30:00",
          "x1": "2024-06-01T15:45:00",
          "xref": "x3",
          "y0": 0,
          "y1": 1,
          "yref": "y3 domain"
         },
         {
          "fillcolor": "Green",
          "layer": "below",
          "line": {
           "width": 0
          },
          "opacity": 0.3,
          "type": "rect",
          "x0": "2024-06-01T15:45:00",
          "x1": "2024-06-01T16:00:00",
          "xref": "x3",
          "y0": 0,
          "y1": 1,
          "yref": "y3 domain"
         },
         {
          "fillcolor": "Green",
          "layer": "below",
          "line": {
           "width": 0
          },
          "opacity": 0.032409972,
          "type": "rect",
          "x0": "2024-06-01T16:00:00",
          "x1": "2024-06-01T16:15:00",
          "xref": "x3",
          "y0": 0,
          "y1": 1,
          "yref": "y3 domain"
         },
         {
          "fillcolor": "Red",
          "layer": "below",
          "line": {
           "width": 0
          },
          "opacity": 0.3,
          "type": "rect",
          "x0": "2024-06-01T16:45:00",
          "x1": "2024-06-01T17:00:00",
          "xref": "x3",
          "y0": 0,
          "y1": 1,
          "yref": "y3 domain"
         },
         {
          "fillcolor": "Green",
          "layer": "below",
          "line": {
           "width": 0
          },
          "opacity": 0.032409972,
          "type": "rect",
          "x0": "2024-06-01T17:00:00",
          "x1": "2024-06-01T17:15:00",
          "xref": "x3",
          "y0": 0,
          "y1": 1,
          "yref": "y3 domain"
         },
         {
          "fillcolor": "Green",
          "layer": "below",
          "line": {
           "width": 0
          },
          "opacity": 0.3,
          "type": "rect",
          "x0": "2024-06-01T17:45:00",
          "x1": "2024-06-01T18:00:00",
          "xref": "x3",
          "y0": 0,
          "y1": 1,
          "yref": "y3 domain"
         },
         {
          "fillcolor": "Red",
          "layer": "below",
          "line": {
           "width": 0
          },
          "opacity": 0.3,
          "type": "rect",
          "x0": "2024-06-01T18:00:00",
          "x1": "2024-06-01T18:15:00",
          "xref": "x3",
          "y0": 0,
          "y1": 1,
          "yref": "y3 domain"
         },
         {
          "fillcolor": "Red",
          "layer": "below",
          "line": {
           "width": 0
          },
          "opacity": 0.3,
          "type": "rect",
          "x0": "2024-06-01T18:15:00",
          "x1": "2024-06-01T18:30:00",
          "xref": "x3",
          "y0": 0,
          "y1": 1,
          "yref": "y3 domain"
         },
         {
          "fillcolor": "Red",
          "layer": "below",
          "line": {
           "width": 0
          },
          "opacity": 0.3,
          "type": "rect",
          "x0": "2024-06-01T18:30:00",
          "x1": "2024-06-01T18:45:00",
          "xref": "x3",
          "y0": 0,
          "y1": 1,
          "yref": "y3 domain"
         },
         {
          "fillcolor": "Red",
          "layer": "below",
          "line": {
           "width": 0
          },
          "opacity": 0.3,
          "type": "rect",
          "x0": "2024-06-01T18:45:00",
          "x1": "2024-06-01T19:00:00",
          "xref": "x3",
          "y0": 0,
          "y1": 1,
          "yref": "y3 domain"
         },
         {
          "fillcolor": "Red",
          "layer": "below",
          "line": {
           "width": 0
          },
          "opacity": 0.3,
          "type": "rect",
          "x0": "2024-06-01T19:15:00",
          "x1": "2024-06-01T19:30:00",
          "xref": "x3",
          "y0": 0,
          "y1": 1,
          "yref": "y3 domain"
         },
         {
          "fillcolor": "Red",
          "layer": "below",
          "line": {
           "width": 0
          },
          "opacity": 0.3,
          "type": "rect",
          "x0": "2024-06-01T19:30:00",
          "x1": "2024-06-01T19:45:00",
          "xref": "x3",
          "y0": 0,
          "y1": 1,
          "yref": "y3 domain"
         },
         {
          "fillcolor": "Red",
          "layer": "below",
          "line": {
           "width": 0
          },
          "opacity": 0.3,
          "type": "rect",
          "x0": "2024-06-01T19:45:00",
          "x1": "2024-06-01T20:00:00",
          "xref": "x3",
          "y0": 0,
          "y1": 1,
          "yref": "y3 domain"
         },
         {
          "fillcolor": "Green",
          "layer": "below",
          "line": {
           "width": 0
          },
          "opacity": 0.254626038,
          "type": "rect",
          "x0": "2024-06-01T20:00:00",
          "x1": "2024-06-01T20:15:00",
          "xref": "x3",
          "y0": 0,
          "y1": 1,
          "yref": "y3 domain"
         },
         {
          "fillcolor": "Red",
          "layer": "below",
          "line": {
           "width": 0
          },
          "opacity": 0.3,
          "type": "rect",
          "x0": "2024-06-01T20:45:00",
          "x1": "2024-06-01T21:00:00",
          "xref": "x3",
          "y0": 0,
          "y1": 1,
          "yref": "y3 domain"
         },
         {
          "fillcolor": "Red",
          "layer": "below",
          "line": {
           "width": 0
          },
          "opacity": 0.3,
          "type": "rect",
          "x0": "2024-06-01T21:00:00",
          "x1": "2024-06-01T21:15:00",
          "xref": "x3",
          "y0": 0,
          "y1": 1,
          "yref": "y3 domain"
         },
         {
          "fillcolor": "Red",
          "layer": "below",
          "line": {
           "width": 0
          },
          "opacity": 0.3,
          "type": "rect",
          "x0": "2024-06-01T21:15:00",
          "x1": "2024-06-01T21:30:00",
          "xref": "x3",
          "y0": 0,
          "y1": 1,
          "yref": "y3 domain"
         },
         {
          "fillcolor": "Green",
          "layer": "below",
          "line": {
           "width": 0
          },
          "opacity": 0.3,
          "type": "rect",
          "x0": "2024-06-01T21:30:00",
          "x1": "2024-06-01T21:45:00",
          "xref": "x3",
          "y0": 0,
          "y1": 1,
          "yref": "y3 domain"
         },
         {
          "fillcolor": "Red",
          "layer": "below",
          "line": {
           "width": 0
          },
          "opacity": 0.27075,
          "type": "rect",
          "x0": "2024-06-01T21:45:00",
          "x1": "2024-06-01T22:00:00",
          "xref": "x3",
          "y0": 0,
          "y1": 1,
          "yref": "y3 domain"
         },
         {
          "fillcolor": "Green",
          "layer": "below",
          "line": {
           "width": 0
          },
          "opacity": 0.3,
          "type": "rect",
          "x0": "2024-06-01T22:00:00",
          "x1": "2024-06-01T22:15:00",
          "xref": "x3",
          "y0": 0,
          "y1": 1,
          "yref": "y3 domain"
         },
         {
          "fillcolor": "Green",
          "layer": "below",
          "line": {
           "width": 0
          },
          "opacity": 0.3,
          "type": "rect",
          "x0": "2024-06-01T22:30:00",
          "x1": "2024-06-01T22:45:00",
          "xref": "x3",
          "y0": 0,
          "y1": 1,
          "yref": "y3 domain"
         },
         {
          "fillcolor": "Green",
          "layer": "below",
          "line": {
           "width": 0
          },
          "opacity": 0.3,
          "type": "rect",
          "x0": "2024-06-01T22:45:00",
          "x1": "2024-06-01T23:00:00",
          "xref": "x3",
          "y0": 0,
          "y1": 1,
          "yref": "y3 domain"
         },
         {
          "fillcolor": "Red",
          "layer": "below",
          "line": {
           "width": 0
          },
          "opacity": 0.3,
          "type": "rect",
          "x0": "2024-06-01T23:00:00",
          "x1": "2024-06-01T23:15:00",
          "xref": "x3",
          "y0": 0,
          "y1": 1,
          "yref": "y3 domain"
         },
         {
          "fillcolor": "Red",
          "layer": "below",
          "line": {
           "width": 0
          },
          "opacity": 0.15374999999999997,
          "type": "rect",
          "x0": "2024-06-01T23:30:00",
          "x1": "2024-06-01T23:45:00",
          "xref": "x3",
          "y0": 0,
          "y1": 1,
          "yref": "y3 domain"
         },
         {
          "fillcolor": "Green",
          "layer": "below",
          "line": {
           "width": 0
          },
          "opacity": 0.3,
          "type": "rect",
          "x0": "2024-06-01T23:45:00",
          "x1": "2024-06-02T00:00:00",
          "xref": "x3",
          "y0": 0,
          "y1": 1,
          "yref": "y3 domain"
         },
         {
          "fillcolor": "Red",
          "layer": "below",
          "line": {
           "width": 0
          },
          "opacity": 0.3,
          "type": "rect",
          "x0": "2024-06-02T00:00:00",
          "x1": "2024-06-02T00:15:00",
          "xref": "x3",
          "y0": 0,
          "y1": 1,
          "yref": "y3 domain"
         },
         {
          "fillcolor": "Green",
          "layer": "below",
          "line": {
           "width": 0
          },
          "opacity": 0.3,
          "type": "rect",
          "x0": "2024-06-02T00:15:00",
          "x1": "2024-06-02T00:30:00",
          "xref": "x3",
          "y0": 0,
          "y1": 1,
          "yref": "y3 domain"
         },
         {
          "fillcolor": "Red",
          "layer": "below",
          "line": {
           "width": 0
          },
          "opacity": 0.3,
          "type": "rect",
          "x0": "2024-06-02T00:30:00",
          "x1": "2024-06-02T00:45:00",
          "xref": "x3",
          "y0": 0,
          "y1": 1,
          "yref": "y3 domain"
         },
         {
          "fillcolor": "Red",
          "layer": "below",
          "line": {
           "width": 0
          },
          "opacity": 0.3,
          "type": "rect",
          "x0": "2024-06-02T00:45:00",
          "x1": "2024-06-02T01:00:00",
          "xref": "x3",
          "y0": 0,
          "y1": 1,
          "yref": "y3 domain"
         },
         {
          "fillcolor": "Green",
          "layer": "below",
          "line": {
           "width": 0
          },
          "opacity": 0.3,
          "type": "rect",
          "x0": "2024-06-02T01:30:00",
          "x1": "2024-06-02T01:45:00",
          "xref": "x3",
          "y0": 0,
          "y1": 1,
          "yref": "y3 domain"
         },
         {
          "fillcolor": "Green",
          "layer": "below",
          "line": {
           "width": 0
          },
          "opacity": 0.3,
          "type": "rect",
          "x0": "2024-06-02T01:45:00",
          "x1": "2024-06-02T02:00:00",
          "xref": "x3",
          "y0": 0,
          "y1": 1,
          "yref": "y3 domain"
         },
         {
          "fillcolor": "Green",
          "layer": "below",
          "line": {
           "width": 0
          },
          "opacity": 0.3,
          "type": "rect",
          "x0": "2024-06-02T02:30:00",
          "x1": "2024-06-02T02:45:00",
          "xref": "x3",
          "y0": 0,
          "y1": 1,
          "yref": "y3 domain"
         },
         {
          "fillcolor": "Green",
          "layer": "below",
          "line": {
           "width": 0
          },
          "opacity": 0.3,
          "type": "rect",
          "x0": "2024-06-02T02:45:00",
          "x1": "2024-06-02T03:00:00",
          "xref": "x3",
          "y0": 0,
          "y1": 1,
          "yref": "y3 domain"
         },
         {
          "fillcolor": "Green",
          "layer": "below",
          "line": {
           "width": 0
          },
          "opacity": 0.3,
          "type": "rect",
          "x0": "2024-06-02T03:00:00",
          "x1": "2024-06-02T03:15:00",
          "xref": "x3",
          "y0": 0,
          "y1": 1,
          "yref": "y3 domain"
         },
         {
          "fillcolor": "Green",
          "layer": "below",
          "line": {
           "width": 0
          },
          "opacity": 0.3,
          "type": "rect",
          "x0": "2024-06-02T03:15:00",
          "x1": "2024-06-02T03:30:00",
          "xref": "x3",
          "y0": 0,
          "y1": 1,
          "yref": "y3 domain"
         },
         {
          "fillcolor": "Red",
          "layer": "below",
          "line": {
           "width": 0
          },
          "opacity": 0.3,
          "type": "rect",
          "x0": "2024-06-02T03:30:00",
          "x1": "2024-06-02T03:45:00",
          "xref": "x3",
          "y0": 0,
          "y1": 1,
          "yref": "y3 domain"
         },
         {
          "fillcolor": "Green",
          "layer": "below",
          "line": {
           "width": 0
          },
          "opacity": 0.3,
          "type": "rect",
          "x0": "2024-06-02T03:45:00",
          "x1": "2024-06-02T04:00:00",
          "xref": "x3",
          "y0": 0,
          "y1": 1,
          "yref": "y3 domain"
         },
         {
          "fillcolor": "Green",
          "layer": "below",
          "line": {
           "width": 0
          },
          "opacity": 0.3,
          "type": "rect",
          "x0": "2024-06-02T04:00:00",
          "x1": "2024-06-02T04:15:00",
          "xref": "x3",
          "y0": 0,
          "y1": 1,
          "yref": "y3 domain"
         },
         {
          "fillcolor": "Red",
          "layer": "below",
          "line": {
           "width": 0
          },
          "opacity": 0.3,
          "type": "rect",
          "x0": "2024-06-02T04:15:00",
          "x1": "2024-06-02T04:30:00",
          "xref": "x3",
          "y0": 0,
          "y1": 1,
          "yref": "y3 domain"
         },
         {
          "fillcolor": "Green",
          "layer": "below",
          "line": {
           "width": 0
          },
          "opacity": 0.3,
          "type": "rect",
          "x0": "2024-06-02T04:30:00",
          "x1": "2024-06-02T04:45:00",
          "xref": "x3",
          "y0": 0,
          "y1": 1,
          "yref": "y3 domain"
         },
         {
          "fillcolor": "Green",
          "layer": "below",
          "line": {
           "width": 0
          },
          "opacity": 0.3,
          "type": "rect",
          "x0": "2024-06-02T04:45:00",
          "x1": "2024-06-02T05:00:00",
          "xref": "x3",
          "y0": 0,
          "y1": 1,
          "yref": "y3 domain"
         },
         {
          "fillcolor": "Red",
          "layer": "below",
          "line": {
           "width": 0
          },
          "opacity": 0.3,
          "type": "rect",
          "x0": "2024-06-02T05:00:00",
          "x1": "2024-06-02T05:15:00",
          "xref": "x3",
          "y0": 0,
          "y1": 1,
          "yref": "y3 domain"
         },
         {
          "fillcolor": "Green",
          "layer": "below",
          "line": {
           "width": 0
          },
          "opacity": 0.3,
          "type": "rect",
          "x0": "2024-06-02T05:15:00",
          "x1": "2024-06-02T05:30:00",
          "xref": "x3",
          "y0": 0,
          "y1": 1,
          "yref": "y3 domain"
         },
         {
          "fillcolor": "Green",
          "layer": "below",
          "line": {
           "width": 0
          },
          "opacity": 0.3,
          "type": "rect",
          "x0": "2024-06-02T05:30:00",
          "x1": "2024-06-02T05:45:00",
          "xref": "x3",
          "y0": 0,
          "y1": 1,
          "yref": "y3 domain"
         },
         {
          "fillcolor": "Green",
          "layer": "below",
          "line": {
           "width": 0
          },
          "opacity": 0.3,
          "type": "rect",
          "x0": "2024-06-02T05:45:00",
          "x1": "2024-06-02T06:00:00",
          "xref": "x3",
          "y0": 0,
          "y1": 1,
          "yref": "y3 domain"
         },
         {
          "fillcolor": "Red",
          "layer": "below",
          "line": {
           "width": 0
          },
          "opacity": 0.3,
          "type": "rect",
          "x0": "2024-06-02T06:30:00",
          "x1": "2024-06-02T06:45:00",
          "xref": "x3",
          "y0": 0,
          "y1": 1,
          "yref": "y3 domain"
         },
         {
          "fillcolor": "Red",
          "layer": "below",
          "line": {
           "width": 0
          },
          "opacity": 0.3,
          "type": "rect",
          "x0": "2024-06-02T07:00:00",
          "x1": "2024-06-02T07:15:00",
          "xref": "x3",
          "y0": 0,
          "y1": 1,
          "yref": "y3 domain"
         },
         {
          "fillcolor": "Red",
          "layer": "below",
          "line": {
           "width": 0
          },
          "opacity": 0.3,
          "type": "rect",
          "x0": "2024-06-02T07:30:00",
          "x1": "2024-06-02T07:45:00",
          "xref": "x3",
          "y0": 0,
          "y1": 1,
          "yref": "y3 domain"
         },
         {
          "fillcolor": "Red",
          "layer": "below",
          "line": {
           "width": 0
          },
          "opacity": 0.3,
          "type": "rect",
          "x0": "2024-06-02T07:45:00",
          "x1": "2024-06-02T08:00:00",
          "xref": "x3",
          "y0": 0,
          "y1": 1,
          "yref": "y3 domain"
         },
         {
          "fillcolor": "Red",
          "layer": "below",
          "line": {
           "width": 0
          },
          "opacity": 0.3,
          "type": "rect",
          "x0": "2024-06-02T08:00:00",
          "x1": "2024-06-02T08:15:00",
          "xref": "x3",
          "y0": 0,
          "y1": 1,
          "yref": "y3 domain"
         },
         {
          "fillcolor": "Red",
          "layer": "below",
          "line": {
           "width": 0
          },
          "opacity": 0.3,
          "type": "rect",
          "x0": "2024-06-02T08:15:00",
          "x1": "2024-06-02T08:30:00",
          "xref": "x3",
          "y0": 0,
          "y1": 1,
          "yref": "y3 domain"
         },
         {
          "fillcolor": "Red",
          "layer": "below",
          "line": {
           "width": 0
          },
          "opacity": 0.21975,
          "type": "rect",
          "x0": "2024-06-02T08:30:00",
          "x1": "2024-06-02T08:45:00",
          "xref": "x3",
          "y0": 0,
          "y1": 1,
          "yref": "y3 domain"
         },
         {
          "fillcolor": "Red",
          "layer": "below",
          "line": {
           "width": 0
          },
          "opacity": 0.3,
          "type": "rect",
          "x0": "2024-06-02T08:45:00",
          "x1": "2024-06-02T09:00:00",
          "xref": "x3",
          "y0": 0,
          "y1": 1,
          "yref": "y3 domain"
         },
         {
          "fillcolor": "Red",
          "layer": "below",
          "line": {
           "width": 0
          },
          "opacity": 0.3,
          "type": "rect",
          "x0": "2024-06-02T09:00:00",
          "x1": "2024-06-02T09:15:00",
          "xref": "x3",
          "y0": 0,
          "y1": 1,
          "yref": "y3 domain"
         },
         {
          "fillcolor": "Green",
          "layer": "below",
          "line": {
           "width": 0
          },
          "opacity": 0.3,
          "type": "rect",
          "x0": "2024-06-02T09:15:00",
          "x1": "2024-06-02T09:30:00",
          "xref": "x3",
          "y0": 0,
          "y1": 1,
          "yref": "y3 domain"
         },
         {
          "fillcolor": "Red",
          "layer": "below",
          "line": {
           "width": 0
          },
          "opacity": 0.27075,
          "type": "rect",
          "x0": "2024-06-02T09:30:00",
          "x1": "2024-06-02T09:45:00",
          "xref": "x3",
          "y0": 0,
          "y1": 1,
          "yref": "y3 domain"
         },
         {
          "fillcolor": "Green",
          "layer": "below",
          "line": {
           "width": 0
          },
          "opacity": 0.3,
          "type": "rect",
          "x0": "2024-06-02T09:45:00",
          "x1": "2024-06-02T10:00:00",
          "xref": "x3",
          "y0": 0,
          "y1": 1,
          "yref": "y3 domain"
         },
         {
          "fillcolor": "Red",
          "layer": "below",
          "line": {
           "width": 0
          },
          "opacity": 0.27075,
          "type": "rect",
          "x0": "2024-06-02T10:00:00",
          "x1": "2024-06-02T10:15:00",
          "xref": "x3",
          "y0": 0,
          "y1": 1,
          "yref": "y3 domain"
         },
         {
          "fillcolor": "Green",
          "layer": "below",
          "line": {
           "width": 0
          },
          "opacity": 0.3,
          "type": "rect",
          "x0": "2024-06-02T10:30:00",
          "x1": "2024-06-02T10:45:00",
          "xref": "x3",
          "y0": 0,
          "y1": 1,
          "yref": "y3 domain"
         },
         {
          "fillcolor": "Green",
          "layer": "below",
          "line": {
           "width": 0
          },
          "opacity": 0.3,
          "type": "rect",
          "x0": "2024-06-02T11:00:00",
          "x1": "2024-06-02T11:15:00",
          "xref": "x3",
          "y0": 0,
          "y1": 1,
          "yref": "y3 domain"
         },
         {
          "fillcolor": "Green",
          "layer": "below",
          "line": {
           "width": 0
          },
          "opacity": 0.3,
          "type": "rect",
          "x0": "2024-06-02T11:15:00",
          "x1": "2024-06-02T11:30:00",
          "xref": "x3",
          "y0": 0,
          "y1": 1,
          "yref": "y3 domain"
         },
         {
          "fillcolor": "Green",
          "layer": "below",
          "line": {
           "width": 0
          },
          "opacity": 0.3,
          "type": "rect",
          "x0": "2024-06-02T11:30:00",
          "x1": "2024-06-02T11:45:00",
          "xref": "x3",
          "y0": 0,
          "y1": 1,
          "yref": "y3 domain"
         },
         {
          "fillcolor": "Green",
          "layer": "below",
          "line": {
           "width": 0
          },
          "opacity": 0.3,
          "type": "rect",
          "x0": "2024-06-02T11:45:00",
          "x1": "2024-06-02T12:00:00",
          "xref": "x3",
          "y0": 0,
          "y1": 1,
          "yref": "y3 domain"
         },
         {
          "fillcolor": "Green",
          "layer": "below",
          "line": {
           "width": 0
          },
          "opacity": 0.3,
          "type": "rect",
          "x0": "2024-06-02T12:00:00",
          "x1": "2024-06-02T12:15:00",
          "xref": "x3",
          "y0": 0,
          "y1": 1,
          "yref": "y3 domain"
         },
         {
          "fillcolor": "Green",
          "layer": "below",
          "line": {
           "width": 0
          },
          "opacity": 0.3,
          "type": "rect",
          "x0": "2024-06-02T12:15:00",
          "x1": "2024-06-02T12:30:00",
          "xref": "x3",
          "y0": 0,
          "y1": 1,
          "yref": "y3 domain"
         },
         {
          "fillcolor": "Red",
          "layer": "below",
          "line": {
           "width": 0
          },
          "opacity": 0.3,
          "type": "rect",
          "x0": "2024-06-02T12:30:00",
          "x1": "2024-06-02T12:45:00",
          "xref": "x3",
          "y0": 0,
          "y1": 1,
          "yref": "y3 domain"
         },
         {
          "fillcolor": "Green",
          "layer": "below",
          "line": {
           "width": 0
          },
          "opacity": 0.3,
          "type": "rect",
          "x0": "2024-06-02T12:45:00",
          "x1": "2024-06-02T13:00:00",
          "xref": "x3",
          "y0": 0,
          "y1": 1,
          "yref": "y3 domain"
         },
         {
          "fillcolor": "Green",
          "layer": "below",
          "line": {
           "width": 0
          },
          "opacity": 0.3,
          "type": "rect",
          "x0": "2024-06-02T13:00:00",
          "x1": "2024-06-02T13:15:00",
          "xref": "x3",
          "y0": 0,
          "y1": 1,
          "yref": "y3 domain"
         },
         {
          "fillcolor": "Green",
          "layer": "below",
          "line": {
           "width": 0
          },
          "opacity": 0.3,
          "type": "rect",
          "x0": "2024-06-02T13:15:00",
          "x1": "2024-06-02T13:30:00",
          "xref": "x3",
          "y0": 0,
          "y1": 1,
          "yref": "y3 domain"
         },
         {
          "fillcolor": "Green",
          "layer": "below",
          "line": {
           "width": 0
          },
          "opacity": 0.10188365399999999,
          "type": "rect",
          "x0": "2024-06-02T13:30:00",
          "x1": "2024-06-02T13:45:00",
          "xref": "x3",
          "y0": 0,
          "y1": 1,
          "yref": "y3 domain"
         },
         {
          "fillcolor": "Green",
          "layer": "below",
          "line": {
           "width": 0
          },
          "opacity": 0.3,
          "type": "rect",
          "x0": "2024-06-02T13:45:00",
          "x1": "2024-06-02T14:00:00",
          "xref": "x3",
          "y0": 0,
          "y1": 1,
          "yref": "y3 domain"
         },
         {
          "fillcolor": "Red",
          "layer": "below",
          "line": {
           "width": 0
          },
          "opacity": 0.2415,
          "type": "rect",
          "x0": "2024-06-02T14:15:00",
          "x1": "2024-06-02T14:30:00",
          "xref": "x3",
          "y0": 0,
          "y1": 1,
          "yref": "y3 domain"
         },
         {
          "fillcolor": "Red",
          "layer": "below",
          "line": {
           "width": 0
          },
          "opacity": 0.3,
          "type": "rect",
          "x0": "2024-06-02T14:30:00",
          "x1": "2024-06-02T14:45:00",
          "xref": "x3",
          "y0": 0,
          "y1": 1,
          "yref": "y3 domain"
         },
         {
          "fillcolor": "Green",
          "layer": "below",
          "line": {
           "width": 0
          },
          "opacity": 0.3,
          "type": "rect",
          "x0": "2024-06-02T15:15:00",
          "x1": "2024-06-02T15:30:00",
          "xref": "x3",
          "y0": 0,
          "y1": 1,
          "yref": "y3 domain"
         },
         {
          "fillcolor": "Green",
          "layer": "below",
          "line": {
           "width": 0
          },
          "opacity": 0.3,
          "type": "rect",
          "x0": "2024-06-02T15:30:00",
          "x1": "2024-06-02T15:45:00",
          "xref": "x3",
          "y0": 0,
          "y1": 1,
          "yref": "y3 domain"
         },
         {
          "fillcolor": "Red",
          "layer": "below",
          "line": {
           "width": 0
          },
          "opacity": 0.27075,
          "type": "rect",
          "x0": "2024-06-02T15:45:00",
          "x1": "2024-06-02T16:00:00",
          "xref": "x3",
          "y0": 0,
          "y1": 1,
          "yref": "y3 domain"
         },
         {
          "fillcolor": "Green",
          "layer": "below",
          "line": {
           "width": 0
          },
          "opacity": 0.3,
          "type": "rect",
          "x0": "2024-06-02T16:15:00",
          "x1": "2024-06-02T16:30:00",
          "xref": "x3",
          "y0": 0,
          "y1": 1,
          "yref": "y3 domain"
         },
         {
          "fillcolor": "Red",
          "layer": "below",
          "line": {
           "width": 0
          },
          "opacity": 0.27075,
          "type": "rect",
          "x0": "2024-06-02T16:30:00",
          "x1": "2024-06-02T16:45:00",
          "xref": "x3",
          "y0": 0,
          "y1": 1,
          "yref": "y3 domain"
         },
         {
          "fillcolor": "Green",
          "layer": "below",
          "line": {
           "width": 0
          },
          "opacity": 0.3,
          "type": "rect",
          "x0": "2024-06-02T17:00:00",
          "x1": "2024-06-02T17:15:00",
          "xref": "x3",
          "y0": 0,
          "y1": 1,
          "yref": "y3 domain"
         },
         {
          "fillcolor": "Red",
          "layer": "below",
          "line": {
           "width": 0
          },
          "opacity": 0.3,
          "type": "rect",
          "x0": "2024-06-02T17:15:00",
          "x1": "2024-06-02T17:30:00",
          "xref": "x3",
          "y0": 0,
          "y1": 1,
          "yref": "y3 domain"
         },
         {
          "fillcolor": "Green",
          "layer": "below",
          "line": {
           "width": 0
          },
          "opacity": 0.032409972,
          "type": "rect",
          "x0": "2024-06-02T17:45:00",
          "x1": "2024-06-02T18:00:00",
          "xref": "x3",
          "y0": 0,
          "y1": 1,
          "yref": "y3 domain"
         },
         {
          "fillcolor": "Green",
          "layer": "below",
          "line": {
           "width": 0
          },
          "opacity": 0.3,
          "type": "rect",
          "x0": "2024-06-02T18:00:00",
          "x1": "2024-06-02T18:15:00",
          "xref": "x3",
          "y0": 0,
          "y1": 1,
          "yref": "y3 domain"
         },
         {
          "fillcolor": "Red",
          "layer": "below",
          "line": {
           "width": 0
          },
          "opacity": 0.3,
          "type": "rect",
          "x0": "2024-06-02T18:15:00",
          "x1": "2024-06-02T18:30:00",
          "xref": "x3",
          "y0": 0,
          "y1": 1,
          "yref": "y3 domain"
         },
         {
          "fillcolor": "Red",
          "layer": "below",
          "line": {
           "width": 0
          },
          "opacity": 0.3,
          "type": "rect",
          "x0": "2024-06-02T18:45:00",
          "x1": "2024-06-02T19:00:00",
          "xref": "x3",
          "y0": 0,
          "y1": 1,
          "yref": "y3 domain"
         },
         {
          "fillcolor": "Red",
          "layer": "below",
          "line": {
           "width": 0
          },
          "opacity": 0.3,
          "type": "rect",
          "x0": "2024-06-02T19:00:00",
          "x1": "2024-06-02T19:15:00",
          "xref": "x3",
          "y0": 0,
          "y1": 1,
          "yref": "y3 domain"
         },
         {
          "fillcolor": "Red",
          "layer": "below",
          "line": {
           "width": 0
          },
          "opacity": 0.3,
          "type": "rect",
          "x0": "2024-06-02T19:15:00",
          "x1": "2024-06-02T19:30:00",
          "xref": "x3",
          "y0": 0,
          "y1": 1,
          "yref": "y3 domain"
         },
         {
          "fillcolor": "Red",
          "layer": "below",
          "line": {
           "width": 0
          },
          "opacity": 0.3,
          "type": "rect",
          "x0": "2024-06-02T19:30:00",
          "x1": "2024-06-02T19:45:00",
          "xref": "x3",
          "y0": 0,
          "y1": 1,
          "yref": "y3 domain"
         },
         {
          "fillcolor": "Red",
          "layer": "below",
          "line": {
           "width": 0
          },
          "opacity": 0.3,
          "type": "rect",
          "x0": "2024-06-02T19:45:00",
          "x1": "2024-06-02T20:00:00",
          "xref": "x3",
          "y0": 0,
          "y1": 1,
          "yref": "y3 domain"
         },
         {
          "fillcolor": "Green",
          "layer": "below",
          "line": {
           "width": 0
          },
          "opacity": 0.3,
          "type": "rect",
          "x0": "2024-06-02T20:00:00",
          "x1": "2024-06-02T20:15:00",
          "xref": "x3",
          "y0": 0,
          "y1": 1,
          "yref": "y3 domain"
         },
         {
          "fillcolor": "Red",
          "layer": "below",
          "line": {
           "width": 0
          },
          "opacity": 0.3,
          "type": "rect",
          "x0": "2024-06-02T20:30:00",
          "x1": "2024-06-02T20:45:00",
          "xref": "x3",
          "y0": 0,
          "y1": 1,
          "yref": "y3 domain"
         },
         {
          "fillcolor": "Red",
          "layer": "below",
          "line": {
           "width": 0
          },
          "opacity": 0.3,
          "type": "rect",
          "x0": "2024-06-02T20:45:00",
          "x1": "2024-06-02T21:00:00",
          "xref": "x3",
          "y0": 0,
          "y1": 1,
          "yref": "y3 domain"
         },
         {
          "fillcolor": "Red",
          "layer": "below",
          "line": {
           "width": 0
          },
          "opacity": 0.3,
          "type": "rect",
          "x0": "2024-06-02T21:00:00",
          "x1": "2024-06-02T21:15:00",
          "xref": "x3",
          "y0": 0,
          "y1": 1,
          "yref": "y3 domain"
         },
         {
          "fillcolor": "Red",
          "layer": "below",
          "line": {
           "width": 0
          },
          "opacity": 0.04095,
          "type": "rect",
          "x0": "2024-06-02T21:15:00",
          "x1": "2024-06-02T21:30:00",
          "xref": "x3",
          "y0": 0,
          "y1": 1,
          "yref": "y3 domain"
         },
         {
          "fillcolor": "Red",
          "layer": "below",
          "line": {
           "width": 0
          },
          "opacity": 0.3,
          "type": "rect",
          "x0": "2024-06-02T21:30:00",
          "x1": "2024-06-02T21:45:00",
          "xref": "x3",
          "y0": 0,
          "y1": 1,
          "yref": "y3 domain"
         },
         {
          "fillcolor": "Green",
          "layer": "below",
          "line": {
           "width": 0
          },
          "opacity": 0.3,
          "type": "rect",
          "x0": "2024-06-02T22:00:00",
          "x1": "2024-06-02T22:15:00",
          "xref": "x3",
          "y0": 0,
          "y1": 1,
          "yref": "y3 domain"
         },
         {
          "fillcolor": "Red",
          "layer": "below",
          "line": {
           "width": 0
          },
          "opacity": 0.27075,
          "type": "rect",
          "x0": "2024-06-02T22:15:00",
          "x1": "2024-06-02T22:30:00",
          "xref": "x3",
          "y0": 0,
          "y1": 1,
          "yref": "y3 domain"
         },
         {
          "fillcolor": "Green",
          "layer": "below",
          "line": {
           "width": 0
          },
          "opacity": 0.3,
          "type": "rect",
          "x0": "2024-06-02T22:30:00",
          "x1": "2024-06-02T22:45:00",
          "xref": "x3",
          "y0": 0,
          "y1": 1,
          "yref": "y3 domain"
         },
         {
          "fillcolor": "Green",
          "layer": "below",
          "line": {
           "width": 0
          },
          "opacity": 0.3,
          "type": "rect",
          "x0": "2024-06-02T23:00:00",
          "x1": "2024-06-02T23:15:00",
          "xref": "x3",
          "y0": 0,
          "y1": 1,
          "yref": "y3 domain"
         },
         {
          "fillcolor": "Green",
          "layer": "below",
          "line": {
           "width": 0
          },
          "opacity": 0.3,
          "type": "rect",
          "x0": "2024-06-02T23:30:00",
          "x1": "2024-06-02T23:45:00",
          "xref": "x3",
          "y0": 0,
          "y1": 1,
          "yref": "y3 domain"
         },
         {
          "fillcolor": "Green",
          "layer": "below",
          "line": {
           "width": 0
          },
          "opacity": 0.3,
          "type": "rect",
          "x0": "2024-06-02T23:45:00",
          "x1": "2024-06-03T00:00:00",
          "xref": "x3",
          "y0": 0,
          "y1": 1,
          "yref": "y3 domain"
         },
         {
          "fillcolor": "Green",
          "layer": "below",
          "line": {
           "width": 0
          },
          "opacity": 0.164210526,
          "type": "rect",
          "x0": "2024-06-03T00:00:00",
          "x1": "2024-06-03T00:15:00",
          "xref": "x3",
          "y0": 0,
          "y1": 1,
          "yref": "y3 domain"
         }
        ],
        "template": {
         "data": {
          "bar": [
           {
            "error_x": {
             "color": "#2a3f5f"
            },
            "error_y": {
             "color": "#2a3f5f"
            },
            "marker": {
             "line": {
              "color": "#E5ECF6",
              "width": 0.5
             },
             "pattern": {
              "fillmode": "overlay",
              "size": 10,
              "solidity": 0.2
             }
            },
            "type": "bar"
           }
          ],
          "barpolar": [
           {
            "marker": {
             "line": {
              "color": "#E5ECF6",
              "width": 0.5
             },
             "pattern": {
              "fillmode": "overlay",
              "size": 10,
              "solidity": 0.2
             }
            },
            "type": "barpolar"
           }
          ],
          "carpet": [
           {
            "aaxis": {
             "endlinecolor": "#2a3f5f",
             "gridcolor": "white",
             "linecolor": "white",
             "minorgridcolor": "white",
             "startlinecolor": "#2a3f5f"
            },
            "baxis": {
             "endlinecolor": "#2a3f5f",
             "gridcolor": "white",
             "linecolor": "white",
             "minorgridcolor": "white",
             "startlinecolor": "#2a3f5f"
            },
            "type": "carpet"
           }
          ],
          "choropleth": [
           {
            "colorbar": {
             "outlinewidth": 0,
             "ticks": ""
            },
            "type": "choropleth"
           }
          ],
          "contour": [
           {
            "colorbar": {
             "outlinewidth": 0,
             "ticks": ""
            },
            "colorscale": [
             [
              0,
              "#0d0887"
             ],
             [
              0.1111111111111111,
              "#46039f"
             ],
             [
              0.2222222222222222,
              "#7201a8"
             ],
             [
              0.3333333333333333,
              "#9c179e"
             ],
             [
              0.4444444444444444,
              "#bd3786"
             ],
             [
              0.5555555555555556,
              "#d8576b"
             ],
             [
              0.6666666666666666,
              "#ed7953"
             ],
             [
              0.7777777777777778,
              "#fb9f3a"
             ],
             [
              0.8888888888888888,
              "#fdca26"
             ],
             [
              1,
              "#f0f921"
             ]
            ],
            "type": "contour"
           }
          ],
          "contourcarpet": [
           {
            "colorbar": {
             "outlinewidth": 0,
             "ticks": ""
            },
            "type": "contourcarpet"
           }
          ],
          "heatmap": [
           {
            "colorbar": {
             "outlinewidth": 0,
             "ticks": ""
            },
            "colorscale": [
             [
              0,
              "#0d0887"
             ],
             [
              0.1111111111111111,
              "#46039f"
             ],
             [
              0.2222222222222222,
              "#7201a8"
             ],
             [
              0.3333333333333333,
              "#9c179e"
             ],
             [
              0.4444444444444444,
              "#bd3786"
             ],
             [
              0.5555555555555556,
              "#d8576b"
             ],
             [
              0.6666666666666666,
              "#ed7953"
             ],
             [
              0.7777777777777778,
              "#fb9f3a"
             ],
             [
              0.8888888888888888,
              "#fdca26"
             ],
             [
              1,
              "#f0f921"
             ]
            ],
            "type": "heatmap"
           }
          ],
          "histogram": [
           {
            "marker": {
             "pattern": {
              "fillmode": "overlay",
              "size": 10,
              "solidity": 0.2
             }
            },
            "type": "histogram"
           }
          ],
          "histogram2d": [
           {
            "colorbar": {
             "outlinewidth": 0,
             "ticks": ""
            },
            "colorscale": [
             [
              0,
              "#0d0887"
             ],
             [
              0.1111111111111111,
              "#46039f"
             ],
             [
              0.2222222222222222,
              "#7201a8"
             ],
             [
              0.3333333333333333,
              "#9c179e"
             ],
             [
              0.4444444444444444,
              "#bd3786"
             ],
             [
              0.5555555555555556,
              "#d8576b"
             ],
             [
              0.6666666666666666,
              "#ed7953"
             ],
             [
              0.7777777777777778,
              "#fb9f3a"
             ],
             [
              0.8888888888888888,
              "#fdca26"
             ],
             [
              1,
              "#f0f921"
             ]
            ],
            "type": "histogram2d"
           }
          ],
          "histogram2dcontour": [
           {
            "colorbar": {
             "outlinewidth": 0,
             "ticks": ""
            },
            "colorscale": [
             [
              0,
              "#0d0887"
             ],
             [
              0.1111111111111111,
              "#46039f"
             ],
             [
              0.2222222222222222,
              "#7201a8"
             ],
             [
              0.3333333333333333,
              "#9c179e"
             ],
             [
              0.4444444444444444,
              "#bd3786"
             ],
             [
              0.5555555555555556,
              "#d8576b"
             ],
             [
              0.6666666666666666,
              "#ed7953"
             ],
             [
              0.7777777777777778,
              "#fb9f3a"
             ],
             [
              0.8888888888888888,
              "#fdca26"
             ],
             [
              1,
              "#f0f921"
             ]
            ],
            "type": "histogram2dcontour"
           }
          ],
          "mesh3d": [
           {
            "colorbar": {
             "outlinewidth": 0,
             "ticks": ""
            },
            "type": "mesh3d"
           }
          ],
          "parcoords": [
           {
            "line": {
             "colorbar": {
              "outlinewidth": 0,
              "ticks": ""
             }
            },
            "type": "parcoords"
           }
          ],
          "pie": [
           {
            "automargin": true,
            "type": "pie"
           }
          ],
          "scatter": [
           {
            "fillpattern": {
             "fillmode": "overlay",
             "size": 10,
             "solidity": 0.2
            },
            "type": "scatter"
           }
          ],
          "scatter3d": [
           {
            "line": {
             "colorbar": {
              "outlinewidth": 0,
              "ticks": ""
             }
            },
            "marker": {
             "colorbar": {
              "outlinewidth": 0,
              "ticks": ""
             }
            },
            "type": "scatter3d"
           }
          ],
          "scattercarpet": [
           {
            "marker": {
             "colorbar": {
              "outlinewidth": 0,
              "ticks": ""
             }
            },
            "type": "scattercarpet"
           }
          ],
          "scattergeo": [
           {
            "marker": {
             "colorbar": {
              "outlinewidth": 0,
              "ticks": ""
             }
            },
            "type": "scattergeo"
           }
          ],
          "scattergl": [
           {
            "marker": {
             "colorbar": {
              "outlinewidth": 0,
              "ticks": ""
             }
            },
            "type": "scattergl"
           }
          ],
          "scattermap": [
           {
            "marker": {
             "colorbar": {
              "outlinewidth": 0,
              "ticks": ""
             }
            },
            "type": "scattermap"
           }
          ],
          "scattermapbox": [
           {
            "marker": {
             "colorbar": {
              "outlinewidth": 0,
              "ticks": ""
             }
            },
            "type": "scattermapbox"
           }
          ],
          "scatterpolar": [
           {
            "marker": {
             "colorbar": {
              "outlinewidth": 0,
              "ticks": ""
             }
            },
            "type": "scatterpolar"
           }
          ],
          "scatterpolargl": [
           {
            "marker": {
             "colorbar": {
              "outlinewidth": 0,
              "ticks": ""
             }
            },
            "type": "scatterpolargl"
           }
          ],
          "scatterternary": [
           {
            "marker": {
             "colorbar": {
              "outlinewidth": 0,
              "ticks": ""
             }
            },
            "type": "scatterternary"
           }
          ],
          "surface": [
           {
            "colorbar": {
             "outlinewidth": 0,
             "ticks": ""
            },
            "colorscale": [
             [
              0,
              "#0d0887"
             ],
             [
              0.1111111111111111,
              "#46039f"
             ],
             [
              0.2222222222222222,
              "#7201a8"
             ],
             [
              0.3333333333333333,
              "#9c179e"
             ],
             [
              0.4444444444444444,
              "#bd3786"
             ],
             [
              0.5555555555555556,
              "#d8576b"
             ],
             [
              0.6666666666666666,
              "#ed7953"
             ],
             [
              0.7777777777777778,
              "#fb9f3a"
             ],
             [
              0.8888888888888888,
              "#fdca26"
             ],
             [
              1,
              "#f0f921"
             ]
            ],
            "type": "surface"
           }
          ],
          "table": [
           {
            "cells": {
             "fill": {
              "color": "#EBF0F8"
             },
             "line": {
              "color": "white"
             }
            },
            "header": {
             "fill": {
              "color": "#C8D4E3"
             },
             "line": {
              "color": "white"
             }
            },
            "type": "table"
           }
          ]
         },
         "layout": {
          "annotationdefaults": {
           "arrowcolor": "#2a3f5f",
           "arrowhead": 0,
           "arrowwidth": 1
          },
          "autotypenumbers": "strict",
          "coloraxis": {
           "colorbar": {
            "outlinewidth": 0,
            "ticks": ""
           }
          },
          "colorscale": {
           "diverging": [
            [
             0,
             "#8e0152"
            ],
            [
             0.1,
             "#c51b7d"
            ],
            [
             0.2,
             "#de77ae"
            ],
            [
             0.3,
             "#f1b6da"
            ],
            [
             0.4,
             "#fde0ef"
            ],
            [
             0.5,
             "#f7f7f7"
            ],
            [
             0.6,
             "#e6f5d0"
            ],
            [
             0.7,
             "#b8e186"
            ],
            [
             0.8,
             "#7fbc41"
            ],
            [
             0.9,
             "#4d9221"
            ],
            [
             1,
             "#276419"
            ]
           ],
           "sequential": [
            [
             0,
             "#0d0887"
            ],
            [
             0.1111111111111111,
             "#46039f"
            ],
            [
             0.2222222222222222,
             "#7201a8"
            ],
            [
             0.3333333333333333,
             "#9c179e"
            ],
            [
             0.4444444444444444,
             "#bd3786"
            ],
            [
             0.5555555555555556,
             "#d8576b"
            ],
            [
             0.6666666666666666,
             "#ed7953"
            ],
            [
             0.7777777777777778,
             "#fb9f3a"
            ],
            [
             0.8888888888888888,
             "#fdca26"
            ],
            [
             1,
             "#f0f921"
            ]
           ],
           "sequentialminus": [
            [
             0,
             "#0d0887"
            ],
            [
             0.1111111111111111,
             "#46039f"
            ],
            [
             0.2222222222222222,
             "#7201a8"
            ],
            [
             0.3333333333333333,
             "#9c179e"
            ],
            [
             0.4444444444444444,
             "#bd3786"
            ],
            [
             0.5555555555555556,
             "#d8576b"
            ],
            [
             0.6666666666666666,
             "#ed7953"
            ],
            [
             0.7777777777777778,
             "#fb9f3a"
            ],
            [
             0.8888888888888888,
             "#fdca26"
            ],
            [
             1,
             "#f0f921"
            ]
           ]
          },
          "colorway": [
           "#636efa",
           "#EF553B",
           "#00cc96",
           "#ab63fa",
           "#FFA15A",
           "#19d3f3",
           "#FF6692",
           "#B6E880",
           "#FF97FF",
           "#FECB52"
          ],
          "font": {
           "color": "#2a3f5f"
          },
          "geo": {
           "bgcolor": "white",
           "lakecolor": "white",
           "landcolor": "#E5ECF6",
           "showlakes": true,
           "showland": true,
           "subunitcolor": "white"
          },
          "hoverlabel": {
           "align": "left"
          },
          "hovermode": "closest",
          "mapbox": {
           "style": "light"
          },
          "paper_bgcolor": "white",
          "plot_bgcolor": "#E5ECF6",
          "polar": {
           "angularaxis": {
            "gridcolor": "white",
            "linecolor": "white",
            "ticks": ""
           },
           "bgcolor": "#E5ECF6",
           "radialaxis": {
            "gridcolor": "white",
            "linecolor": "white",
            "ticks": ""
           }
          },
          "scene": {
           "xaxis": {
            "backgroundcolor": "#E5ECF6",
            "gridcolor": "white",
            "gridwidth": 2,
            "linecolor": "white",
            "showbackground": true,
            "ticks": "",
            "zerolinecolor": "white"
           },
           "yaxis": {
            "backgroundcolor": "#E5ECF6",
            "gridcolor": "white",
            "gridwidth": 2,
            "linecolor": "white",
            "showbackground": true,
            "ticks": "",
            "zerolinecolor": "white"
           },
           "zaxis": {
            "backgroundcolor": "#E5ECF6",
            "gridcolor": "white",
            "gridwidth": 2,
            "linecolor": "white",
            "showbackground": true,
            "ticks": "",
            "zerolinecolor": "white"
           }
          },
          "shapedefaults": {
           "line": {
            "color": "#2a3f5f"
           }
          },
          "ternary": {
           "aaxis": {
            "gridcolor": "white",
            "linecolor": "white",
            "ticks": ""
           },
           "baxis": {
            "gridcolor": "white",
            "linecolor": "white",
            "ticks": ""
           },
           "bgcolor": "#E5ECF6",
           "caxis": {
            "gridcolor": "white",
            "linecolor": "white",
            "ticks": ""
           }
          },
          "title": {
           "x": 0.05
          },
          "xaxis": {
           "automargin": true,
           "gridcolor": "white",
           "linecolor": "white",
           "ticks": "",
           "title": {
            "standoff": 15
           },
           "zerolinecolor": "white",
           "zerolinewidth": 2
          },
          "yaxis": {
           "automargin": true,
           "gridcolor": "white",
           "linecolor": "white",
           "ticks": "",
           "title": {
            "standoff": 15
           },
           "zerolinecolor": "white",
           "zerolinewidth": 2
          }
         }
        },
        "title": {
         "text": "Battery Optimization Physics Check"
        },
        "xaxis": {
         "anchor": "y",
         "domain": [
          0,
          1
         ],
         "matches": "x",
         "showticklabels": false
        },
        "xaxis2": {
         "anchor": "y2",
         "domain": [
          0,
          1
         ],
         "matches": "x",
         "showticklabels": false
        },
        "xaxis3": {
         "anchor": "y3",
         "domain": [
          0,
          1
         ],
         "matches": "x",
         "showticklabels": false
        },
        "xaxis4": {
         "anchor": "y4",
         "domain": [
          0,
          1
         ],
         "matches": "x",
         "showticklabels": false
        },
        "xaxis5": {
         "anchor": "y5",
         "domain": [
          0,
          1
         ],
         "matches": "x",
         "showticklabels": false
        },
        "xaxis6": {
         "anchor": "y6",
         "domain": [
          0,
          1
         ],
         "matches": "x",
         "showticklabels": false
        },
        "xaxis7": {
         "anchor": "y7",
         "domain": [
          0,
          1
         ],
         "matches": "x",
         "showticklabels": false
        },
        "xaxis8": {
         "anchor": "y8",
         "domain": [
          0,
          1
         ],
         "matches": "x",
         "showticklabels": false
        },
        "xaxis9": {
         "anchor": "y9",
         "domain": [
          0,
          1
         ],
         "matches": "x"
        },
        "yaxis": {
         "anchor": "x",
         "domain": [
          0.9066666666666666,
          1
         ]
        },
        "yaxis2": {
         "anchor": "x2",
         "domain": [
          0.7933333333333333,
          0.8866666666666667
         ]
        },
        "yaxis3": {
         "anchor": "x3",
         "domain": [
          0.6799999999999999,
          0.7733333333333332
         ]
        },
        "yaxis4": {
         "anchor": "x4",
         "domain": [
          0.5666666666666667,
          0.6599999999999999
         ]
        },
        "yaxis5": {
         "anchor": "x5",
         "domain": [
          0.4533333333333333,
          0.5466666666666666
         ]
        },
        "yaxis6": {
         "anchor": "x6",
         "domain": [
          0.33999999999999997,
          0.4333333333333333
         ]
        },
        "yaxis7": {
         "anchor": "x7",
         "domain": [
          0.22666666666666666,
          0.31999999999999995
         ]
        },
        "yaxis8": {
         "anchor": "x8",
         "domain": [
          0.11333333333333333,
          0.20666666666666667
         ]
        },
        "yaxis9": {
         "anchor": "x9",
         "domain": [
          0,
          0.09333333333333332
         ]
        }
       }
      }
     },
     "metadata": {},
     "output_type": "display_data"
    }
   ],
   "source": [
    "fig = make_subplots(\n",
    "    rows=9, cols=1, \n",
    "    shared_xaxes=True,\n",
    "    subplot_titles=(\n",
    "        \"Home Generation & Consumption\",\n",
    "        \"Battery Operations\", \n",
    "        \"Net Grid Flow (Import+ Export-)\",\n",
    "        \"State of Charge\",\n",
    "        \"Price Signal\",\n",
    "        \"Profit Comparison\",\n",
    "        \"Baseline vs Optimized Net Grid\",\n",
    "        \"Cumulative Profit\",\n",
    "        \"Energy Balance Check\",\n",
    "    ),\n",
    "    vertical_spacing=0.02\n",
    ")\n",
    "\n",
    "# Home Generation & Consumption\n",
    "fig.add_trace(go.Scatter(x=df_result.index, y=df_result['HomeGeneration'], name='Home Generation'), row=1, col=1)\n",
    "fig.add_trace(go.Scatter(x=df_result.index, y=df_result['HomeConsumption'], name='Home Consumption'), row=1, col=1)\n",
    "\n",
    "# Battery Operations\n",
    "fig.add_trace(go.Bar(x=df_result.index, y=df_result['BatteryCharge'], name='Battery Charge', width=300000), row=2, col=1)\n",
    "fig.add_trace(go.Bar(x=df_result.index, y=-df_result['BatteryDischarge'], name='Battery Discharge', width=300000), row=2, col=1)\n",
    "\n",
    "# Net Grid Flow with battery operation highlighting\n",
    "fig.add_trace(go.Scatter(x=df_result.index, y=df_result['GridImport'] - df_result['GridExport'], name='Net Grid Flow'), row=3, col=1)\n",
    "\n",
    "max_opacity = 0.3\n",
    "\n",
    "# Add individual time interval highlighting based on battery operations\n",
    "for i, timestamp in enumerate(df_result.index):\n",
    "    charge_rate = df_result['BatteryCharge'].iloc[i]\n",
    "    discharge_rate = df_result['BatteryDischarge'].iloc[i]\n",
    "    \n",
    "    # Calculate next timestamp for rectangle width\n",
    "    if i < len(df_result.index) - 1:\n",
    "        next_timestamp = df_result.index[i + 1]\n",
    "    else:\n",
    "        # For last interval, use same duration as previous\n",
    "        duration = df_result.index[i] - df_result.index[i-1]\n",
    "        next_timestamp = timestamp + duration\n",
    "    \n",
    "    # Charging periods (green)\n",
    "    if charge_rate > 0.01:  # threshold to avoid noise\n",
    "        opacity = min(max_opacity, (charge_rate / battery.max_charge_rate) * max_opacity)\n",
    "        fig.add_vrect(\n",
    "            x0=timestamp, x1=next_timestamp,\n",
    "            fillcolor=\"Green\", opacity=opacity,\n",
    "            layer=\"below\", line_width=0,\n",
    "            row=3, col=1\n",
    "        )\n",
    "    \n",
    "    # Discharging periods (red)  \n",
    "    elif discharge_rate > 0.01:\n",
    "        opacity = min(max_opacity, (discharge_rate / battery.max_discharge_rate) * max_opacity)\n",
    "        fig.add_vrect(\n",
    "            x0=timestamp, x1=next_timestamp,\n",
    "            fillcolor=\"Red\", opacity=opacity,\n",
    "            layer=\"below\", line_width=0,\n",
    "            row=3, col=1\n",
    "        )\n",
    "\n",
    "# State of Charge\n",
    "fig.add_trace(go.Scatter(x=df_result.index, y=df_result['SoC'], name='Battery SoC'), row=4, col=1)\n",
    "\n",
    "# Price Signal\n",
    "fig.add_trace(go.Scatter(x=df_result.index, y=df_result['PriceSignal'], name='Price Signal'), row=5, col=1)\n",
    "\n",
    "# Profit Comparison\n",
    "fig.add_trace(go.Scatter(x=df_result.index, y=df_result['BaselineProfit'], name='Baseline Profit'), row=6, col=1)\n",
    "fig.add_trace(go.Scatter(x=df_result.index, y=df_result['BatteryProfit'], name='Battery Profit'), row=6, col=1)\n",
    "\n",
    "# Baseline vs Optimized Net Grid\n",
    "fig.add_trace(go.Scatter(x=df_result.index, y=df_result['BaselineGridImport'] - df_result['BaselineGridExport'], name='Baseline Net Grid'), row=7, col=1)\n",
    "fig.add_trace(go.Scatter(x=df_result.index, y=df_result['GridImport'] - df_result['GridExport'], name='Optimized Net Grid'), row=7, col=1)\n",
    "\n",
    "# Cumulative Profit\n",
    "fig.add_trace(go.Scatter(x=df_result.index, y=df_result['BaselineCumulativeProfit'], name='Baseline Cumulative'), row=8, col=1)\n",
    "fig.add_trace(go.Scatter(x=df_result.index, y=df_result['BatteryCumulativeProfit'], name='Battery Cumulative'), row=8, col=1)\n",
    "\n",
    "# Energy Balance Check\n",
    "energy_balance = df_result['HomeGeneration'] - df_result['HomeConsumption'] + df_result['BatteryDischarge'] - df_result['BatteryCharge'] - df_result['GridExport'] + df_result['GridImport']\n",
    "fig.add_trace(go.Scatter(x=df_result.index, y=energy_balance, name='Energy Balance'), row=9, col=1)\n",
    "\n",
    "fig.update_layout(\n",
    "    height=2000, \n",
    "    title=\"Battery Optimization Physics Check\",\n",
    "    hovermode='x unified'\n",
    ")\n",
    "\n",
    "fig.update_xaxes(matches='x')\n"
   ]
  }
 ],
 "metadata": {
  "kernelspec": {
   "display_name": "energy-api",
   "language": "python",
   "name": "python3"
  },
  "language_info": {
   "codemirror_mode": {
    "name": "ipython",
    "version": 3
   },
   "file_extension": ".py",
   "mimetype": "text/x-python",
   "name": "python",
   "nbconvert_exporter": "python",
   "pygments_lexer": "ipython3",
   "version": "3.12.2"
  }
 },
 "nbformat": 4,
 "nbformat_minor": 5
}
